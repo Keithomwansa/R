{
 "cells": [
  {
   "cell_type": "code",
   "execution_count": 1,
   "id": "00ee6e38-b6c9-459a-bd83-8bffe0417bb8",
   "metadata": {},
   "outputs": [],
   "source": [
    "#Everything that you manipulate in R is called an object.\n",
    "#One of the attributes in objects is called the class of the object.\n",
    "# The class of an object is the data type of this object.\n",
    "# The various classes (data types) of objects in R are important\n",
    "# The most common classes (data types) of objects in R are:\n",
    "\n",
    "# numeric (real numbers)\n",
    "# character\n",
    "# integer\n",
    "# logical (True/False)\n",
    "# complex\n"
   ]
  },
  {
   "cell_type": "code",
   "execution_count": 2,
   "id": "05f5dc4b-8532-4105-a068-67986a10ab3a",
   "metadata": {},
   "outputs": [
    {
     "data": {
      "text/html": [
       "<style>\n",
       ".list-inline {list-style: none; margin:0; padding: 0}\n",
       ".list-inline>li {display: inline-block}\n",
       ".list-inline>li:not(:last-child)::after {content: \"\\00b7\"; padding: 0 .5ex}\n",
       "</style>\n",
       "<ol class=list-inline><li>8.3</li><li>5.2</li><li>9.3</li><li>8</li></ol>\n"
      ],
      "text/latex": [
       "\\begin{enumerate*}\n",
       "\\item 8.3\n",
       "\\item 5.2\n",
       "\\item 9.3\n",
       "\\item 8\n",
       "\\end{enumerate*}\n"
      ],
      "text/markdown": [
       "1. 8.3\n",
       "2. 5.2\n",
       "3. 9.3\n",
       "4. 8\n",
       "\n",
       "\n"
      ],
      "text/plain": [
       "[1] 8.3 5.2 9.3 8.0"
      ]
     },
     "metadata": {},
     "output_type": "display_data"
    },
    {
     "data": {
      "text/html": [
       "'numeric'"
      ],
      "text/latex": [
       "'numeric'"
      ],
      "text/markdown": [
       "'numeric'"
      ],
      "text/plain": [
       "[1] \"numeric\""
      ]
     },
     "metadata": {},
     "output_type": "display_data"
    }
   ],
   "source": [
    "# create a variable from the average rating of some movies and then find which data types they belong to:\n",
    "movie_rating <- c(8.3, 5.2, 9.3, 8.0) # create a vector from average ratings \n",
    "movie_rating # print the variable\n",
    "\n",
    "class(movie_rating) # show the variable's data type"
   ]
  },
  {
   "cell_type": "code",
   "execution_count": 3,
   "id": "444e4c09-a452-4e6e-8232-c93b9e1ac13b",
   "metadata": {},
   "outputs": [
    {
     "data": {
      "text/html": [
       "8.3"
      ],
      "text/latex": [
       "8.3"
      ],
      "text/markdown": [
       "8.3"
      ],
      "text/plain": [
       "[1] 8.3"
      ]
     },
     "metadata": {},
     "output_type": "display_data"
    }
   ],
   "source": [
    "# A vector can only contain objects of the same class. However, a list can have different data types.\n",
    "#decimal values are called numerics\n",
    "\n",
    "average_rating <- 8.3       # assign a decimal value\n",
    "average_rating "
   ]
  },
  {
   "cell_type": "code",
   "execution_count": 4,
   "id": "c9a51a5b-5581-439c-97ec-c2ae9e85dc01",
   "metadata": {},
   "outputs": [
    {
     "data": {
      "text/html": [
       "'numeric'"
      ],
      "text/latex": [
       "'numeric'"
      ],
      "text/markdown": [
       "'numeric'"
      ],
      "text/plain": [
       "[1] \"numeric\""
      ]
     },
     "metadata": {},
     "output_type": "display_data"
    }
   ],
   "source": [
    "class(average_rating)      "
   ]
  },
  {
   "cell_type": "code",
   "execution_count": 5,
   "id": "bb6dc2a0-c066-4d62-8f7c-367c44bd86dc",
   "metadata": {},
   "outputs": [
    {
     "data": {
      "text/html": [
       "<style>\n",
       ".list-inline {list-style: none; margin:0; padding: 0}\n",
       ".list-inline>li {display: inline-block}\n",
       ".list-inline>li:not(:last-child)::after {content: \"\\00b7\"; padding: 0 .5ex}\n",
       "</style>\n",
       "<ol class=list-inline><li>'Toy Story'</li><li>'Akira'</li><li>'The Breakfast Club'</li><li>'The Artist'</li></ol>\n"
      ],
      "text/latex": [
       "\\begin{enumerate*}\n",
       "\\item 'Toy Story'\n",
       "\\item 'Akira'\n",
       "\\item 'The Breakfast Club'\n",
       "\\item 'The Artist'\n",
       "\\end{enumerate*}\n"
      ],
      "text/markdown": [
       "1. 'Toy Story'\n",
       "2. 'Akira'\n",
       "3. 'The Breakfast Club'\n",
       "4. 'The Artist'\n",
       "\n",
       "\n"
      ],
      "text/plain": [
       "[1] \"Toy Story\"          \"Akira\"              \"The Breakfast Club\"\n",
       "[4] \"The Artist\"        "
      ]
     },
     "metadata": {},
     "output_type": "display_data"
    },
    {
     "data": {
      "text/html": [
       "'character'"
      ],
      "text/latex": [
       "'character'"
      ],
      "text/markdown": [
       "'character'"
      ],
      "text/plain": [
       "[1] \"character\""
      ]
     },
     "metadata": {},
     "output_type": "display_data"
    }
   ],
   "source": [
    "#a character object represents string values\n",
    "movies <-c(\"Toy Story\", \"Akira\", \"The Breakfast Club\", \"The Artist\")\n",
    "movies\n",
    "class(movies)"
   ]
  },
  {
   "cell_type": "code",
   "execution_count": 7,
   "id": "58370a40-5ff0-4391-a38d-7949046976d6",
   "metadata": {},
   "outputs": [
    {
     "data": {
      "text/html": [
       "<style>\n",
       ".list-inline {list-style: none; margin:0; padding: 0}\n",
       ".list-inline>li {display: inline-block}\n",
       ".list-inline>li:not(:last-child)::after {content: \"\\00b7\"; padding: 0 .5ex}\n",
       "</style>\n",
       "<ol class=list-inline><li>'Toy Story'</li><li>'1995'</li><li>'Akira'</li><li>'1998'</li></ol>\n"
      ],
      "text/latex": [
       "\\begin{enumerate*}\n",
       "\\item 'Toy Story'\n",
       "\\item '1995'\n",
       "\\item 'Akira'\n",
       "\\item '1998'\n",
       "\\end{enumerate*}\n"
      ],
      "text/markdown": [
       "1. 'Toy Story'\n",
       "2. '1995'\n",
       "3. 'Akira'\n",
       "4. '1998'\n",
       "\n",
       "\n"
      ],
      "text/plain": [
       "[1] \"Toy Story\" \"1995\"      \"Akira\"     \"1998\"     "
      ]
     },
     "metadata": {},
     "output_type": "display_data"
    },
    {
     "data": {
      "text/html": [
       "'character'"
      ],
      "text/latex": [
       "'character'"
      ],
      "text/markdown": [
       "'character'"
      ],
      "text/plain": [
       "[1] \"character\""
      ]
     },
     "metadata": {},
     "output_type": "display_data"
    }
   ],
   "source": [
    "#if numbers and texts are combined in a vector, everything is converted to the class character\n",
    "\n",
    "combined <- c(\"Toy Story\", 1995, \"Akira\", 1998)\n",
    "combined\n",
    "class(combined)"
   ]
  },
  {
   "cell_type": "code",
   "execution_count": 8,
   "id": "5ad46735-902f-4f99-b1da-f65c30d77738",
   "metadata": {},
   "outputs": [
    {
     "data": {
      "text/html": [
       "<style>\n",
       ".list-inline {list-style: none; margin:0; padding: 0}\n",
       ".list-inline>li {display: inline-block}\n",
       ".list-inline>li:not(:last-child)::after {content: \"\\00b7\"; padding: 0 .5ex}\n",
       "</style>\n",
       "<ol class=list-inline><li>80</li><li>110</li><li>90</li><li>80</li></ol>\n"
      ],
      "text/latex": [
       "\\begin{enumerate*}\n",
       "\\item 80\n",
       "\\item 110\n",
       "\\item 90\n",
       "\\item 80\n",
       "\\end{enumerate*}\n"
      ],
      "text/markdown": [
       "1. 80\n",
       "2. 110\n",
       "3. 90\n",
       "4. 80\n",
       "\n",
       "\n"
      ],
      "text/plain": [
       "[1]  80 110  90  80"
      ]
     },
     "metadata": {},
     "output_type": "display_data"
    },
    {
     "data": {
      "text/html": [
       "'numeric'"
      ],
      "text/latex": [
       "'numeric'"
      ],
      "text/markdown": [
       "'numeric'"
      ],
      "text/plain": [
       "[1] \"numeric\""
      ]
     },
     "metadata": {},
     "output_type": "display_data"
    }
   ],
   "source": [
    "#numbers are saved as numerics by default\n",
    "\n",
    "movie_length <- c(80, 110, 90, 80) # create a vector from movie length\n",
    "movie_length # print the variable\n",
    "class(movie_length)\n"
   ]
  },
  {
   "cell_type": "code",
   "execution_count": 9,
   "id": "3818e024-0c21-412c-b470-bdae231c6c03",
   "metadata": {},
   "outputs": [
    {
     "data": {
      "text/html": [
       "<style>\n",
       ".list-inline {list-style: none; margin:0; padding: 0}\n",
       ".list-inline>li {display: inline-block}\n",
       ".list-inline>li:not(:last-child)::after {content: \"\\00b7\"; padding: 0 .5ex}\n",
       "</style>\n",
       "<ol class=list-inline><li>12</li><li>10</li><li>18</li><li>18</li></ol>\n"
      ],
      "text/latex": [
       "\\begin{enumerate*}\n",
       "\\item 12\n",
       "\\item 10\n",
       "\\item 18\n",
       "\\item 18\n",
       "\\end{enumerate*}\n"
      ],
      "text/markdown": [
       "1. 12\n",
       "2. 10\n",
       "3. 18\n",
       "4. 18\n",
       "\n",
       "\n"
      ],
      "text/plain": [
       "[1] 12 10 18 18"
      ]
     },
     "metadata": {},
     "output_type": "display_data"
    },
    {
     "data": {
      "text/html": [
       "'numeric'"
      ],
      "text/latex": [
       "'numeric'"
      ],
      "text/markdown": [
       "'numeric'"
      ],
      "text/plain": [
       "[1] \"numeric\""
      ]
     },
     "metadata": {},
     "output_type": "display_data"
    }
   ],
   "source": [
    "#integers\n",
    "\n",
    "age_restriction <- c(12, 10, 18, 18) # create a vector from age restriction\n",
    "age_restriction # print the vector\n",
    "\n",
    "class(age_restriction)\n",
    "\n"
   ]
  },
  {
   "cell_type": "code",
   "execution_count": 10,
   "id": "c81f4c03-4d45-41ad-b86e-d89a8a9b44bc",
   "metadata": {},
   "outputs": [
    {
     "data": {
      "text/html": [
       "'integer'"
      ],
      "text/latex": [
       "'integer'"
      ],
      "text/markdown": [
       "'integer'"
      ],
      "text/plain": [
       "[1] \"integer\""
      ]
     },
     "metadata": {},
     "output_type": "display_data"
    }
   ],
   "source": [
    "#convert to integer\n",
    "\n",
    "integer_vector <- as.integer(age_restriction)\n",
    "class(integer_vector)"
   ]
  },
  {
   "cell_type": "code",
   "execution_count": 11,
   "id": "48dec08f-b5ed-42e7-aa40-fe366acfc125",
   "metadata": {},
   "outputs": [
    {
     "data": {
      "text/html": [
       "'logical'"
      ],
      "text/latex": [
       "'logical'"
      ],
      "text/markdown": [
       "'logical'"
      ],
      "text/plain": [
       "[1] \"logical\""
      ]
     },
     "metadata": {},
     "output_type": "display_data"
    }
   ],
   "source": [
    "#logical class\n",
    "\n",
    "logical_vector <- c(T,F,F,T,T) # creating the vector\n",
    "class(logical_vector)"
   ]
  },
  {
   "cell_type": "code",
   "execution_count": 12,
   "id": "db01f054-7c91-45de-8f13-592007153467",
   "metadata": {},
   "outputs": [
    {
     "data": {
      "text/html": [
       "FALSE"
      ],
      "text/latex": [
       "FALSE"
      ],
      "text/markdown": [
       "FALSE"
      ],
      "text/plain": [
       "[1] FALSE"
      ]
     },
     "metadata": {},
     "output_type": "display_data"
    }
   ],
   "source": [
    "#logical values are created by comparison\n",
    "\n",
    "length_Akira <- 125\n",
    "length_ToyStory <- 81\n",
    "\n",
    "#comparison\n",
    "x <- length_ToyStory > length_Akira      # is ToyStory larger than akira? \n",
    "x              "
   ]
  },
  {
   "cell_type": "code",
   "execution_count": 13,
   "id": "f9c23171-609c-4c10-b32a-4ee341acbe9c",
   "metadata": {},
   "outputs": [
    {
     "data": {
      "text/html": [
       "TRUE"
      ],
      "text/latex": [
       "TRUE"
      ],
      "text/markdown": [
       "TRUE"
      ],
      "text/plain": [
       "[1] TRUE"
      ]
     },
     "metadata": {},
     "output_type": "display_data"
    }
   ],
   "source": [
    "x <- length_Akira > length_ToyStory # is akira larger than ToyStory?               \n",
    "x # print the logical value"
   ]
  },
  {
   "cell_type": "code",
   "execution_count": 15,
   "id": "42b55738-f13e-46a7-97dc-7e49f1192dd9",
   "metadata": {},
   "outputs": [
    {
     "data": {
      "text/html": [
       "'logical'"
      ],
      "text/latex": [
       "'logical'"
      ],
      "text/markdown": [
       "'logical'"
      ],
      "text/plain": [
       "[1] \"logical\""
      ]
     },
     "metadata": {},
     "output_type": "display_data"
    }
   ],
   "source": [
    "#variable obtained from comparison is logical in nature\n",
    "class(x)       # print the class name of x"
   ]
  },
  {
   "cell_type": "code",
   "execution_count": 16,
   "id": "665962c0-b415-4629-9aaf-513abd6f7d62",
   "metadata": {},
   "outputs": [
    {
     "data": {
      "text/html": [
       "8+6i"
      ],
      "text/latex": [
       "8+6i"
      ],
      "text/markdown": [
       "8+6i"
      ],
      "text/plain": [
       "[1] 8+6i"
      ]
     },
     "metadata": {},
     "output_type": "display_data"
    }
   ],
   "source": [
    "#complex numbers\n",
    "# A complex number is a number that can be expressed in the form a + bi,\n",
    "# where a and b are real numbers and i is the imaginary unit.\n",
    "\n",
    "z = 8 + 6i     # create a complex number \n",
    "z"
   ]
  },
  {
   "cell_type": "code",
   "execution_count": 17,
   "id": "4c98726c-abdd-439b-9d6c-791b45ff6e86",
   "metadata": {},
   "outputs": [
    {
     "data": {
      "text/html": [
       "'complex'"
      ],
      "text/latex": [
       "'complex'"
      ],
      "text/markdown": [
       "'complex'"
      ],
      "text/plain": [
       "[1] \"complex\""
      ]
     },
     "metadata": {},
     "output_type": "display_data"
    }
   ],
   "source": [
    "class(z)"
   ]
  },
  {
   "cell_type": "code",
   "execution_count": 18,
   "id": "f3bff351-6b45-404b-88b3-144ee796127c",
   "metadata": {},
   "outputs": [
    {
     "data": {
      "text/html": [
       "'1995'"
      ],
      "text/latex": [
       "'1995'"
      ],
      "text/markdown": [
       "'1995'"
      ],
      "text/plain": [
       "[1] \"1995\""
      ]
     },
     "metadata": {},
     "output_type": "display_data"
    }
   ],
   "source": [
    "#convert class into a different data type\n",
    "\n",
    "year <- as.character(1995) # convert integer into character data type\n",
    "year                    # print the value of year in character data type"
   ]
  },
  {
   "cell_type": "code",
   "execution_count": 19,
   "id": "14bbffc8-8563-4724-8d52-049fcce926ff",
   "metadata": {},
   "outputs": [
    {
     "data": {
      "text/html": [
       "'numeric'"
      ],
      "text/latex": [
       "'numeric'"
      ],
      "text/markdown": [
       "'numeric'"
      ],
      "text/plain": [
       "[1] \"numeric\""
      ]
     },
     "metadata": {},
     "output_type": "display_data"
    }
   ],
   "source": [
    "#creating an integer\n",
    "Length_ToyStory <- 81\n",
    "class(81)"
   ]
  },
  {
   "cell_type": "code",
   "execution_count": 20,
   "id": "a75361f7-5759-4196-b708-5224c90a2507",
   "metadata": {},
   "outputs": [
    {
     "data": {
      "text/html": [
       "'integer'"
      ],
      "text/latex": [
       "'integer'"
      ],
      "text/markdown": [
       "'integer'"
      ],
      "text/plain": [
       "[1] \"integer\""
      ]
     },
     "metadata": {},
     "output_type": "display_data"
    }
   ],
   "source": [
    "length_ToyStory <- as.integer(81) \n",
    "class(length_ToyStory)       # print the class name of length_ToyStory"
   ]
  },
  {
   "cell_type": "code",
   "execution_count": 21,
   "id": "c9182168-d4e3-4b81-bd5e-3a5c945c0ce5",
   "metadata": {},
   "outputs": [
    {
     "data": {
      "text/html": [
       "'character'"
      ],
      "text/latex": [
       "'character'"
      ],
      "text/markdown": [
       "'character'"
      ],
      "text/plain": [
       "[1] \"character\""
      ]
     },
     "metadata": {},
     "output_type": "display_data"
    },
    {
     "data": {
      "text/html": [
       "'character'"
      ],
      "text/latex": [
       "'character'"
      ],
      "text/markdown": [
       "'character'"
      ],
      "text/plain": [
       "[1] \"character\""
      ]
     },
     "metadata": {},
     "output_type": "display_data"
    }
   ],
   "source": [
    "#Class & Mode\n",
    "# For a simple vector, the class and mode of the vector are the same thing:\n",
    "# the data type of the values inside the vector (character, numeric, integer, etc). \n",
    "# However, in some of other objects such as matrix, array, data frame, and list, \n",
    "# class and mode means different things.\n",
    "\n",
    "#finding class and mode\n",
    "movies <- c(\"Toy Story\", \"Akira\", \"The Breakfast Club\", \"The Artist\") # creating two vectors\n",
    "genre <- c(\"Animation/Adventure/Comedy\", \"Animation/Adventure/Comedy\", \"Comedy/Drama\", \"Comedy/Drama\")\n",
    "\n",
    "class(movies)\n",
    "mode(movies)"
   ]
  },
  {
   "cell_type": "code",
   "execution_count": 22,
   "id": "209e16be-3312-4ad2-bb16-0bee179e3f24",
   "metadata": {},
   "outputs": [
    {
     "data": {
      "text/html": [
       "<table>\n",
       "<caption>A matrix: 4 × 2 of type chr</caption>\n",
       "<thead>\n",
       "\t<tr><th scope=col>movies</th><th scope=col>genre</th></tr>\n",
       "</thead>\n",
       "<tbody>\n",
       "\t<tr><td>Toy Story         </td><td>Animation/Adventure/Comedy</td></tr>\n",
       "\t<tr><td>Akira             </td><td>Animation/Adventure/Comedy</td></tr>\n",
       "\t<tr><td>The Breakfast Club</td><td>Comedy/Drama              </td></tr>\n",
       "\t<tr><td>The Artist        </td><td>Comedy/Drama              </td></tr>\n",
       "</tbody>\n",
       "</table>\n"
      ],
      "text/latex": [
       "A matrix: 4 × 2 of type chr\n",
       "\\begin{tabular}{ll}\n",
       " movies & genre\\\\\n",
       "\\hline\n",
       "\t Toy Story          & Animation/Adventure/Comedy\\\\\n",
       "\t Akira              & Animation/Adventure/Comedy\\\\\n",
       "\t The Breakfast Club & Comedy/Drama              \\\\\n",
       "\t The Artist         & Comedy/Drama              \\\\\n",
       "\\end{tabular}\n"
      ],
      "text/markdown": [
       "\n",
       "A matrix: 4 × 2 of type chr\n",
       "\n",
       "| movies | genre |\n",
       "|---|---|\n",
       "| Toy Story          | Animation/Adventure/Comedy |\n",
       "| Akira              | Animation/Adventure/Comedy |\n",
       "| The Breakfast Club | Comedy/Drama               |\n",
       "| The Artist         | Comedy/Drama               |\n",
       "\n"
      ],
      "text/plain": [
       "     movies             genre                     \n",
       "[1,] Toy Story          Animation/Adventure/Comedy\n",
       "[2,] Akira              Animation/Adventure/Comedy\n",
       "[3,] The Breakfast Club Comedy/Drama              \n",
       "[4,] The Artist         Comedy/Drama              "
      ]
     },
     "metadata": {},
     "output_type": "display_data"
    }
   ],
   "source": [
    "movies_genre <- cbind(movies, genre)\n",
    "movies_genre "
   ]
  },
  {
   "cell_type": "code",
   "execution_count": 23,
   "id": "a13fbc26-b517-431b-bf5d-2eb791494ab7",
   "metadata": {},
   "outputs": [
    {
     "data": {
      "text/html": [
       "'matrix'"
      ],
      "text/latex": [
       "'matrix'"
      ],
      "text/markdown": [
       "'matrix'"
      ],
      "text/plain": [
       "[1] \"matrix\""
      ]
     },
     "metadata": {},
     "output_type": "display_data"
    },
    {
     "data": {
      "text/html": [
       "'character'"
      ],
      "text/latex": [
       "'character'"
      ],
      "text/markdown": [
       "'character'"
      ],
      "text/plain": [
       "[1] \"character\""
      ]
     },
     "metadata": {},
     "output_type": "display_data"
    }
   ],
   "source": [
    "class(movies_genre)\n",
    "\n",
    "mode(movies_genre)"
   ]
  },
  {
   "cell_type": "code",
   "execution_count": 24,
   "id": "c5b2e1b5-eb1c-44de-a5f7-023f85c93e3a",
   "metadata": {},
   "outputs": [
    {
     "data": {
      "text/html": [
       "<style>\n",
       ".list-inline {list-style: none; margin:0; padding: 0}\n",
       ".list-inline>li {display: inline-block}\n",
       ".list-inline>li:not(:last-child)::after {content: \"\\00b7\"; padding: 0 .5ex}\n",
       "</style>\n",
       "<ol class=list-inline><li>1</li><li>2</li><li>3</li><li>4</li><li>5</li><li>6</li><li>7</li><li>8</li><li>9</li><li>10</li><li>11</li><li>12</li></ol>\n"
      ],
      "text/latex": [
       "\\begin{enumerate*}\n",
       "\\item 1\n",
       "\\item 2\n",
       "\\item 3\n",
       "\\item 4\n",
       "\\item 5\n",
       "\\item 6\n",
       "\\item 7\n",
       "\\item 8\n",
       "\\item 9\n",
       "\\item 10\n",
       "\\item 11\n",
       "\\item 12\n",
       "\\end{enumerate*}\n"
      ],
      "text/markdown": [
       "1. 1\n",
       "2. 2\n",
       "3. 3\n",
       "4. 4\n",
       "5. 5\n",
       "6. 6\n",
       "7. 7\n",
       "8. 8\n",
       "9. 9\n",
       "10. 10\n",
       "11. 11\n",
       "12. 12\n",
       "\n",
       "\n"
      ],
      "text/plain": [
       ", , 1\n",
       "\n",
       "     [,1] [,2]\n",
       "[1,]    1    4\n",
       "[2,]    2    5\n",
       "[3,]    3    6\n",
       "\n",
       ", , 2\n",
       "\n",
       "     [,1] [,2]\n",
       "[1,]    7   10\n",
       "[2,]    8   11\n",
       "[3,]    9   12\n"
      ]
     },
     "metadata": {},
     "output_type": "display_data"
    },
    {
     "data": {
      "text/html": [
       "'array'"
      ],
      "text/latex": [
       "'array'"
      ],
      "text/markdown": [
       "'array'"
      ],
      "text/plain": [
       "[1] \"array\""
      ]
     },
     "metadata": {},
     "output_type": "display_data"
    },
    {
     "data": {
      "text/html": [
       "'numeric'"
      ],
      "text/latex": [
       "'numeric'"
      ],
      "text/markdown": [
       "'numeric'"
      ],
      "text/plain": [
       "[1] \"numeric\""
      ]
     },
     "metadata": {},
     "output_type": "display_data"
    }
   ],
   "source": [
    "##Arrays\n",
    "#arrays can store matrices as elements\n",
    "\n",
    "sample_array <- array(1:12, dim = c(3, 2, 2)) # create an array with dimensions 3 x 2 x 2 \n",
    "sample_array\n",
    "class(sample_array)\n",
    "mode(sample_array)"
   ]
  },
  {
   "cell_type": "code",
   "execution_count": 25,
   "id": "0480827b-4efa-4305-8f2b-9fcb00cb8ac1",
   "metadata": {},
   "outputs": [
    {
     "data": {
      "text/html": [
       "<table>\n",
       "<caption>A data.frame: 4 × 3</caption>\n",
       "<thead>\n",
       "\t<tr><th></th><th scope=col>Name</th><th scope=col>Year</th><th scope=col>Length</th></tr>\n",
       "\t<tr><th></th><th scope=col>&lt;fct&gt;</th><th scope=col>&lt;dbl&gt;</th><th scope=col>&lt;dbl&gt;</th></tr>\n",
       "</thead>\n",
       "<tbody>\n",
       "\t<tr><th scope=row>Movie 1</th><td>Toy Story         </td><td>1995</td><td> 81</td></tr>\n",
       "\t<tr><th scope=row>Movie 2</th><td>Akira             </td><td>1998</td><td>125</td></tr>\n",
       "\t<tr><th scope=row>Movie 3</th><td>The Breakfast Club</td><td>1985</td><td> 97</td></tr>\n",
       "\t<tr><th scope=row>Movie 4</th><td>The Artist        </td><td>2011</td><td>100</td></tr>\n",
       "</tbody>\n",
       "</table>\n"
      ],
      "text/latex": [
       "A data.frame: 4 × 3\n",
       "\\begin{tabular}{r|lll}\n",
       "  & Name & Year & Length\\\\\n",
       "  & <fct> & <dbl> & <dbl>\\\\\n",
       "\\hline\n",
       "\tMovie 1 & Toy Story          & 1995 &  81\\\\\n",
       "\tMovie 2 & Akira              & 1998 & 125\\\\\n",
       "\tMovie 3 & The Breakfast Club & 1985 &  97\\\\\n",
       "\tMovie 4 & The Artist         & 2011 & 100\\\\\n",
       "\\end{tabular}\n"
      ],
      "text/markdown": [
       "\n",
       "A data.frame: 4 × 3\n",
       "\n",
       "| <!--/--> | Name &lt;fct&gt; | Year &lt;dbl&gt; | Length &lt;dbl&gt; |\n",
       "|---|---|---|---|\n",
       "| Movie 1 | Toy Story          | 1995 |  81 |\n",
       "| Movie 2 | Akira              | 1998 | 125 |\n",
       "| Movie 3 | The Breakfast Club | 1985 |  97 |\n",
       "| Movie 4 | The Artist         | 2011 | 100 |\n",
       "\n"
      ],
      "text/plain": [
       "        Name               Year Length\n",
       "Movie 1 Toy Story          1995  81   \n",
       "Movie 2 Akira              1998 125   \n",
       "Movie 3 The Breakfast Club 1985  97   \n",
       "Movie 4 The Artist         2011 100   "
      ]
     },
     "metadata": {},
     "output_type": "display_data"
    },
    {
     "data": {
      "text/html": [
       "'data.frame'"
      ],
      "text/latex": [
       "'data.frame'"
      ],
      "text/markdown": [
       "'data.frame'"
      ],
      "text/plain": [
       "[1] \"data.frame\""
      ]
     },
     "metadata": {},
     "output_type": "display_data"
    }
   ],
   "source": [
    "#Data Frame\n",
    "#are similar to arrays but allow to associate each row and each column with a name.\n",
    "\n",
    "Name <- c(\"Toy Story\", \"Akira\", \"The Breakfast Club\", \"The Artist\")\n",
    "Year <- c(1995, 1998, 1985, 2011)\n",
    "Length <- c(81, 125, 97, 100)\n",
    "RowNames = c(\"Movie 1\", \"Movie 2\", \"Movie 3\", \"Movie 4\")\n",
    "\n",
    "sample_DataFrame <- data.frame(Name, Year, Length, row.names=RowNames) \n",
    "sample_DataFrame\n",
    "\n",
    "class(sample_DataFrame)"
   ]
  },
  {
   "cell_type": "code",
   "execution_count": 27,
   "id": "64e777d8-9ddc-408b-8811-1481b31f2584",
   "metadata": {},
   "outputs": [
    {
     "data": {
      "text/html": [
       "<ol>\n",
       "\t<li>'Star Wars'</li>\n",
       "\t<li>8.7</li>\n",
       "\t<li>TRUE</li>\n",
       "</ol>\n"
      ],
      "text/latex": [
       "\\begin{enumerate}\n",
       "\\item 'Star Wars'\n",
       "\\item 8.7\n",
       "\\item TRUE\n",
       "\\end{enumerate}\n"
      ],
      "text/markdown": [
       "1. 'Star Wars'\n",
       "2. 8.7\n",
       "3. TRUE\n",
       "\n",
       "\n"
      ],
      "text/plain": [
       "[[1]]\n",
       "[1] \"Star Wars\"\n",
       "\n",
       "[[2]]\n",
       "[1] 8.7\n",
       "\n",
       "[[3]]\n",
       "[1] TRUE\n"
      ]
     },
     "metadata": {},
     "output_type": "display_data"
    },
    {
     "data": {
      "text/html": [
       "'list'"
      ],
      "text/latex": [
       "'list'"
      ],
      "text/markdown": [
       "'list'"
      ],
      "text/plain": [
       "[1] \"list\""
      ]
     },
     "metadata": {},
     "output_type": "display_data"
    }
   ],
   "source": [
    "##Lists: can contain multiple data types\n",
    "sample_list = list(\"Star Wars\", 8.7, TRUE)\n",
    "sample_list\n",
    "\n",
    "class(sample_list)"
   ]
  },
  {
   "cell_type": "code",
   "execution_count": 28,
   "id": "64c12efc-6d4e-4030-8d9d-0a02ea8265ea",
   "metadata": {},
   "outputs": [
    {
     "data": {
      "text/html": [
       "<style>\n",
       ".list-inline {list-style: none; margin:0; padding: 0}\n",
       ".list-inline>li {display: inline-block}\n",
       ".list-inline>li:not(:last-child)::after {content: \"\\00b7\"; padding: 0 .5ex}\n",
       "</style>\n",
       "<ol class=list-inline><li>8.3</li><li>8.1</li><li>7.9</li><li>8</li><li>30</li><li>10.4</li><li>1</li><li>15</li></ol>\n"
      ],
      "text/latex": [
       "\\begin{enumerate*}\n",
       "\\item 8.3\n",
       "\\item 8.1\n",
       "\\item 7.9\n",
       "\\item 8\n",
       "\\item 30\n",
       "\\item 10.4\n",
       "\\item 1\n",
       "\\item 15\n",
       "\\end{enumerate*}\n"
      ],
      "text/markdown": [
       "1. 8.3\n",
       "2. 8.1\n",
       "3. 7.9\n",
       "4. 8\n",
       "5. 30\n",
       "6. 10.4\n",
       "7. 1\n",
       "8. 15\n",
       "\n",
       "\n"
      ],
      "text/plain": [
       "[1]  8.3  8.1  7.9  8.0 30.0 10.4  1.0 15.0"
      ]
     },
     "metadata": {},
     "output_type": "display_data"
    },
    {
     "data": {
      "text/html": [
       "<table>\n",
       "<caption>A matrix: 4 × 2 of type dbl</caption>\n",
       "<tbody>\n",
       "\t<tr><td>8.3</td><td>30.0</td></tr>\n",
       "\t<tr><td>8.1</td><td>10.4</td></tr>\n",
       "\t<tr><td>7.9</td><td> 1.0</td></tr>\n",
       "\t<tr><td>8.0</td><td>15.0</td></tr>\n",
       "</tbody>\n",
       "</table>\n"
      ],
      "text/latex": [
       "A matrix: 4 × 2 of type dbl\n",
       "\\begin{tabular}{ll}\n",
       "\t 8.3 & 30.0\\\\\n",
       "\t 8.1 & 10.4\\\\\n",
       "\t 7.9 &  1.0\\\\\n",
       "\t 8.0 & 15.0\\\\\n",
       "\\end{tabular}\n"
      ],
      "text/markdown": [
       "\n",
       "A matrix: 4 × 2 of type dbl\n",
       "\n",
       "| 8.3 | 30.0 |\n",
       "| 8.1 | 10.4 |\n",
       "| 7.9 |  1.0 |\n",
       "| 8.0 | 15.0 |\n",
       "\n"
      ],
      "text/plain": [
       "     [,1] [,2]\n",
       "[1,] 8.3  30.0\n",
       "[2,] 8.1  10.4\n",
       "[3,] 7.9   1.0\n",
       "[4,] 8.0  15.0"
      ]
     },
     "metadata": {},
     "output_type": "display_data"
    }
   ],
   "source": [
    "#Attributes -- objects can have one or more attributes\n",
    "#you can change any individual attribute of an object with the attr() function\n",
    "\n",
    "z <- c(8.3, 8.1, 7.9, 8, 30, 10.4, 1, 15)\n",
    "z\n",
    "attr(z, \"dim\") <- c(4,2)\n",
    "z\n"
   ]
  },
  {
   "cell_type": "code",
   "execution_count": 29,
   "id": "572c1fa5-84b1-4906-bae1-ab42a6fbd1bd",
   "metadata": {},
   "outputs": [
    {
     "data": {
      "text/html": [
       "'matrix'"
      ],
      "text/latex": [
       "'matrix'"
      ],
      "text/markdown": [
       "'matrix'"
      ],
      "text/plain": [
       "[1] \"matrix\""
      ]
     },
     "metadata": {},
     "output_type": "display_data"
    },
    {
     "data": {
      "text/html": [
       "'numeric'"
      ],
      "text/latex": [
       "'numeric'"
      ],
      "text/markdown": [
       "'numeric'"
      ],
      "text/plain": [
       "[1] \"numeric\""
      ]
     },
     "metadata": {},
     "output_type": "display_data"
    }
   ],
   "source": [
    "#find the class and mode of the matrix\n",
    "class(z)\n",
    "mode(z)"
   ]
  },
  {
   "cell_type": "code",
   "execution_count": null,
   "id": "9f9e55b5-9de7-4ba6-a4d3-77d2611428de",
   "metadata": {},
   "outputs": [],
   "source": [
    "##thank you....\n",
    "#more code to follow!!!"
   ]
  }
 ],
 "metadata": {
  "kernelspec": {
   "display_name": "R",
   "language": "R",
   "name": "conda-env-r-r"
  },
  "language_info": {
   "codemirror_mode": "r",
   "file_extension": ".r",
   "mimetype": "text/x-r-source",
   "name": "R",
   "pygments_lexer": "r",
   "version": "3.5.1"
  }
 },
 "nbformat": 4,
 "nbformat_minor": 5
}
