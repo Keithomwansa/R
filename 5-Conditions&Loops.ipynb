{
 "cells": [
  {
   "cell_type": "code",
   "execution_count": 1,
   "id": "53ac2c57-a21d-4fea-a076-657cb2d2a125",
   "metadata": {},
   "outputs": [],
   "source": [
    "#download dataset\n",
    "# code to download the dataset\n",
    "download.file(\"https://ibm.box.com/shared/static/n5ay5qadfe7e1nnsv5s01oe1x62mq51j.csv\", destfile=\"movies-db.csv\")"
   ]
  },
  {
   "cell_type": "code",
   "execution_count": 2,
   "id": "b016da7a-6866-4e5a-b962-eef46e03ba06",
   "metadata": {},
   "outputs": [],
   "source": [
    "#associate data to a dataframe\n",
    "movies_data <- read.csv(\"movies-db.csv\", header=TRUE, sep=\",\")"
   ]
  },
  {
   "cell_type": "code",
   "execution_count": 3,
   "id": "36848d2c-66ad-4a28-beeb-aade5fdd7a01",
   "metadata": {},
   "outputs": [],
   "source": [
    "#control statements-conditions and loops"
   ]
  },
  {
   "cell_type": "code",
   "execution_count": 4,
   "id": "f5871ca4-1f27-415c-9b5f-86c58d3b2986",
   "metadata": {},
   "outputs": [
    {
     "name": "stdout",
     "output_type": "stream",
     "text": [
      "[1] \"Movie year is greater than 2000\"\n"
     ]
    }
   ],
   "source": [
    "#if\n",
    "movie_year = 2002\n",
    "\n",
    "# If Movie_Year is greater than 2000...\n",
    "if(movie_year > 2000){\n",
    "\n",
    "    # ...we print a message saying that it is greater than 2000.\n",
    "    print('Movie year is greater than 2000')\n",
    "\n",
    "}"
   ]
  },
  {
   "cell_type": "code",
   "execution_count": 5,
   "id": "6c96774b-9f4c-4451-aad4-4ea6ec5247a5",
   "metadata": {},
   "outputs": [
    {
     "name": "stdout",
     "output_type": "stream",
     "text": [
      "[1] \"Movie year is not greater than 2000\"\n"
     ]
    }
   ],
   "source": [
    "#if else\n",
    "movie_year = 1997\n",
    "\n",
    "# If Movie_Year is greater than 2000...\n",
    "if(movie_year > 2000){\n",
    "\n",
    "    # ...we print a message saying that it is greater than 2000.\n",
    "    print('Movie year is greater than 2000')\n",
    "\n",
    "}else{ # If the above conditions were not met (Movie_Year is not greater than 2000)...\n",
    "    \n",
    "    # ...then we print a message saying that it is not greater than 2000.\n",
    "    print('Movie year is not greater than 2000') \n",
    "\n",
    "}"
   ]
  },
  {
   "cell_type": "code",
   "execution_count": 6,
   "id": "c0610964-ea1d-4843-976b-6f101508ae4f",
   "metadata": {},
   "outputs": [
    {
     "name": "stdout",
     "output_type": "stream",
     "text": [
      "[1] \"Movie year between 1990 and 2000\"\n",
      "[1] \"Movie year is not between 2000 and 2010\"\n"
     ]
    }
   ],
   "source": [
    "#using operators\n",
    "movie_year = 1997\n",
    "\n",
    "# If Movie_Year is BOTH less than 2000 AND greater than 1990 -- both conditions have to be true! -- ... \n",
    "if(movie_year < 2000 & movie_year > 1990 ) {\n",
    "    # ...then we print this message.\n",
    "    print('Movie year between 1990 and 2000') \n",
    "}\n",
    "\n",
    "# If Movie_Year is EITHER greater than 2010 OR less than 2000 -- any of the conditions have to be true! -- ... \n",
    "if(movie_year > 2010 | movie_year < 2000 ) {\n",
    "    # ...then we print this message.\n",
    "    print('Movie year is not between 2000 and 2010') \n",
    "}"
   ]
  },
  {
   "cell_type": "code",
   "execution_count": 7,
   "id": "24702349-3865-427c-b6fa-052bcd42286b",
   "metadata": {},
   "outputs": [
    {
     "data": {
      "text/html": [
       "<table>\n",
       "<caption>A data.frame: 13 × 8</caption>\n",
       "<thead>\n",
       "\t<tr><th></th><th scope=col>name</th><th scope=col>year</th><th scope=col>length_min</th><th scope=col>genre</th><th scope=col>average_rating</th><th scope=col>cost_millions</th><th scope=col>foreign</th><th scope=col>age_restriction</th></tr>\n",
       "\t<tr><th></th><th scope=col>&lt;fct&gt;</th><th scope=col>&lt;int&gt;</th><th scope=col>&lt;int&gt;</th><th scope=col>&lt;fct&gt;</th><th scope=col>&lt;dbl&gt;</th><th scope=col>&lt;dbl&gt;</th><th scope=col>&lt;int&gt;</th><th scope=col>&lt;int&gt;</th></tr>\n",
       "</thead>\n",
       "<tbody>\n",
       "\t<tr><th scope=row>4</th><td>The Artist                               </td><td>2011</td><td>100</td><td>Romance  </td><td>8.0</td><td> 15.0</td><td>1</td><td>12</td></tr>\n",
       "\t<tr><th scope=row>7</th><td>City of God                              </td><td>2002</td><td>130</td><td>Crime    </td><td>8.7</td><td>  3.3</td><td>1</td><td>18</td></tr>\n",
       "\t<tr><th scope=row>11</th><td>Room                                     </td><td>2015</td><td>118</td><td>Drama    </td><td>8.3</td><td> 13.0</td><td>1</td><td>14</td></tr>\n",
       "\t<tr><th scope=row>15</th><td>High School Musical                      </td><td>2006</td><td> 98</td><td>Comedy   </td><td>5.2</td><td>  4.2</td><td>0</td><td> 0</td></tr>\n",
       "\t<tr><th scope=row>16</th><td>Shaun of the Dead                        </td><td>2004</td><td> 99</td><td>Horror   </td><td>8.0</td><td>  6.1</td><td>1</td><td>18</td></tr>\n",
       "\t<tr><th scope=row>19</th><td>Interstellar                             </td><td>2014</td><td>169</td><td>Adventure</td><td>8.6</td><td>165.0</td><td>0</td><td>10</td></tr>\n",
       "\t<tr><th scope=row>22</th><td>Blue is the Warmest Colour               </td><td>2013</td><td>179</td><td>Romance  </td><td>7.8</td><td>  4.5</td><td>1</td><td>18</td></tr>\n",
       "\t<tr><th scope=row>23</th><td>Black Swan                               </td><td>2010</td><td>108</td><td>Thriller </td><td>8.0</td><td> 13.0</td><td>0</td><td>16</td></tr>\n",
       "\t<tr><th scope=row>25</th><td>The Wave                                 </td><td>2008</td><td>107</td><td>Thriller </td><td>7.6</td><td>  5.5</td><td>1</td><td>16</td></tr>\n",
       "\t<tr><th scope=row>26</th><td>Whiplash                                 </td><td>2014</td><td>106</td><td>Drama    </td><td>8.5</td><td>  3.3</td><td>1</td><td>12</td></tr>\n",
       "\t<tr><th scope=row>27</th><td>The Grand Hotel Budapest                 </td><td>2014</td><td>100</td><td>Crime    </td><td>8.1</td><td> 25.5</td><td>0</td><td>14</td></tr>\n",
       "\t<tr><th scope=row>29</th><td>The Eternal Sunshine of the Spotless Mind</td><td>2004</td><td>108</td><td>Drama    </td><td>8.3</td><td> 20.0</td><td>0</td><td>14</td></tr>\n",
       "\t<tr><th scope=row>30</th><td>Chicago                                  </td><td>2002</td><td>113</td><td>Comedy   </td><td>7.2</td><td> 45.0</td><td>0</td><td>12</td></tr>\n",
       "</tbody>\n",
       "</table>\n"
      ],
      "text/latex": [
       "A data.frame: 13 × 8\n",
       "\\begin{tabular}{r|llllllll}\n",
       "  & name & year & length\\_min & genre & average\\_rating & cost\\_millions & foreign & age\\_restriction\\\\\n",
       "  & <fct> & <int> & <int> & <fct> & <dbl> & <dbl> & <int> & <int>\\\\\n",
       "\\hline\n",
       "\t4 & The Artist                                & 2011 & 100 & Romance   & 8.0 &  15.0 & 1 & 12\\\\\n",
       "\t7 & City of God                               & 2002 & 130 & Crime     & 8.7 &   3.3 & 1 & 18\\\\\n",
       "\t11 & Room                                      & 2015 & 118 & Drama     & 8.3 &  13.0 & 1 & 14\\\\\n",
       "\t15 & High School Musical                       & 2006 &  98 & Comedy    & 5.2 &   4.2 & 0 &  0\\\\\n",
       "\t16 & Shaun of the Dead                         & 2004 &  99 & Horror    & 8.0 &   6.1 & 1 & 18\\\\\n",
       "\t19 & Interstellar                              & 2014 & 169 & Adventure & 8.6 & 165.0 & 0 & 10\\\\\n",
       "\t22 & Blue is the Warmest Colour                & 2013 & 179 & Romance   & 7.8 &   4.5 & 1 & 18\\\\\n",
       "\t23 & Black Swan                                & 2010 & 108 & Thriller  & 8.0 &  13.0 & 0 & 16\\\\\n",
       "\t25 & The Wave                                  & 2008 & 107 & Thriller  & 7.6 &   5.5 & 1 & 16\\\\\n",
       "\t26 & Whiplash                                  & 2014 & 106 & Drama     & 8.5 &   3.3 & 1 & 12\\\\\n",
       "\t27 & The Grand Hotel Budapest                  & 2014 & 100 & Crime     & 8.1 &  25.5 & 0 & 14\\\\\n",
       "\t29 & The Eternal Sunshine of the Spotless Mind & 2004 & 108 & Drama     & 8.3 &  20.0 & 0 & 14\\\\\n",
       "\t30 & Chicago                                   & 2002 & 113 & Comedy    & 7.2 &  45.0 & 0 & 12\\\\\n",
       "\\end{tabular}\n"
      ],
      "text/markdown": [
       "\n",
       "A data.frame: 13 × 8\n",
       "\n",
       "| <!--/--> | name &lt;fct&gt; | year &lt;int&gt; | length_min &lt;int&gt; | genre &lt;fct&gt; | average_rating &lt;dbl&gt; | cost_millions &lt;dbl&gt; | foreign &lt;int&gt; | age_restriction &lt;int&gt; |\n",
       "|---|---|---|---|---|---|---|---|---|\n",
       "| 4 | The Artist                                | 2011 | 100 | Romance   | 8.0 |  15.0 | 1 | 12 |\n",
       "| 7 | City of God                               | 2002 | 130 | Crime     | 8.7 |   3.3 | 1 | 18 |\n",
       "| 11 | Room                                      | 2015 | 118 | Drama     | 8.3 |  13.0 | 1 | 14 |\n",
       "| 15 | High School Musical                       | 2006 |  98 | Comedy    | 5.2 |   4.2 | 0 |  0 |\n",
       "| 16 | Shaun of the Dead                         | 2004 |  99 | Horror    | 8.0 |   6.1 | 1 | 18 |\n",
       "| 19 | Interstellar                              | 2014 | 169 | Adventure | 8.6 | 165.0 | 0 | 10 |\n",
       "| 22 | Blue is the Warmest Colour                | 2013 | 179 | Romance   | 7.8 |   4.5 | 1 | 18 |\n",
       "| 23 | Black Swan                                | 2010 | 108 | Thriller  | 8.0 |  13.0 | 0 | 16 |\n",
       "| 25 | The Wave                                  | 2008 | 107 | Thriller  | 7.6 |   5.5 | 1 | 16 |\n",
       "| 26 | Whiplash                                  | 2014 | 106 | Drama     | 8.5 |   3.3 | 1 | 12 |\n",
       "| 27 | The Grand Hotel Budapest                  | 2014 | 100 | Crime     | 8.1 |  25.5 | 0 | 14 |\n",
       "| 29 | The Eternal Sunshine of the Spotless Mind | 2004 | 108 | Drama     | 8.3 |  20.0 | 0 | 14 |\n",
       "| 30 | Chicago                                   | 2002 | 113 | Comedy    | 7.2 |  45.0 | 0 | 12 |\n",
       "\n"
      ],
      "text/plain": [
       "   name                                      year length_min genre    \n",
       "4  The Artist                                2011 100        Romance  \n",
       "7  City of God                               2002 130        Crime    \n",
       "11 Room                                      2015 118        Drama    \n",
       "15 High School Musical                       2006  98        Comedy   \n",
       "16 Shaun of the Dead                         2004  99        Horror   \n",
       "19 Interstellar                              2014 169        Adventure\n",
       "22 Blue is the Warmest Colour                2013 179        Romance  \n",
       "23 Black Swan                                2010 108        Thriller \n",
       "25 The Wave                                  2008 107        Thriller \n",
       "26 Whiplash                                  2014 106        Drama    \n",
       "27 The Grand Hotel Budapest                  2014 100        Crime    \n",
       "29 The Eternal Sunshine of the Spotless Mind 2004 108        Drama    \n",
       "30 Chicago                                   2002 113        Comedy   \n",
       "   average_rating cost_millions foreign age_restriction\n",
       "4  8.0             15.0         1       12             \n",
       "7  8.7              3.3         1       18             \n",
       "11 8.3             13.0         1       14             \n",
       "15 5.2              4.2         0        0             \n",
       "16 8.0              6.1         1       18             \n",
       "19 8.6            165.0         0       10             \n",
       "22 7.8              4.5         1       18             \n",
       "23 8.0             13.0         0       16             \n",
       "25 7.6              5.5         1       16             \n",
       "26 8.5              3.3         1       12             \n",
       "27 8.1             25.5         0       14             \n",
       "29 8.3             20.0         0       14             \n",
       "30 7.2             45.0         0       12             "
      ]
     },
     "metadata": {},
     "output_type": "display_data"
    }
   ],
   "source": [
    "#subset function\n",
    "decade = 'recent'\n",
    "\n",
    "# If the decade given is recent...\n",
    "if(decade == 'recent' ){\n",
    "    # Subset the dataset to include only movies after year 2000.\n",
    "    subset(movies_data, year >= 2000)\n",
    "} else { # If not...\n",
    "    # Subset the dataset to include only movies before 2000.\n",
    "    subset(movies_data, year < 2000)\n",
    "}"
   ]
  },
  {
   "cell_type": "code",
   "execution_count": 8,
   "id": "b1b4e2b8-f47a-46f7-9e19-ea18db32131f",
   "metadata": {},
   "outputs": [],
   "source": [
    "#loops\n"
   ]
  },
  {
   "cell_type": "code",
   "execution_count": 9,
   "id": "5e8a0e1a-c43e-434f-83ef-c8cd141cb362",
   "metadata": {},
   "outputs": [
    {
     "name": "stdout",
     "output_type": "stream",
     "text": [
      " [1] 1995 1998 1985 2011 1936 1999 2002 1987 1977 1999 2015 1964 1998 1975 2006\n",
      "[16] 2004 1976 1994 2014 1995 1990 2013 2010 1985 2008 2014 2014 1995 2004 2002\n"
     ]
    }
   ],
   "source": [
    "#for\n",
    "# Get the data for the \"year\" column in the data frame.\n",
    "years <- movies_data['year']\n",
    "\n",
    "# For each value in the \"years\" variable...\n",
    "# Note that \"val\" here is a variable -- it assumes the value of one of the data points in \"years\"!\n",
    "for (val in years) {\n",
    "    # ...print the year stored in \"val\".\n",
    "    print(val)\n",
    "}"
   ]
  },
  {
   "cell_type": "code",
   "execution_count": 10,
   "id": "65a4b8c4-7c68-4c30-bbd0-07573b1e3e7f",
   "metadata": {},
   "outputs": [
    {
     "name": "stdout",
     "output_type": "stream",
     "text": [
      "[1] \"This is iteration number:\" \"1\"                        \n",
      "[1] Toy Story\n",
      "30 Levels: Akira American Beauty Back to the Future ... Whiplash\n",
      "[1] \"This is iteration number:\" \"2\"                        \n",
      "[1] Akira\n",
      "30 Levels: Akira American Beauty Back to the Future ... Whiplash\n",
      "[1] \"This is iteration number:\" \"3\"                        \n",
      "[1] The Breakfast Club\n",
      "30 Levels: Akira American Beauty Back to the Future ... Whiplash\n",
      "[1] \"This is iteration number:\" \"4\"                        \n",
      "[1] The Artist\n",
      "30 Levels: Akira American Beauty Back to the Future ... Whiplash\n",
      "[1] \"This is iteration number:\" \"5\"                        \n",
      "[1] Modern Times\n",
      "30 Levels: Akira American Beauty Back to the Future ... Whiplash\n"
     ]
    }
   ],
   "source": [
    "#while\n",
    "# Creating a start point.\n",
    "iteration = 1\n",
    "\n",
    "# We want to repeat until we reach the sixth operation -- but not execute the sixth time.\n",
    "# While iteration is less or equal to five...\n",
    "while (iteration <= 5) {\n",
    "    \n",
    "    print(c(\"This is iteration number:\",as.character(iteration)))\n",
    "    \n",
    "    # ...print the \"name\" column of the iteration-th row.\n",
    "    print(movies_data[iteration,]$name)\n",
    "    \n",
    "    # And then, we increase the \"iteration\" value -- so that we actually reach our stopping condition\n",
    "    # Be careful of infinite while loops!\n",
    "    iteration = iteration + 1\n",
    "}"
   ]
  },
  {
   "cell_type": "code",
   "execution_count": 11,
   "id": "4e36a868-e418-4b6c-a44a-aa382b71e4ba",
   "metadata": {},
   "outputs": [
    {
     "data": {
      "text/html": [
       "<style>\n",
       ".list-inline {list-style: none; margin:0; padding: 0}\n",
       ".list-inline>li {display: inline-block}\n",
       ".list-inline>li:not(:last-child)::after {content: \"\\00b7\"; padding: 0 .5ex}\n",
       "</style>\n",
       "<ol class=list-inline><li>12</li><li>14</li><li>17</li><li>21</li><li>27</li><li>35</li></ol>\n"
      ],
      "text/latex": [
       "\\begin{enumerate*}\n",
       "\\item 12\n",
       "\\item 14\n",
       "\\item 17\n",
       "\\item 21\n",
       "\\item 27\n",
       "\\item 35\n",
       "\\end{enumerate*}\n"
      ],
      "text/markdown": [
       "1. 12\n",
       "2. 14\n",
       "3. 17\n",
       "4. 21\n",
       "5. 27\n",
       "6. 35\n",
       "\n",
       "\n"
      ],
      "text/plain": [
       "[1] 12 14 17 21 27 35"
      ]
     },
     "metadata": {},
     "output_type": "display_data"
    },
    {
     "data": {
      "text/html": [
       "<style>\n",
       ".list-inline {list-style: none; margin:0; padding: 0}\n",
       ".list-inline>li {display: inline-block}\n",
       ".list-inline>li:not(:last-child)::after {content: \"\\00b7\"; padding: 0 .5ex}\n",
       "</style>\n",
       "<ol class=list-inline><li>100</li><li>144</li><li>225</li><li>361</li><li>625</li><li>1089</li></ol>\n"
      ],
      "text/latex": [
       "\\begin{enumerate*}\n",
       "\\item 100\n",
       "\\item 144\n",
       "\\item 225\n",
       "\\item 361\n",
       "\\item 625\n",
       "\\item 1089\n",
       "\\end{enumerate*}\n"
      ],
      "text/markdown": [
       "1. 100\n",
       "2. 144\n",
       "3. 225\n",
       "4. 361\n",
       "5. 625\n",
       "6. 1089\n",
       "\n",
       "\n"
      ],
      "text/plain": [
       "[1]  100  144  225  361  625 1089"
      ]
     },
     "metadata": {},
     "output_type": "display_data"
    },
    {
     "data": {
      "text/html": [
       "<style>\n",
       ".list-inline {list-style: none; margin:0; padding: 0}\n",
       ".list-inline>li {display: inline-block}\n",
       ".list-inline>li:not(:last-child)::after {content: \"\\00b7\"; padding: 0 .5ex}\n",
       "</style>\n",
       "<ol class=list-inline><li>20</li><li>24</li><li>30</li><li>38</li><li>50</li><li>66</li></ol>\n"
      ],
      "text/latex": [
       "\\begin{enumerate*}\n",
       "\\item 20\n",
       "\\item 24\n",
       "\\item 30\n",
       "\\item 38\n",
       "\\item 50\n",
       "\\item 66\n",
       "\\end{enumerate*}\n"
      ],
      "text/markdown": [
       "1. 20\n",
       "2. 24\n",
       "3. 30\n",
       "4. 38\n",
       "5. 50\n",
       "6. 66\n",
       "\n",
       "\n"
      ],
      "text/plain": [
       "[1] 20 24 30 38 50 66"
      ]
     },
     "metadata": {},
     "output_type": "display_data"
    }
   ],
   "source": [
    "#applying funtions to vectors\n",
    "# First, we create a vector...\n",
    "my_list <- c(10,12,15,19,25,33)\n",
    "\n",
    "# ...we can try adding two to all the values in that vector.\n",
    "my_list + 2\n",
    "\n",
    "# Or maybe even exponentiating them by two.\n",
    "my_list ** 2\n",
    "\n",
    "# We can also sum two vectors element-wise!\n",
    "my_list + my_list"
   ]
  },
  {
   "cell_type": "code",
   "execution_count": null,
   "id": "62556495-476b-48eb-b11e-cbfaf691e641",
   "metadata": {},
   "outputs": [],
   "source": []
  }
 ],
 "metadata": {
  "kernelspec": {
   "display_name": "R",
   "language": "R",
   "name": "conda-env-r-r"
  },
  "language_info": {
   "codemirror_mode": "r",
   "file_extension": ".r",
   "mimetype": "text/x-r-source",
   "name": "R",
   "pygments_lexer": "r",
   "version": "3.5.1"
  }
 },
 "nbformat": 4,
 "nbformat_minor": 5
}
