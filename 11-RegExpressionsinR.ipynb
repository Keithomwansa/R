{
 "cells": [
  {
   "cell_type": "code",
   "execution_count": 1,
   "id": "6ad0bcad-041d-466d-96a4-6d9d159b984f",
   "metadata": {},
   "outputs": [
    {
     "data": {
      "text/html": [
       "<table>\n",
       "<caption>A data.frame: 8 × 2</caption>\n",
       "<thead>\n",
       "\t<tr><th scope=col>Name</th><th scope=col>Email</th></tr>\n",
       "\t<tr><th scope=col>&lt;fct&gt;</th><th scope=col>&lt;fct&gt;</th></tr>\n",
       "</thead>\n",
       "<tbody>\n",
       "\t<tr><td>John Doe    </td><td>doej@example.com  </td></tr>\n",
       "\t<tr><td>Jane Doe    </td><td>jadoe@sample.ca   </td></tr>\n",
       "\t<tr><td>Mark Mann   </td><td>mmann@example.ca  </td></tr>\n",
       "\t<tr><td>Barry Goode </td><td>bgoode@example.com</td></tr>\n",
       "\t<tr><td>Joe Star    </td><td>joes@sample.com   </td></tr>\n",
       "\t<tr><td>Susan Quinn </td><td>qsus@example.br   </td></tr>\n",
       "\t<tr><td>Alice Erin  </td><td>erina@example.com </td></tr>\n",
       "\t<tr><td>Frank Irving</td><td>irving@sample.com </td></tr>\n",
       "</tbody>\n",
       "</table>\n"
      ],
      "text/latex": [
       "A data.frame: 8 × 2\n",
       "\\begin{tabular}{ll}\n",
       " Name & Email\\\\\n",
       " <fct> & <fct>\\\\\n",
       "\\hline\n",
       "\t John Doe     & doej@example.com  \\\\\n",
       "\t Jane Doe     & jadoe@sample.ca   \\\\\n",
       "\t Mark Mann    & mmann@example.ca  \\\\\n",
       "\t Barry Goode  & bgoode@example.com\\\\\n",
       "\t Joe Star     & joes@sample.com   \\\\\n",
       "\t Susan Quinn  & qsus@example.br   \\\\\n",
       "\t Alice Erin   & erina@example.com \\\\\n",
       "\t Frank Irving & irving@sample.com \\\\\n",
       "\\end{tabular}\n"
      ],
      "text/markdown": [
       "\n",
       "A data.frame: 8 × 2\n",
       "\n",
       "| Name &lt;fct&gt; | Email &lt;fct&gt; |\n",
       "|---|---|\n",
       "| John Doe     | doej@example.com   |\n",
       "| Jane Doe     | jadoe@sample.ca    |\n",
       "| Mark Mann    | mmann@example.ca   |\n",
       "| Barry Goode  | bgoode@example.com |\n",
       "| Joe Star     | joes@sample.com    |\n",
       "| Susan Quinn  | qsus@example.br    |\n",
       "| Alice Erin   | erina@example.com  |\n",
       "| Frank Irving | irving@sample.com  |\n",
       "\n"
      ],
      "text/plain": [
       "  Name         Email             \n",
       "1 John Doe     doej@example.com  \n",
       "2 Jane Doe     jadoe@sample.ca   \n",
       "3 Mark Mann    mmann@example.ca  \n",
       "4 Barry Goode  bgoode@example.com\n",
       "5 Joe Star     joes@sample.com   \n",
       "6 Susan Quinn  qsus@example.br   \n",
       "7 Alice Erin   erina@example.com \n",
       "8 Frank Irving irving@sample.com "
      ]
     },
     "metadata": {},
     "output_type": "display_data"
    }
   ],
   "source": [
    "#load email data in a df\n",
    "email_df <- read.csv(\"https://ibm.box.com/shared/static/cbim8daa5vjf5rf4rlz11330lvqbu7rk.csv\")\n",
    "email_df"
   ]
  },
  {
   "cell_type": "code",
   "execution_count": 2,
   "id": "394f4af4-187a-4c02-9b18-e44ece859e76",
   "metadata": {},
   "outputs": [
    {
     "data": {
      "text/html": [
       "<style>\n",
       ".list-inline {list-style: none; margin:0; padding: 0}\n",
       ".list-inline>li {display: inline-block}\n",
       ".list-inline>li:not(:last-child)::after {content: \"\\00b7\"; padding: 0 .5ex}\n",
       "</style>\n",
       "<ol class=list-inline><li>1</li><li>3</li></ol>\n"
      ],
      "text/latex": [
       "\\begin{enumerate*}\n",
       "\\item 1\n",
       "\\item 3\n",
       "\\end{enumerate*}\n"
      ],
      "text/markdown": [
       "1. 1\n",
       "2. 3\n",
       "\n",
       "\n"
      ],
      "text/plain": [
       "[1] 1 3"
      ]
     },
     "metadata": {},
     "output_type": "display_data"
    }
   ],
   "source": [
    "# The grep function takes in a Regular Expression and a list of strings to search through and returns the positions of \n",
    "# where they appear in the list.\n",
    "grep(\"@.+\",  c(\"test@testing.com\" , \"not an email\", \"test2@testing.com\"))"
   ]
  },
  {
   "cell_type": "code",
   "execution_count": 3,
   "id": "c15dabfc-ffaf-4ab2-806c-228c0f055425",
   "metadata": {},
   "outputs": [
    {
     "data": {
      "text/html": [
       "<style>\n",
       ".list-inline {list-style: none; margin:0; padding: 0}\n",
       ".list-inline>li {display: inline-block}\n",
       ".list-inline>li:not(:last-child)::after {content: \"\\00b7\"; padding: 0 .5ex}\n",
       "</style>\n",
       "<ol class=list-inline><li>'test@testing.com'</li><li>'test2@testing.com'</li></ol>\n"
      ],
      "text/latex": [
       "\\begin{enumerate*}\n",
       "\\item 'test@testing.com'\n",
       "\\item 'test2@testing.com'\n",
       "\\end{enumerate*}\n"
      ],
      "text/markdown": [
       "1. 'test@testing.com'\n",
       "2. 'test2@testing.com'\n",
       "\n",
       "\n"
      ],
      "text/plain": [
       "[1] \"test@testing.com\"  \"test2@testing.com\""
      ]
     },
     "metadata": {},
     "output_type": "display_data"
    }
   ],
   "source": [
    "#value parameter in grep\n",
    "grep(\"@.+\",  c(\"test@testing.com\", \"not an email\", \"test2@testing.com\"), value=TRUE)"
   ]
  },
  {
   "cell_type": "code",
   "execution_count": 4,
   "id": "e4edf9ea-eef4-4a5a-bd3d-9abc1631f1b7",
   "metadata": {},
   "outputs": [
    {
     "data": {
      "text/html": [
       "<style>\n",
       ".list-inline {list-style: none; margin:0; padding: 0}\n",
       ".list-inline>li {display: inline-block}\n",
       ".list-inline>li:not(:last-child)::after {content: \"\\00b7\"; padding: 0 .5ex}\n",
       "</style>\n",
       "<ol class=list-inline><li>'test@newdomain.com'</li><li>'not an email'</li><li>'test2@newdomain.com'</li></ol>\n"
      ],
      "text/latex": [
       "\\begin{enumerate*}\n",
       "\\item 'test@newdomain.com'\n",
       "\\item 'not an email'\n",
       "\\item 'test2@newdomain.com'\n",
       "\\end{enumerate*}\n"
      ],
      "text/markdown": [
       "1. 'test@newdomain.com'\n",
       "2. 'not an email'\n",
       "3. 'test2@newdomain.com'\n",
       "\n",
       "\n"
      ],
      "text/plain": [
       "[1] \"test@newdomain.com\"  \"not an email\"        \"test2@newdomain.com\""
      ]
     },
     "metadata": {},
     "output_type": "display_data"
    }
   ],
   "source": [
    "#gsub', is a substitution function. It takes in a Regular Expression, \n",
    "# the string you want to swap in with the matches and a list of strings you want to perform the swap with\n",
    "gsub(\"@.+\", \"@newdomain.com\", c(\"test@testing.com\", \"not an email\", \"test2@testing.com\"))"
   ]
  },
  {
   "cell_type": "code",
   "execution_count": 5,
   "id": "74eddacf-e137-49f3-8f88-c734d038520e",
   "metadata": {},
   "outputs": [
    {
     "data": {
      "text/html": [
       "<style>\n",
       ".list-inline {list-style: none; margin:0; padding: 0}\n",
       ".list-inline>li {display: inline-block}\n",
       ".list-inline>li:not(:last-child)::after {content: \"\\00b7\"; padding: 0 .5ex}\n",
       "</style>\n",
       "<ol class=list-inline><li>'@testing.com'</li><li>'@testing.com'</li></ol>\n"
      ],
      "text/latex": [
       "\\begin{enumerate*}\n",
       "\\item '@testing.com'\n",
       "\\item '@testing.com'\n",
       "\\end{enumerate*}\n"
      ],
      "text/markdown": [
       "1. '@testing.com'\n",
       "2. '@testing.com'\n",
       "\n",
       "\n"
      ],
      "text/plain": [
       "[1] \"@testing.com\" \"@testing.com\""
      ]
     },
     "metadata": {},
     "output_type": "display_data"
    }
   ],
   "source": [
    "# 'regexpr' and 'regmatches', work in conjunction to extract the matches found by a \n",
    "# regular expression specified in 'regexpr'.\n",
    "matches <- regexpr(\"@.*\", c(\"test@testing.com\", \"not an email\", \"test2@testing.com\"))\n",
    "regmatches(c(\"test@testing.com\", \"not an email\", \"test2@testing.com\"), matches)"
   ]
  },
  {
   "cell_type": "code",
   "execution_count": 6,
   "id": "fa8ea983-16c9-4632-b30d-01ad0e30be6f",
   "metadata": {},
   "outputs": [],
   "source": [
    "#extract the needed strings\n",
    "matches <- regexpr(\"@.*\\\\.\", email_df[,'Email'])\n",
    "email_df[,'Domain'] = regmatches(email_df[,'Email'], matches)"
   ]
  },
  {
   "cell_type": "code",
   "execution_count": 7,
   "id": "09e31b15-0ad8-45e7-94d7-c21de5a8577a",
   "metadata": {},
   "outputs": [
    {
     "data": {
      "text/html": [
       "<table>\n",
       "<caption>A data.frame: 8 × 3</caption>\n",
       "<thead>\n",
       "\t<tr><th scope=col>Name</th><th scope=col>Email</th><th scope=col>Domain</th></tr>\n",
       "\t<tr><th scope=col>&lt;fct&gt;</th><th scope=col>&lt;fct&gt;</th><th scope=col>&lt;chr&gt;</th></tr>\n",
       "</thead>\n",
       "<tbody>\n",
       "\t<tr><td>John Doe    </td><td>doej@example.com  </td><td>@example.</td></tr>\n",
       "\t<tr><td>Jane Doe    </td><td>jadoe@sample.ca   </td><td>@sample. </td></tr>\n",
       "\t<tr><td>Mark Mann   </td><td>mmann@example.ca  </td><td>@example.</td></tr>\n",
       "\t<tr><td>Barry Goode </td><td>bgoode@example.com</td><td>@example.</td></tr>\n",
       "\t<tr><td>Joe Star    </td><td>joes@sample.com   </td><td>@sample. </td></tr>\n",
       "\t<tr><td>Susan Quinn </td><td>qsus@example.br   </td><td>@example.</td></tr>\n",
       "\t<tr><td>Alice Erin  </td><td>erina@example.com </td><td>@example.</td></tr>\n",
       "\t<tr><td>Frank Irving</td><td>irving@sample.com </td><td>@sample. </td></tr>\n",
       "</tbody>\n",
       "</table>\n"
      ],
      "text/latex": [
       "A data.frame: 8 × 3\n",
       "\\begin{tabular}{lll}\n",
       " Name & Email & Domain\\\\\n",
       " <fct> & <fct> & <chr>\\\\\n",
       "\\hline\n",
       "\t John Doe     & doej@example.com   & @example.\\\\\n",
       "\t Jane Doe     & jadoe@sample.ca    & @sample. \\\\\n",
       "\t Mark Mann    & mmann@example.ca   & @example.\\\\\n",
       "\t Barry Goode  & bgoode@example.com & @example.\\\\\n",
       "\t Joe Star     & joes@sample.com    & @sample. \\\\\n",
       "\t Susan Quinn  & qsus@example.br    & @example.\\\\\n",
       "\t Alice Erin   & erina@example.com  & @example.\\\\\n",
       "\t Frank Irving & irving@sample.com  & @sample. \\\\\n",
       "\\end{tabular}\n"
      ],
      "text/markdown": [
       "\n",
       "A data.frame: 8 × 3\n",
       "\n",
       "| Name &lt;fct&gt; | Email &lt;fct&gt; | Domain &lt;chr&gt; |\n",
       "|---|---|---|\n",
       "| John Doe     | doej@example.com   | @example. |\n",
       "| Jane Doe     | jadoe@sample.ca    | @sample.  |\n",
       "| Mark Mann    | mmann@example.ca   | @example. |\n",
       "| Barry Goode  | bgoode@example.com | @example. |\n",
       "| Joe Star     | joes@sample.com    | @sample.  |\n",
       "| Susan Quinn  | qsus@example.br    | @example. |\n",
       "| Alice Erin   | erina@example.com  | @example. |\n",
       "| Frank Irving | irving@sample.com  | @sample.  |\n",
       "\n"
      ],
      "text/plain": [
       "  Name         Email              Domain   \n",
       "1 John Doe     doej@example.com   @example.\n",
       "2 Jane Doe     jadoe@sample.ca    @sample. \n",
       "3 Mark Mann    mmann@example.ca   @example.\n",
       "4 Barry Goode  bgoode@example.com @example.\n",
       "5 Joe Star     joes@sample.com    @sample. \n",
       "6 Susan Quinn  qsus@example.br    @example.\n",
       "7 Alice Erin   erina@example.com  @example.\n",
       "8 Frank Irving irving@sample.com  @sample. "
      ]
     },
     "metadata": {},
     "output_type": "display_data"
    }
   ],
   "source": [
    "#resulting data frame\n",
    "email_df"
   ]
  },
  {
   "cell_type": "code",
   "execution_count": 8,
   "id": "2f0ef874-a612-472b-9c31-d2e486af0240",
   "metadata": {},
   "outputs": [
    {
     "data": {
      "text/plain": [
       "\n",
       "@example.  @sample. \n",
       "        5         3 "
      ]
     },
     "metadata": {},
     "output_type": "display_data"
    }
   ],
   "source": [
    "#frequency table for domains\n",
    "table(email_df[,'Domain'])"
   ]
  },
  {
   "cell_type": "code",
   "execution_count": null,
   "id": "b09099b5-c4d8-4b4b-a245-3eca55b93477",
   "metadata": {},
   "outputs": [],
   "source": []
  }
 ],
 "metadata": {
  "kernelspec": {
   "display_name": "R",
   "language": "R",
   "name": "conda-env-r-r"
  },
  "language_info": {
   "codemirror_mode": "r",
   "file_extension": ".r",
   "mimetype": "text/x-r-source",
   "name": "R",
   "pygments_lexer": "r",
   "version": "3.5.1"
  }
 },
 "nbformat": 4,
 "nbformat_minor": 5
}
