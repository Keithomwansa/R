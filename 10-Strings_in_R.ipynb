{
 "cells": [
  {
   "cell_type": "code",
   "execution_count": 1,
   "id": "9c5f3868-3f81-4cd6-9edf-df9fbd74a339",
   "metadata": {},
   "outputs": [],
   "source": [
    "# This notebook will provide information regarding reading text files, \n",
    "# performing various operations on Strings and saving data into various types of files like text files,\n",
    "# CSV files, Excel files etc."
   ]
  },
  {
   "cell_type": "code",
   "execution_count": 2,
   "id": "3f5700f6-7632-4c45-940d-156506867406",
   "metadata": {},
   "outputs": [],
   "source": [
    "#download the data file\n",
    "download.file(\"https://ibm.box.com/shared/static/l8v8g8e6uzk7yj2j1qc8ypezbhzukphy.txt\", destfile=\"The_Artist.txt\")"
   ]
  },
  {
   "cell_type": "code",
   "execution_count": 3,
   "id": "b55cb8fd-dc84-498a-95c7-b29ad18a8a53",
   "metadata": {},
   "outputs": [
    {
     "data": {
      "text/html": [
       "<style>\n",
       ".list-inline {list-style: none; margin:0; padding: 0}\n",
       ".list-inline>li {display: inline-block}\n",
       ".list-inline>li:not(:last-child)::after {content: \"\\00b7\"; padding: 0 .5ex}\n",
       "</style>\n",
       "<ol class=list-inline><li>'The Artist is a 2011 French romantic comedy-drama in the style of a black-and-white silent film. It was written, directed, and co-edited by Michel Hazanavicius, produced by Thomas Langmann and starred Jean Dujardin and Bérénice Bejo. The story takes place in Hollywood, between 1927 and 1932, and focuses on the relationship of an older silent film star and a rising young actress as silent cinema falls out of fashion and is replaced by the talkies.'</li><li>''</li><li>'The Artist received highly positive reviews from critics and won many accolades. Dujardin won the Best Actor Award at the 2011 Cannes Film Festival, where the film premiered. The film was nominated for six Golden Globes, the most of any 2011 film, and won three: Best Motion Picture – Musical or Comedy, Best Original Score, and Best Actor – Motion Picture Musical or Comedy for Dujardin. In January 2012, the film was nominated for twelve BAFTAs, the most of any film from 2011 and won seven, including Best Film, Best Director and Best Original Screenplay for Hazanavicius, and Best Actor for Dujardin.'</li><li>''</li><li>''</li></ol>\n"
      ],
      "text/latex": [
       "\\begin{enumerate*}\n",
       "\\item 'The Artist is a 2011 French romantic comedy-drama in the style of a black-and-white silent film. It was written, directed, and co-edited by Michel Hazanavicius, produced by Thomas Langmann and starred Jean Dujardin and Bérénice Bejo. The story takes place in Hollywood, between 1927 and 1932, and focuses on the relationship of an older silent film star and a rising young actress as silent cinema falls out of fashion and is replaced by the talkies.'\n",
       "\\item ''\n",
       "\\item 'The Artist received highly positive reviews from critics and won many accolades. Dujardin won the Best Actor Award at the 2011 Cannes Film Festival, where the film premiered. The film was nominated for six Golden Globes, the most of any 2011 film, and won three: Best Motion Picture – Musical or Comedy, Best Original Score, and Best Actor – Motion Picture Musical or Comedy for Dujardin. In January 2012, the film was nominated for twelve BAFTAs, the most of any film from 2011 and won seven, including Best Film, Best Director and Best Original Screenplay for Hazanavicius, and Best Actor for Dujardin.'\n",
       "\\item ''\n",
       "\\item ''\n",
       "\\end{enumerate*}\n"
      ],
      "text/markdown": [
       "1. 'The Artist is a 2011 French romantic comedy-drama in the style of a black-and-white silent film. It was written, directed, and co-edited by Michel Hazanavicius, produced by Thomas Langmann and starred Jean Dujardin and Bérénice Bejo. The story takes place in Hollywood, between 1927 and 1932, and focuses on the relationship of an older silent film star and a rising young actress as silent cinema falls out of fashion and is replaced by the talkies.'\n",
       "2. ''\n",
       "3. 'The Artist received highly positive reviews from critics and won many accolades. Dujardin won the Best Actor Award at the 2011 Cannes Film Festival, where the film premiered. The film was nominated for six Golden Globes, the most of any 2011 film, and won three: Best Motion Picture – Musical or Comedy, Best Original Score, and Best Actor – Motion Picture Musical or Comedy for Dujardin. In January 2012, the film was nominated for twelve BAFTAs, the most of any film from 2011 and won seven, including Best Film, Best Director and Best Original Screenplay for Hazanavicius, and Best Actor for Dujardin.'\n",
       "4. ''\n",
       "5. ''\n",
       "\n",
       "\n"
      ],
      "text/plain": [
       "[1] \"The Artist is a 2011 French romantic comedy-drama in the style of a black-and-white silent film. It was written, directed, and co-edited by Michel Hazanavicius, produced by Thomas Langmann and starred Jean Dujardin and Bérénice Bejo. The story takes place in Hollywood, between 1927 and 1932, and focuses on the relationship of an older silent film star and a rising young actress as silent cinema falls out of fashion and is replaced by the talkies.\"                                                                                                                                                          \n",
       "[2] \"\"                                                                                                                                                                                                                                                                                                                                                                                                                                                                                                                                                                                                                            \n",
       "[3] \"The Artist received highly positive reviews from critics and won many accolades. Dujardin won the Best Actor Award at the 2011 Cannes Film Festival, where the film premiered. The film was nominated for six Golden Globes, the most of any 2011 film, and won three: Best Motion Picture – Musical or Comedy, Best Original Score, and Best Actor – Motion Picture Musical or Comedy for Dujardin. In January 2012, the film was nominated for twelve BAFTAs, the most of any film from 2011 and won seven, including Best Film, Best Director and Best Original Screenplay for Hazanavicius, and Best Actor for Dujardin.\"\n",
       "[4] \"\"                                                                                                                                                                                                                                                                                                                                                                                                                                                                                                                                                                                                                            \n",
       "[5] \"\"                                                                                                                                                                                                                                                                                                                                                                                                                                                                                                                                                                                                                            "
      ]
     },
     "metadata": {},
     "output_type": "display_data"
    }
   ],
   "source": [
    "#read a text file\n",
    "my_data <- readLines(\"The_Artist.txt\")\n",
    "my_data\n"
   ]
  },
  {
   "cell_type": "code",
   "execution_count": 4,
   "id": "461058fb-de46-43d2-9c03-8d7e229656dd",
   "metadata": {},
   "outputs": [
    {
     "data": {
      "text/html": [
       "5"
      ],
      "text/latex": [
       "5"
      ],
      "text/markdown": [
       "5"
      ],
      "text/plain": [
       "[1] 5"
      ]
     },
     "metadata": {},
     "output_type": "display_data"
    }
   ],
   "source": [
    "#check length of my_data variable\n",
    "\n",
    "length(my_data)"
   ]
  },
  {
   "cell_type": "code",
   "execution_count": 5,
   "id": "0abf2190-d191-4928-a7a3-2fc3341309d0",
   "metadata": {},
   "outputs": [],
   "source": [
    "#means it contains 5 elements"
   ]
  },
  {
   "cell_type": "code",
   "execution_count": 7,
   "id": "2c5aa1f7-2c8f-4ae7-8180-20a13ebfaa93",
   "metadata": {},
   "outputs": [
    {
     "data": {
      "text/html": [
       "1065"
      ],
      "text/latex": [
       "1065"
      ],
      "text/markdown": [
       "1065"
      ],
      "text/plain": [
       "[1] 1065"
      ]
     },
     "metadata": {},
     "output_type": "display_data"
    }
   ],
   "source": [
    "#check file size\n",
    "file.size(\"The_Artist.txt\")"
   ]
  },
  {
   "cell_type": "code",
   "execution_count": 8,
   "id": "33ddaf2e-7dff-44b1-b323-fdce0a497f52",
   "metadata": {},
   "outputs": [
    {
     "data": {
      "text/html": [
       "<style>\n",
       ".list-inline {list-style: none; margin:0; padding: 0}\n",
       ".list-inline>li {display: inline-block}\n",
       ".list-inline>li:not(:last-child)::after {content: \"\\00b7\"; padding: 0 .5ex}\n",
       "</style>\n",
       "<ol class=list-inline><li>'The'</li><li>'Artist'</li><li>'is'</li><li>'a'</li><li>'2011'</li><li>'French'</li><li>'romantic'</li><li>'comedy-drama'</li><li>'in'</li><li>'the'</li><li>'style'</li><li>'of'</li><li>'a'</li><li>'black-and-white'</li><li>'silent'</li><li>'film.'</li><li>'It'</li><li>'was'</li><li>'written,'</li><li>'directed,'</li><li>'and'</li><li>'co-edited'</li><li>'by'</li><li>'Michel'</li><li>'Hazanavicius,'</li><li>'produced'</li><li>'by'</li><li>'Thomas'</li><li>'Langmann'</li><li>'and'</li><li>'starred'</li><li>'Jean'</li><li>'Dujardin'</li><li>'and'</li><li>'Bérénice'</li><li>'Bejo.'</li><li>'The'</li><li>'story'</li><li>'takes'</li><li>'place'</li><li>'in'</li><li>'Hollywood,'</li><li>'between'</li><li>'1927'</li><li>'and'</li><li>'1932,'</li><li>'and'</li><li>'focuses'</li><li>'on'</li><li>'the'</li><li>'relationship'</li><li>'of'</li><li>'an'</li><li>'older'</li><li>'silent'</li><li>'film'</li><li>'star'</li><li>'and'</li><li>'a'</li><li>'rising'</li><li>'young'</li><li>'actress'</li><li>'as'</li><li>'silent'</li><li>'cinema'</li><li>'falls'</li><li>'out'</li><li>'of'</li><li>'fashion'</li><li>'and'</li><li>'is'</li><li>'replaced'</li><li>'by'</li><li>'the'</li><li>'talkies.'</li><li>'The'</li><li>'Artist'</li><li>'received'</li><li>'highly'</li><li>'positive'</li><li>'reviews'</li><li>'from'</li><li>'critics'</li><li>'and'</li><li>'won'</li><li>'many'</li><li>'accolades.'</li><li>'Dujardin'</li><li>'won'</li><li>'the'</li><li>'Best'</li><li>'Actor'</li><li>'Award'</li><li>'at'</li><li>'the'</li><li>'2011'</li><li>'Cannes'</li><li>'Film'</li><li>'Festival,'</li><li>'where'</li><li>'the'</li><li>'film'</li><li>'premiered.'</li><li>'The'</li><li>'film'</li><li>'was'</li><li>'nominated'</li><li>'for'</li><li>'six'</li><li>'Golden'</li><li>'Globes,'</li><li>'the'</li><li>'most'</li><li>'of'</li><li>'any'</li><li>'2011'</li><li>'film,'</li><li>'and'</li><li>'won'</li><li>'three:'</li><li>'Best'</li><li>'Motion'</li><li>'Picture'</li><li>'–'</li><li>'Musical'</li><li>'or'</li><li>'Comedy,'</li><li>'Best'</li><li>'Original'</li><li>'Score,'</li><li>'and'</li><li>'Best'</li><li>'Actor'</li><li>'–'</li><li>'Motion'</li><li>'Picture'</li><li>'Musical'</li><li>'or'</li><li>'Comedy'</li><li>'for'</li><li>'Dujardin.'</li><li>'In'</li><li>'January'</li><li>'2012,'</li><li>'the'</li><li>'film'</li><li>'was'</li><li>'nominated'</li><li>'for'</li><li>'twelve'</li><li>'BAFTAs,'</li><li>'the'</li><li>'most'</li><li>'of'</li><li>'any'</li><li>'film'</li><li>'from'</li><li>'2011'</li><li>'and'</li><li>'won'</li><li>'seven,'</li><li>'including'</li><li>'Best'</li><li>'Film,'</li><li>'Best'</li><li>'Director'</li><li>'and'</li><li>'Best'</li><li>'Original'</li><li>'Screenplay'</li><li>'for'</li><li>'Hazanavicius,'</li><li>'and'</li><li>'Best'</li><li>'Actor'</li><li>'for'</li><li>'Dujardin.'</li></ol>\n"
      ],
      "text/latex": [
       "\\begin{enumerate*}\n",
       "\\item 'The'\n",
       "\\item 'Artist'\n",
       "\\item 'is'\n",
       "\\item 'a'\n",
       "\\item '2011'\n",
       "\\item 'French'\n",
       "\\item 'romantic'\n",
       "\\item 'comedy-drama'\n",
       "\\item 'in'\n",
       "\\item 'the'\n",
       "\\item 'style'\n",
       "\\item 'of'\n",
       "\\item 'a'\n",
       "\\item 'black-and-white'\n",
       "\\item 'silent'\n",
       "\\item 'film.'\n",
       "\\item 'It'\n",
       "\\item 'was'\n",
       "\\item 'written,'\n",
       "\\item 'directed,'\n",
       "\\item 'and'\n",
       "\\item 'co-edited'\n",
       "\\item 'by'\n",
       "\\item 'Michel'\n",
       "\\item 'Hazanavicius,'\n",
       "\\item 'produced'\n",
       "\\item 'by'\n",
       "\\item 'Thomas'\n",
       "\\item 'Langmann'\n",
       "\\item 'and'\n",
       "\\item 'starred'\n",
       "\\item 'Jean'\n",
       "\\item 'Dujardin'\n",
       "\\item 'and'\n",
       "\\item 'Bérénice'\n",
       "\\item 'Bejo.'\n",
       "\\item 'The'\n",
       "\\item 'story'\n",
       "\\item 'takes'\n",
       "\\item 'place'\n",
       "\\item 'in'\n",
       "\\item 'Hollywood,'\n",
       "\\item 'between'\n",
       "\\item '1927'\n",
       "\\item 'and'\n",
       "\\item '1932,'\n",
       "\\item 'and'\n",
       "\\item 'focuses'\n",
       "\\item 'on'\n",
       "\\item 'the'\n",
       "\\item 'relationship'\n",
       "\\item 'of'\n",
       "\\item 'an'\n",
       "\\item 'older'\n",
       "\\item 'silent'\n",
       "\\item 'film'\n",
       "\\item 'star'\n",
       "\\item 'and'\n",
       "\\item 'a'\n",
       "\\item 'rising'\n",
       "\\item 'young'\n",
       "\\item 'actress'\n",
       "\\item 'as'\n",
       "\\item 'silent'\n",
       "\\item 'cinema'\n",
       "\\item 'falls'\n",
       "\\item 'out'\n",
       "\\item 'of'\n",
       "\\item 'fashion'\n",
       "\\item 'and'\n",
       "\\item 'is'\n",
       "\\item 'replaced'\n",
       "\\item 'by'\n",
       "\\item 'the'\n",
       "\\item 'talkies.'\n",
       "\\item 'The'\n",
       "\\item 'Artist'\n",
       "\\item 'received'\n",
       "\\item 'highly'\n",
       "\\item 'positive'\n",
       "\\item 'reviews'\n",
       "\\item 'from'\n",
       "\\item 'critics'\n",
       "\\item 'and'\n",
       "\\item 'won'\n",
       "\\item 'many'\n",
       "\\item 'accolades.'\n",
       "\\item 'Dujardin'\n",
       "\\item 'won'\n",
       "\\item 'the'\n",
       "\\item 'Best'\n",
       "\\item 'Actor'\n",
       "\\item 'Award'\n",
       "\\item 'at'\n",
       "\\item 'the'\n",
       "\\item '2011'\n",
       "\\item 'Cannes'\n",
       "\\item 'Film'\n",
       "\\item 'Festival,'\n",
       "\\item 'where'\n",
       "\\item 'the'\n",
       "\\item 'film'\n",
       "\\item 'premiered.'\n",
       "\\item 'The'\n",
       "\\item 'film'\n",
       "\\item 'was'\n",
       "\\item 'nominated'\n",
       "\\item 'for'\n",
       "\\item 'six'\n",
       "\\item 'Golden'\n",
       "\\item 'Globes,'\n",
       "\\item 'the'\n",
       "\\item 'most'\n",
       "\\item 'of'\n",
       "\\item 'any'\n",
       "\\item '2011'\n",
       "\\item 'film,'\n",
       "\\item 'and'\n",
       "\\item 'won'\n",
       "\\item 'three:'\n",
       "\\item 'Best'\n",
       "\\item 'Motion'\n",
       "\\item 'Picture'\n",
       "\\item '–'\n",
       "\\item 'Musical'\n",
       "\\item 'or'\n",
       "\\item 'Comedy,'\n",
       "\\item 'Best'\n",
       "\\item 'Original'\n",
       "\\item 'Score,'\n",
       "\\item 'and'\n",
       "\\item 'Best'\n",
       "\\item 'Actor'\n",
       "\\item '–'\n",
       "\\item 'Motion'\n",
       "\\item 'Picture'\n",
       "\\item 'Musical'\n",
       "\\item 'or'\n",
       "\\item 'Comedy'\n",
       "\\item 'for'\n",
       "\\item 'Dujardin.'\n",
       "\\item 'In'\n",
       "\\item 'January'\n",
       "\\item '2012,'\n",
       "\\item 'the'\n",
       "\\item 'film'\n",
       "\\item 'was'\n",
       "\\item 'nominated'\n",
       "\\item 'for'\n",
       "\\item 'twelve'\n",
       "\\item 'BAFTAs,'\n",
       "\\item 'the'\n",
       "\\item 'most'\n",
       "\\item 'of'\n",
       "\\item 'any'\n",
       "\\item 'film'\n",
       "\\item 'from'\n",
       "\\item '2011'\n",
       "\\item 'and'\n",
       "\\item 'won'\n",
       "\\item 'seven,'\n",
       "\\item 'including'\n",
       "\\item 'Best'\n",
       "\\item 'Film,'\n",
       "\\item 'Best'\n",
       "\\item 'Director'\n",
       "\\item 'and'\n",
       "\\item 'Best'\n",
       "\\item 'Original'\n",
       "\\item 'Screenplay'\n",
       "\\item 'for'\n",
       "\\item 'Hazanavicius,'\n",
       "\\item 'and'\n",
       "\\item 'Best'\n",
       "\\item 'Actor'\n",
       "\\item 'for'\n",
       "\\item 'Dujardin.'\n",
       "\\end{enumerate*}\n"
      ],
      "text/markdown": [
       "1. 'The'\n",
       "2. 'Artist'\n",
       "3. 'is'\n",
       "4. 'a'\n",
       "5. '2011'\n",
       "6. 'French'\n",
       "7. 'romantic'\n",
       "8. 'comedy-drama'\n",
       "9. 'in'\n",
       "10. 'the'\n",
       "11. 'style'\n",
       "12. 'of'\n",
       "13. 'a'\n",
       "14. 'black-and-white'\n",
       "15. 'silent'\n",
       "16. 'film.'\n",
       "17. 'It'\n",
       "18. 'was'\n",
       "19. 'written,'\n",
       "20. 'directed,'\n",
       "21. 'and'\n",
       "22. 'co-edited'\n",
       "23. 'by'\n",
       "24. 'Michel'\n",
       "25. 'Hazanavicius,'\n",
       "26. 'produced'\n",
       "27. 'by'\n",
       "28. 'Thomas'\n",
       "29. 'Langmann'\n",
       "30. 'and'\n",
       "31. 'starred'\n",
       "32. 'Jean'\n",
       "33. 'Dujardin'\n",
       "34. 'and'\n",
       "35. 'Bérénice'\n",
       "36. 'Bejo.'\n",
       "37. 'The'\n",
       "38. 'story'\n",
       "39. 'takes'\n",
       "40. 'place'\n",
       "41. 'in'\n",
       "42. 'Hollywood,'\n",
       "43. 'between'\n",
       "44. '1927'\n",
       "45. 'and'\n",
       "46. '1932,'\n",
       "47. 'and'\n",
       "48. 'focuses'\n",
       "49. 'on'\n",
       "50. 'the'\n",
       "51. 'relationship'\n",
       "52. 'of'\n",
       "53. 'an'\n",
       "54. 'older'\n",
       "55. 'silent'\n",
       "56. 'film'\n",
       "57. 'star'\n",
       "58. 'and'\n",
       "59. 'a'\n",
       "60. 'rising'\n",
       "61. 'young'\n",
       "62. 'actress'\n",
       "63. 'as'\n",
       "64. 'silent'\n",
       "65. 'cinema'\n",
       "66. 'falls'\n",
       "67. 'out'\n",
       "68. 'of'\n",
       "69. 'fashion'\n",
       "70. 'and'\n",
       "71. 'is'\n",
       "72. 'replaced'\n",
       "73. 'by'\n",
       "74. 'the'\n",
       "75. 'talkies.'\n",
       "76. 'The'\n",
       "77. 'Artist'\n",
       "78. 'received'\n",
       "79. 'highly'\n",
       "80. 'positive'\n",
       "81. 'reviews'\n",
       "82. 'from'\n",
       "83. 'critics'\n",
       "84. 'and'\n",
       "85. 'won'\n",
       "86. 'many'\n",
       "87. 'accolades.'\n",
       "88. 'Dujardin'\n",
       "89. 'won'\n",
       "90. 'the'\n",
       "91. 'Best'\n",
       "92. 'Actor'\n",
       "93. 'Award'\n",
       "94. 'at'\n",
       "95. 'the'\n",
       "96. '2011'\n",
       "97. 'Cannes'\n",
       "98. 'Film'\n",
       "99. 'Festival,'\n",
       "100. 'where'\n",
       "101. 'the'\n",
       "102. 'film'\n",
       "103. 'premiered.'\n",
       "104. 'The'\n",
       "105. 'film'\n",
       "106. 'was'\n",
       "107. 'nominated'\n",
       "108. 'for'\n",
       "109. 'six'\n",
       "110. 'Golden'\n",
       "111. 'Globes,'\n",
       "112. 'the'\n",
       "113. 'most'\n",
       "114. 'of'\n",
       "115. 'any'\n",
       "116. '2011'\n",
       "117. 'film,'\n",
       "118. 'and'\n",
       "119. 'won'\n",
       "120. 'three:'\n",
       "121. 'Best'\n",
       "122. 'Motion'\n",
       "123. 'Picture'\n",
       "124. '–'\n",
       "125. 'Musical'\n",
       "126. 'or'\n",
       "127. 'Comedy,'\n",
       "128. 'Best'\n",
       "129. 'Original'\n",
       "130. 'Score,'\n",
       "131. 'and'\n",
       "132. 'Best'\n",
       "133. 'Actor'\n",
       "134. '–'\n",
       "135. 'Motion'\n",
       "136. 'Picture'\n",
       "137. 'Musical'\n",
       "138. 'or'\n",
       "139. 'Comedy'\n",
       "140. 'for'\n",
       "141. 'Dujardin.'\n",
       "142. 'In'\n",
       "143. 'January'\n",
       "144. '2012,'\n",
       "145. 'the'\n",
       "146. 'film'\n",
       "147. 'was'\n",
       "148. 'nominated'\n",
       "149. 'for'\n",
       "150. 'twelve'\n",
       "151. 'BAFTAs,'\n",
       "152. 'the'\n",
       "153. 'most'\n",
       "154. 'of'\n",
       "155. 'any'\n",
       "156. 'film'\n",
       "157. 'from'\n",
       "158. '2011'\n",
       "159. 'and'\n",
       "160. 'won'\n",
       "161. 'seven,'\n",
       "162. 'including'\n",
       "163. 'Best'\n",
       "164. 'Film,'\n",
       "165. 'Best'\n",
       "166. 'Director'\n",
       "167. 'and'\n",
       "168. 'Best'\n",
       "169. 'Original'\n",
       "170. 'Screenplay'\n",
       "171. 'for'\n",
       "172. 'Hazanavicius,'\n",
       "173. 'and'\n",
       "174. 'Best'\n",
       "175. 'Actor'\n",
       "176. 'for'\n",
       "177. 'Dujardin.'\n",
       "\n",
       "\n"
      ],
      "text/plain": [
       "  [1] \"The\"             \"Artist\"          \"is\"              \"a\"              \n",
       "  [5] \"2011\"            \"French\"          \"romantic\"        \"comedy-drama\"   \n",
       "  [9] \"in\"              \"the\"             \"style\"           \"of\"             \n",
       " [13] \"a\"               \"black-and-white\" \"silent\"          \"film.\"          \n",
       " [17] \"It\"              \"was\"             \"written,\"        \"directed,\"      \n",
       " [21] \"and\"             \"co-edited\"       \"by\"              \"Michel\"         \n",
       " [25] \"Hazanavicius,\"   \"produced\"        \"by\"              \"Thomas\"         \n",
       " [29] \"Langmann\"        \"and\"             \"starred\"         \"Jean\"           \n",
       " [33] \"Dujardin\"        \"and\"             \"Bérénice\"        \"Bejo.\"          \n",
       " [37] \"The\"             \"story\"           \"takes\"           \"place\"          \n",
       " [41] \"in\"              \"Hollywood,\"      \"between\"         \"1927\"           \n",
       " [45] \"and\"             \"1932,\"           \"and\"             \"focuses\"        \n",
       " [49] \"on\"              \"the\"             \"relationship\"    \"of\"             \n",
       " [53] \"an\"              \"older\"           \"silent\"          \"film\"           \n",
       " [57] \"star\"            \"and\"             \"a\"               \"rising\"         \n",
       " [61] \"young\"           \"actress\"         \"as\"              \"silent\"         \n",
       " [65] \"cinema\"          \"falls\"           \"out\"             \"of\"             \n",
       " [69] \"fashion\"         \"and\"             \"is\"              \"replaced\"       \n",
       " [73] \"by\"              \"the\"             \"talkies.\"        \"The\"            \n",
       " [77] \"Artist\"          \"received\"        \"highly\"          \"positive\"       \n",
       " [81] \"reviews\"         \"from\"            \"critics\"         \"and\"            \n",
       " [85] \"won\"             \"many\"            \"accolades.\"      \"Dujardin\"       \n",
       " [89] \"won\"             \"the\"             \"Best\"            \"Actor\"          \n",
       " [93] \"Award\"           \"at\"              \"the\"             \"2011\"           \n",
       " [97] \"Cannes\"          \"Film\"            \"Festival,\"       \"where\"          \n",
       "[101] \"the\"             \"film\"            \"premiered.\"      \"The\"            \n",
       "[105] \"film\"            \"was\"             \"nominated\"       \"for\"            \n",
       "[109] \"six\"             \"Golden\"          \"Globes,\"         \"the\"            \n",
       "[113] \"most\"            \"of\"              \"any\"             \"2011\"           \n",
       "[117] \"film,\"           \"and\"             \"won\"             \"three:\"         \n",
       "[121] \"Best\"            \"Motion\"          \"Picture\"         \"–\"              \n",
       "[125] \"Musical\"         \"or\"              \"Comedy,\"         \"Best\"           \n",
       "[129] \"Original\"        \"Score,\"          \"and\"             \"Best\"           \n",
       "[133] \"Actor\"           \"–\"               \"Motion\"          \"Picture\"        \n",
       "[137] \"Musical\"         \"or\"              \"Comedy\"          \"for\"            \n",
       "[141] \"Dujardin.\"       \"In\"              \"January\"         \"2012,\"          \n",
       "[145] \"the\"             \"film\"            \"was\"             \"nominated\"      \n",
       "[149] \"for\"             \"twelve\"          \"BAFTAs,\"         \"the\"            \n",
       "[153] \"most\"            \"of\"              \"any\"             \"film\"           \n",
       "[157] \"from\"            \"2011\"            \"and\"             \"won\"            \n",
       "[161] \"seven,\"          \"including\"       \"Best\"            \"Film,\"          \n",
       "[165] \"Best\"            \"Director\"        \"and\"             \"Best\"           \n",
       "[169] \"Original\"        \"Screenplay\"      \"for\"             \"Hazanavicius,\"  \n",
       "[173] \"and\"             \"Best\"            \"Actor\"           \"for\"            \n",
       "[177] \"Dujardin.\"      "
      ]
     },
     "metadata": {},
     "output_type": "display_data"
    }
   ],
   "source": [
    "#scan()\n",
    "my_data1 <- scan(\"The_Artist.txt\", \"\")\n",
    "my_data1"
   ]
  },
  {
   "cell_type": "code",
   "execution_count": 9,
   "id": "06e4c336-b2b6-4ee2-ab02-9b7ea697bddf",
   "metadata": {},
   "outputs": [
    {
     "data": {
      "text/html": [
       "177"
      ],
      "text/latex": [
       "177"
      ],
      "text/markdown": [
       "177"
      ],
      "text/plain": [
       "[1] 177"
      ]
     },
     "metadata": {},
     "output_type": "display_data"
    }
   ],
   "source": [
    "#get no of elements\n",
    "length(my_data1)"
   ]
  },
  {
   "cell_type": "code",
   "execution_count": 10,
   "id": "0c09a45e-6274-4320-975e-398dd8dd57df",
   "metadata": {},
   "outputs": [],
   "source": [
    "##STRING OPERATIONS"
   ]
  },
  {
   "cell_type": "code",
   "execution_count": 11,
   "id": "b305a11f-91bd-464a-aad4-7f08267872a6",
   "metadata": {},
   "outputs": [
    {
     "data": {
      "text/html": [
       "450"
      ],
      "text/latex": [
       "450"
      ],
      "text/markdown": [
       "450"
      ],
      "text/plain": [
       "[1] 450"
      ]
     },
     "metadata": {},
     "output_type": "display_data"
    }
   ],
   "source": [
    "#nchar will return the total number of characters in the given string.\n",
    "nchar(my_data[1])"
   ]
  },
  {
   "cell_type": "code",
   "execution_count": 12,
   "id": "12cc403c-da9d-40c0-bb57-33f4aa3eb3c1",
   "metadata": {},
   "outputs": [
    {
     "data": {
      "text/html": [
       "'THE ARTIST RECEIVED HIGHLY POSITIVE REVIEWS FROM CRITICS AND WON MANY ACCOLADES. DUJARDIN WON THE BEST ACTOR AWARD AT THE 2011 CANNES FILM FESTIVAL, WHERE THE FILM PREMIERED. THE FILM WAS NOMINATED FOR SIX GOLDEN GLOBES, THE MOST OF ANY 2011 FILM, AND WON THREE: BEST MOTION PICTURE – MUSICAL OR COMEDY, BEST ORIGINAL SCORE, AND BEST ACTOR – MOTION PICTURE MUSICAL OR COMEDY FOR DUJARDIN. IN JANUARY 2012, THE FILM WAS NOMINATED FOR TWELVE BAFTAS, THE MOST OF ANY FILM FROM 2011 AND WON SEVEN, INCLUDING BEST FILM, BEST DIRECTOR AND BEST ORIGINAL SCREENPLAY FOR HAZANAVICIUS, AND BEST ACTOR FOR DUJARDIN.'"
      ],
      "text/latex": [
       "'THE ARTIST RECEIVED HIGHLY POSITIVE REVIEWS FROM CRITICS AND WON MANY ACCOLADES. DUJARDIN WON THE BEST ACTOR AWARD AT THE 2011 CANNES FILM FESTIVAL, WHERE THE FILM PREMIERED. THE FILM WAS NOMINATED FOR SIX GOLDEN GLOBES, THE MOST OF ANY 2011 FILM, AND WON THREE: BEST MOTION PICTURE – MUSICAL OR COMEDY, BEST ORIGINAL SCORE, AND BEST ACTOR – MOTION PICTURE MUSICAL OR COMEDY FOR DUJARDIN. IN JANUARY 2012, THE FILM WAS NOMINATED FOR TWELVE BAFTAS, THE MOST OF ANY FILM FROM 2011 AND WON SEVEN, INCLUDING BEST FILM, BEST DIRECTOR AND BEST ORIGINAL SCREENPLAY FOR HAZANAVICIUS, AND BEST ACTOR FOR DUJARDIN.'"
      ],
      "text/markdown": [
       "'THE ARTIST RECEIVED HIGHLY POSITIVE REVIEWS FROM CRITICS AND WON MANY ACCOLADES. DUJARDIN WON THE BEST ACTOR AWARD AT THE 2011 CANNES FILM FESTIVAL, WHERE THE FILM PREMIERED. THE FILM WAS NOMINATED FOR SIX GOLDEN GLOBES, THE MOST OF ANY 2011 FILM, AND WON THREE: BEST MOTION PICTURE – MUSICAL OR COMEDY, BEST ORIGINAL SCORE, AND BEST ACTOR – MOTION PICTURE MUSICAL OR COMEDY FOR DUJARDIN. IN JANUARY 2012, THE FILM WAS NOMINATED FOR TWELVE BAFTAS, THE MOST OF ANY FILM FROM 2011 AND WON SEVEN, INCLUDING BEST FILM, BEST DIRECTOR AND BEST ORIGINAL SCREENPLAY FOR HAZANAVICIUS, AND BEST ACTOR FOR DUJARDIN.'"
      ],
      "text/plain": [
       "[1] \"THE ARTIST RECEIVED HIGHLY POSITIVE REVIEWS FROM CRITICS AND WON MANY ACCOLADES. DUJARDIN WON THE BEST ACTOR AWARD AT THE 2011 CANNES FILM FESTIVAL, WHERE THE FILM PREMIERED. THE FILM WAS NOMINATED FOR SIX GOLDEN GLOBES, THE MOST OF ANY 2011 FILM, AND WON THREE: BEST MOTION PICTURE – MUSICAL OR COMEDY, BEST ORIGINAL SCORE, AND BEST ACTOR – MOTION PICTURE MUSICAL OR COMEDY FOR DUJARDIN. IN JANUARY 2012, THE FILM WAS NOMINATED FOR TWELVE BAFTAS, THE MOST OF ANY FILM FROM 2011 AND WON SEVEN, INCLUDING BEST FILM, BEST DIRECTOR AND BEST ORIGINAL SCREENPLAY FOR HAZANAVICIUS, AND BEST ACTOR FOR DUJARDIN.\""
      ]
     },
     "metadata": {},
     "output_type": "display_data"
    }
   ],
   "source": [
    "#convert to uppercase\n",
    "toupper(my_data[3])"
   ]
  },
  {
   "cell_type": "code",
   "execution_count": 14,
   "id": "6acbc9d3-5207-40a6-a8e8-cd8a84e8013d",
   "metadata": {},
   "outputs": [
    {
     "data": {
      "text/html": [
       "'the artist received highly positive reviews from critics and won many accolades. dujardin won the best actor award at the 2011 cannes film festival, where the film premiered. the film was nominated for six golden globes, the most of any 2011 film, and won three: best motion picture – musical or comedy, best original score, and best actor – motion picture musical or comedy for dujardin. in january 2012, the film was nominated for twelve baftas, the most of any film from 2011 and won seven, including best film, best director and best original screenplay for hazanavicius, and best actor for dujardin.'"
      ],
      "text/latex": [
       "'the artist received highly positive reviews from critics and won many accolades. dujardin won the best actor award at the 2011 cannes film festival, where the film premiered. the film was nominated for six golden globes, the most of any 2011 film, and won three: best motion picture – musical or comedy, best original score, and best actor – motion picture musical or comedy for dujardin. in january 2012, the film was nominated for twelve baftas, the most of any film from 2011 and won seven, including best film, best director and best original screenplay for hazanavicius, and best actor for dujardin.'"
      ],
      "text/markdown": [
       "'the artist received highly positive reviews from critics and won many accolades. dujardin won the best actor award at the 2011 cannes film festival, where the film premiered. the film was nominated for six golden globes, the most of any 2011 film, and won three: best motion picture – musical or comedy, best original score, and best actor – motion picture musical or comedy for dujardin. in january 2012, the film was nominated for twelve baftas, the most of any film from 2011 and won seven, including best film, best director and best original screenplay for hazanavicius, and best actor for dujardin.'"
      ],
      "text/plain": [
       "[1] \"the artist received highly positive reviews from critics and won many accolades. dujardin won the best actor award at the 2011 cannes film festival, where the film premiered. the film was nominated for six golden globes, the most of any 2011 film, and won three: best motion picture – musical or comedy, best original score, and best actor – motion picture musical or comedy for dujardin. in january 2012, the film was nominated for twelve baftas, the most of any film from 2011 and won seven, including best film, best director and best original screenplay for hazanavicius, and best actor for dujardin.\""
      ]
     },
     "metadata": {},
     "output_type": "display_data"
    }
   ],
   "source": [
    "#lower case\n",
    "tolower(my_data[3])"
   ]
  },
  {
   "cell_type": "code",
   "execution_count": 15,
   "id": "d5ecf77b-c898-4d4d-ac0e-14e3dcf433f4",
   "metadata": {},
   "outputs": [
    {
     "data": {
      "text/html": [
       "'The-Artist-is-a-2011-French-romantic-comedy-drama-in-the-style-of-a-black-and-white-silent-film.-It-was-written,-directed,-and-co-edited-by-Michel-Hazanavicius,-produced-by-Thomas-Langmann-and-starred-Jean-Dujardin-and-Bérénice-Bejo.-The-story-takes-place-in-Hollywood,-between-1927-and-1932,-and-focuses-on-the-relationship-of-an-older-silent-film-star-and-a-rising-young-actress-as-silent-cinema-falls-out-of-fashion-and-is-replaced-by-the-talkies.'"
      ],
      "text/latex": [
       "'The-Artist-is-a-2011-French-romantic-comedy-drama-in-the-style-of-a-black-and-white-silent-film.-It-was-written,-directed,-and-co-edited-by-Michel-Hazanavicius,-produced-by-Thomas-Langmann-and-starred-Jean-Dujardin-and-Bérénice-Bejo.-The-story-takes-place-in-Hollywood,-between-1927-and-1932,-and-focuses-on-the-relationship-of-an-older-silent-film-star-and-a-rising-young-actress-as-silent-cinema-falls-out-of-fashion-and-is-replaced-by-the-talkies.'"
      ],
      "text/markdown": [
       "'The-Artist-is-a-2011-French-romantic-comedy-drama-in-the-style-of-a-black-and-white-silent-film.-It-was-written,-directed,-and-co-edited-by-Michel-Hazanavicius,-produced-by-Thomas-Langmann-and-starred-Jean-Dujardin-and-Bérénice-Bejo.-The-story-takes-place-in-Hollywood,-between-1927-and-1932,-and-focuses-on-the-relationship-of-an-older-silent-film-star-and-a-rising-young-actress-as-silent-cinema-falls-out-of-fashion-and-is-replaced-by-the-talkies.'"
      ],
      "text/plain": [
       "[1] \"The-Artist-is-a-2011-French-romantic-comedy-drama-in-the-style-of-a-black-and-white-silent-film.-It-was-written,-directed,-and-co-edited-by-Michel-Hazanavicius,-produced-by-Thomas-Langmann-and-starred-Jean-Dujardin-and-Bérénice-Bejo.-The-story-takes-place-in-Hollywood,-between-1927-and-1932,-and-focuses-on-the-relationship-of-an-older-silent-film-star-and-a-rising-young-actress-as-silent-cinema-falls-out-of-fashion-and-is-replaced-by-the-talkies.\""
      ]
     },
     "metadata": {},
     "output_type": "display_data"
    }
   ],
   "source": [
    "#replace characters in a string\n",
    "chartr(\" \", \"-\", my_data[1])"
   ]
  },
  {
   "cell_type": "code",
   "execution_count": 16,
   "id": "0789cd84-c5cb-4229-b3a9-cc930082ba1a",
   "metadata": {},
   "outputs": [
    {
     "data": {
      "text/html": [
       "<style>\n",
       ".list-inline {list-style: none; margin:0; padding: 0}\n",
       ".list-inline>li {display: inline-block}\n",
       ".list-inline>li:not(:last-child)::after {content: \"\\00b7\"; padding: 0 .5ex}\n",
       "</style>\n",
       "<ol class=list-inline><li>'The'</li><li>'Artist'</li><li>'is'</li><li>'a'</li><li>'2011'</li><li>'French'</li><li>'romantic'</li><li>'comedy-drama'</li><li>'in'</li><li>'the'</li><li>'style'</li><li>'of'</li><li>'a'</li><li>'black-and-white'</li><li>'silent'</li><li>'film.'</li><li>'It'</li><li>'was'</li><li>'written,'</li><li>'directed,'</li><li>'and'</li><li>'co-edited'</li><li>'by'</li><li>'Michel'</li><li>'Hazanavicius,'</li><li>'produced'</li><li>'by'</li><li>'Thomas'</li><li>'Langmann'</li><li>'and'</li><li>'starred'</li><li>'Jean'</li><li>'Dujardin'</li><li>'and'</li><li>'Bérénice'</li><li>'Bejo.'</li><li>'The'</li><li>'story'</li><li>'takes'</li><li>'place'</li><li>'in'</li><li>'Hollywood,'</li><li>'between'</li><li>'1927'</li><li>'and'</li><li>'1932,'</li><li>'and'</li><li>'focuses'</li><li>'on'</li><li>'the'</li><li>'relationship'</li><li>'of'</li><li>'an'</li><li>'older'</li><li>'silent'</li><li>'film'</li><li>'star'</li><li>'and'</li><li>'a'</li><li>'rising'</li><li>'young'</li><li>'actress'</li><li>'as'</li><li>'silent'</li><li>'cinema'</li><li>'falls'</li><li>'out'</li><li>'of'</li><li>'fashion'</li><li>'and'</li><li>'is'</li><li>'replaced'</li><li>'by'</li><li>'the'</li><li>'talkies.'</li></ol>\n"
      ],
      "text/latex": [
       "\\begin{enumerate*}\n",
       "\\item 'The'\n",
       "\\item 'Artist'\n",
       "\\item 'is'\n",
       "\\item 'a'\n",
       "\\item '2011'\n",
       "\\item 'French'\n",
       "\\item 'romantic'\n",
       "\\item 'comedy-drama'\n",
       "\\item 'in'\n",
       "\\item 'the'\n",
       "\\item 'style'\n",
       "\\item 'of'\n",
       "\\item 'a'\n",
       "\\item 'black-and-white'\n",
       "\\item 'silent'\n",
       "\\item 'film.'\n",
       "\\item 'It'\n",
       "\\item 'was'\n",
       "\\item 'written,'\n",
       "\\item 'directed,'\n",
       "\\item 'and'\n",
       "\\item 'co-edited'\n",
       "\\item 'by'\n",
       "\\item 'Michel'\n",
       "\\item 'Hazanavicius,'\n",
       "\\item 'produced'\n",
       "\\item 'by'\n",
       "\\item 'Thomas'\n",
       "\\item 'Langmann'\n",
       "\\item 'and'\n",
       "\\item 'starred'\n",
       "\\item 'Jean'\n",
       "\\item 'Dujardin'\n",
       "\\item 'and'\n",
       "\\item 'Bérénice'\n",
       "\\item 'Bejo.'\n",
       "\\item 'The'\n",
       "\\item 'story'\n",
       "\\item 'takes'\n",
       "\\item 'place'\n",
       "\\item 'in'\n",
       "\\item 'Hollywood,'\n",
       "\\item 'between'\n",
       "\\item '1927'\n",
       "\\item 'and'\n",
       "\\item '1932,'\n",
       "\\item 'and'\n",
       "\\item 'focuses'\n",
       "\\item 'on'\n",
       "\\item 'the'\n",
       "\\item 'relationship'\n",
       "\\item 'of'\n",
       "\\item 'an'\n",
       "\\item 'older'\n",
       "\\item 'silent'\n",
       "\\item 'film'\n",
       "\\item 'star'\n",
       "\\item 'and'\n",
       "\\item 'a'\n",
       "\\item 'rising'\n",
       "\\item 'young'\n",
       "\\item 'actress'\n",
       "\\item 'as'\n",
       "\\item 'silent'\n",
       "\\item 'cinema'\n",
       "\\item 'falls'\n",
       "\\item 'out'\n",
       "\\item 'of'\n",
       "\\item 'fashion'\n",
       "\\item 'and'\n",
       "\\item 'is'\n",
       "\\item 'replaced'\n",
       "\\item 'by'\n",
       "\\item 'the'\n",
       "\\item 'talkies.'\n",
       "\\end{enumerate*}\n"
      ],
      "text/markdown": [
       "1. 'The'\n",
       "2. 'Artist'\n",
       "3. 'is'\n",
       "4. 'a'\n",
       "5. '2011'\n",
       "6. 'French'\n",
       "7. 'romantic'\n",
       "8. 'comedy-drama'\n",
       "9. 'in'\n",
       "10. 'the'\n",
       "11. 'style'\n",
       "12. 'of'\n",
       "13. 'a'\n",
       "14. 'black-and-white'\n",
       "15. 'silent'\n",
       "16. 'film.'\n",
       "17. 'It'\n",
       "18. 'was'\n",
       "19. 'written,'\n",
       "20. 'directed,'\n",
       "21. 'and'\n",
       "22. 'co-edited'\n",
       "23. 'by'\n",
       "24. 'Michel'\n",
       "25. 'Hazanavicius,'\n",
       "26. 'produced'\n",
       "27. 'by'\n",
       "28. 'Thomas'\n",
       "29. 'Langmann'\n",
       "30. 'and'\n",
       "31. 'starred'\n",
       "32. 'Jean'\n",
       "33. 'Dujardin'\n",
       "34. 'and'\n",
       "35. 'Bérénice'\n",
       "36. 'Bejo.'\n",
       "37. 'The'\n",
       "38. 'story'\n",
       "39. 'takes'\n",
       "40. 'place'\n",
       "41. 'in'\n",
       "42. 'Hollywood,'\n",
       "43. 'between'\n",
       "44. '1927'\n",
       "45. 'and'\n",
       "46. '1932,'\n",
       "47. 'and'\n",
       "48. 'focuses'\n",
       "49. 'on'\n",
       "50. 'the'\n",
       "51. 'relationship'\n",
       "52. 'of'\n",
       "53. 'an'\n",
       "54. 'older'\n",
       "55. 'silent'\n",
       "56. 'film'\n",
       "57. 'star'\n",
       "58. 'and'\n",
       "59. 'a'\n",
       "60. 'rising'\n",
       "61. 'young'\n",
       "62. 'actress'\n",
       "63. 'as'\n",
       "64. 'silent'\n",
       "65. 'cinema'\n",
       "66. 'falls'\n",
       "67. 'out'\n",
       "68. 'of'\n",
       "69. 'fashion'\n",
       "70. 'and'\n",
       "71. 'is'\n",
       "72. 'replaced'\n",
       "73. 'by'\n",
       "74. 'the'\n",
       "75. 'talkies.'\n",
       "\n",
       "\n"
      ],
      "text/plain": [
       " [1] \"The\"             \"Artist\"          \"is\"              \"a\"              \n",
       " [5] \"2011\"            \"French\"          \"romantic\"        \"comedy-drama\"   \n",
       " [9] \"in\"              \"the\"             \"style\"           \"of\"             \n",
       "[13] \"a\"               \"black-and-white\" \"silent\"          \"film.\"          \n",
       "[17] \"It\"              \"was\"             \"written,\"        \"directed,\"      \n",
       "[21] \"and\"             \"co-edited\"       \"by\"              \"Michel\"         \n",
       "[25] \"Hazanavicius,\"   \"produced\"        \"by\"              \"Thomas\"         \n",
       "[29] \"Langmann\"        \"and\"             \"starred\"         \"Jean\"           \n",
       "[33] \"Dujardin\"        \"and\"             \"Bérénice\"        \"Bejo.\"          \n",
       "[37] \"The\"             \"story\"           \"takes\"           \"place\"          \n",
       "[41] \"in\"              \"Hollywood,\"      \"between\"         \"1927\"           \n",
       "[45] \"and\"             \"1932,\"           \"and\"             \"focuses\"        \n",
       "[49] \"on\"              \"the\"             \"relationship\"    \"of\"             \n",
       "[53] \"an\"              \"older\"           \"silent\"          \"film\"           \n",
       "[57] \"star\"            \"and\"             \"a\"               \"rising\"         \n",
       "[61] \"young\"           \"actress\"         \"as\"              \"silent\"         \n",
       "[65] \"cinema\"          \"falls\"           \"out\"             \"of\"             \n",
       "[69] \"fashion\"         \"and\"             \"is\"              \"replaced\"       \n",
       "[73] \"by\"              \"the\"             \"talkies.\"       "
      ]
     },
     "metadata": {},
     "output_type": "display_data"
    }
   ],
   "source": [
    "#split a string\n",
    "\n",
    "character_list <- strsplit(my_data[1], \" \")\n",
    "word_list <- unlist(character_list)\n",
    "word_list"
   ]
  },
  {
   "cell_type": "code",
   "execution_count": 17,
   "id": "5ab51716-0863-4fc8-ab71-a0d39df3076a",
   "metadata": {},
   "outputs": [
    {
     "data": {
      "text/html": [
       "<style>\n",
       ".list-inline {list-style: none; margin:0; padding: 0}\n",
       ".list-inline>li {display: inline-block}\n",
       ".list-inline>li:not(:last-child)::after {content: \"\\00b7\"; padding: 0 .5ex}\n",
       "</style>\n",
       "<ol class=list-inline><li>'1927'</li><li>'1932,'</li><li>'2011'</li><li>'a'</li><li>'a'</li><li>'a'</li><li>'actress'</li><li>'an'</li><li>'and'</li><li>'and'</li><li>'and'</li><li>'and'</li><li>'and'</li><li>'and'</li><li>'and'</li><li>'Artist'</li><li>'as'</li><li>'Bejo.'</li><li>'Bérénice'</li><li>'between'</li><li>'black-and-white'</li><li>'by'</li><li>'by'</li><li>'by'</li><li>'cinema'</li><li>'co-edited'</li><li>'comedy-drama'</li><li>'directed,'</li><li>'Dujardin'</li><li>'falls'</li><li>'fashion'</li><li>'film'</li><li>'film.'</li><li>'focuses'</li><li>'French'</li><li>'Hazanavicius,'</li><li>'Hollywood,'</li><li>'in'</li><li>'in'</li><li>'is'</li><li>'is'</li><li>'It'</li><li>'Jean'</li><li>'Langmann'</li><li>'Michel'</li><li>'of'</li><li>'of'</li><li>'of'</li><li>'older'</li><li>'on'</li><li>'out'</li><li>'place'</li><li>'produced'</li><li>'relationship'</li><li>'replaced'</li><li>'rising'</li><li>'romantic'</li><li>'silent'</li><li>'silent'</li><li>'silent'</li><li>'star'</li><li>'starred'</li><li>'story'</li><li>'style'</li><li>'takes'</li><li>'talkies.'</li><li>'the'</li><li>'the'</li><li>'the'</li><li>'The'</li><li>'The'</li><li>'Thomas'</li><li>'was'</li><li>'written,'</li><li>'young'</li></ol>\n"
      ],
      "text/latex": [
       "\\begin{enumerate*}\n",
       "\\item '1927'\n",
       "\\item '1932,'\n",
       "\\item '2011'\n",
       "\\item 'a'\n",
       "\\item 'a'\n",
       "\\item 'a'\n",
       "\\item 'actress'\n",
       "\\item 'an'\n",
       "\\item 'and'\n",
       "\\item 'and'\n",
       "\\item 'and'\n",
       "\\item 'and'\n",
       "\\item 'and'\n",
       "\\item 'and'\n",
       "\\item 'and'\n",
       "\\item 'Artist'\n",
       "\\item 'as'\n",
       "\\item 'Bejo.'\n",
       "\\item 'Bérénice'\n",
       "\\item 'between'\n",
       "\\item 'black-and-white'\n",
       "\\item 'by'\n",
       "\\item 'by'\n",
       "\\item 'by'\n",
       "\\item 'cinema'\n",
       "\\item 'co-edited'\n",
       "\\item 'comedy-drama'\n",
       "\\item 'directed,'\n",
       "\\item 'Dujardin'\n",
       "\\item 'falls'\n",
       "\\item 'fashion'\n",
       "\\item 'film'\n",
       "\\item 'film.'\n",
       "\\item 'focuses'\n",
       "\\item 'French'\n",
       "\\item 'Hazanavicius,'\n",
       "\\item 'Hollywood,'\n",
       "\\item 'in'\n",
       "\\item 'in'\n",
       "\\item 'is'\n",
       "\\item 'is'\n",
       "\\item 'It'\n",
       "\\item 'Jean'\n",
       "\\item 'Langmann'\n",
       "\\item 'Michel'\n",
       "\\item 'of'\n",
       "\\item 'of'\n",
       "\\item 'of'\n",
       "\\item 'older'\n",
       "\\item 'on'\n",
       "\\item 'out'\n",
       "\\item 'place'\n",
       "\\item 'produced'\n",
       "\\item 'relationship'\n",
       "\\item 'replaced'\n",
       "\\item 'rising'\n",
       "\\item 'romantic'\n",
       "\\item 'silent'\n",
       "\\item 'silent'\n",
       "\\item 'silent'\n",
       "\\item 'star'\n",
       "\\item 'starred'\n",
       "\\item 'story'\n",
       "\\item 'style'\n",
       "\\item 'takes'\n",
       "\\item 'talkies.'\n",
       "\\item 'the'\n",
       "\\item 'the'\n",
       "\\item 'the'\n",
       "\\item 'The'\n",
       "\\item 'The'\n",
       "\\item 'Thomas'\n",
       "\\item 'was'\n",
       "\\item 'written,'\n",
       "\\item 'young'\n",
       "\\end{enumerate*}\n"
      ],
      "text/markdown": [
       "1. '1927'\n",
       "2. '1932,'\n",
       "3. '2011'\n",
       "4. 'a'\n",
       "5. 'a'\n",
       "6. 'a'\n",
       "7. 'actress'\n",
       "8. 'an'\n",
       "9. 'and'\n",
       "10. 'and'\n",
       "11. 'and'\n",
       "12. 'and'\n",
       "13. 'and'\n",
       "14. 'and'\n",
       "15. 'and'\n",
       "16. 'Artist'\n",
       "17. 'as'\n",
       "18. 'Bejo.'\n",
       "19. 'Bérénice'\n",
       "20. 'between'\n",
       "21. 'black-and-white'\n",
       "22. 'by'\n",
       "23. 'by'\n",
       "24. 'by'\n",
       "25. 'cinema'\n",
       "26. 'co-edited'\n",
       "27. 'comedy-drama'\n",
       "28. 'directed,'\n",
       "29. 'Dujardin'\n",
       "30. 'falls'\n",
       "31. 'fashion'\n",
       "32. 'film'\n",
       "33. 'film.'\n",
       "34. 'focuses'\n",
       "35. 'French'\n",
       "36. 'Hazanavicius,'\n",
       "37. 'Hollywood,'\n",
       "38. 'in'\n",
       "39. 'in'\n",
       "40. 'is'\n",
       "41. 'is'\n",
       "42. 'It'\n",
       "43. 'Jean'\n",
       "44. 'Langmann'\n",
       "45. 'Michel'\n",
       "46. 'of'\n",
       "47. 'of'\n",
       "48. 'of'\n",
       "49. 'older'\n",
       "50. 'on'\n",
       "51. 'out'\n",
       "52. 'place'\n",
       "53. 'produced'\n",
       "54. 'relationship'\n",
       "55. 'replaced'\n",
       "56. 'rising'\n",
       "57. 'romantic'\n",
       "58. 'silent'\n",
       "59. 'silent'\n",
       "60. 'silent'\n",
       "61. 'star'\n",
       "62. 'starred'\n",
       "63. 'story'\n",
       "64. 'style'\n",
       "65. 'takes'\n",
       "66. 'talkies.'\n",
       "67. 'the'\n",
       "68. 'the'\n",
       "69. 'the'\n",
       "70. 'The'\n",
       "71. 'The'\n",
       "72. 'Thomas'\n",
       "73. 'was'\n",
       "74. 'written,'\n",
       "75. 'young'\n",
       "\n",
       "\n"
      ],
      "text/plain": [
       " [1] \"1927\"            \"1932,\"           \"2011\"            \"a\"              \n",
       " [5] \"a\"               \"a\"               \"actress\"         \"an\"             \n",
       " [9] \"and\"             \"and\"             \"and\"             \"and\"            \n",
       "[13] \"and\"             \"and\"             \"and\"             \"Artist\"         \n",
       "[17] \"as\"              \"Bejo.\"           \"Bérénice\"        \"between\"        \n",
       "[21] \"black-and-white\" \"by\"              \"by\"              \"by\"             \n",
       "[25] \"cinema\"          \"co-edited\"       \"comedy-drama\"    \"directed,\"      \n",
       "[29] \"Dujardin\"        \"falls\"           \"fashion\"         \"film\"           \n",
       "[33] \"film.\"           \"focuses\"         \"French\"          \"Hazanavicius,\"  \n",
       "[37] \"Hollywood,\"      \"in\"              \"in\"              \"is\"             \n",
       "[41] \"is\"              \"It\"              \"Jean\"            \"Langmann\"       \n",
       "[45] \"Michel\"          \"of\"              \"of\"              \"of\"             \n",
       "[49] \"older\"           \"on\"              \"out\"             \"place\"          \n",
       "[53] \"produced\"        \"relationship\"    \"replaced\"        \"rising\"         \n",
       "[57] \"romantic\"        \"silent\"          \"silent\"          \"silent\"         \n",
       "[61] \"star\"            \"starred\"         \"story\"           \"style\"          \n",
       "[65] \"takes\"           \"talkies.\"        \"the\"             \"the\"            \n",
       "[69] \"the\"             \"The\"             \"The\"             \"Thomas\"         \n",
       "[73] \"was\"             \"written,\"        \"young\"          "
      ]
     },
     "metadata": {},
     "output_type": "display_data"
    }
   ],
   "source": [
    "#sort method\n",
    "sorted_list <- sort(word_list)\n",
    "sorted_list"
   ]
  },
  {
   "cell_type": "code",
   "execution_count": 18,
   "id": "e102d9fc-0762-499a-8278-a9021b0f041b",
   "metadata": {},
   "outputs": [
    {
     "data": {
      "text/html": [
       "'1927 1932, 2011 a a a actress an and and and and and and and Artist as Bejo. Bérénice between black-and-white by by by cinema co-edited comedy-drama directed, Dujardin falls fashion film film. focuses French Hazanavicius, Hollywood, in in is is It Jean Langmann Michel of of of older on out place produced relationship replaced rising romantic silent silent silent star starred story style takes talkies. the the the The The Thomas was written, young'"
      ],
      "text/latex": [
       "'1927 1932, 2011 a a a actress an and and and and and and and Artist as Bejo. Bérénice between black-and-white by by by cinema co-edited comedy-drama directed, Dujardin falls fashion film film. focuses French Hazanavicius, Hollywood, in in is is It Jean Langmann Michel of of of older on out place produced relationship replaced rising romantic silent silent silent star starred story style takes talkies. the the the The The Thomas was written, young'"
      ],
      "text/markdown": [
       "'1927 1932, 2011 a a a actress an and and and and and and and Artist as Bejo. Bérénice between black-and-white by by by cinema co-edited comedy-drama directed, Dujardin falls fashion film film. focuses French Hazanavicius, Hollywood, in in is is It Jean Langmann Michel of of of older on out place produced relationship replaced rising romantic silent silent silent star starred story style takes talkies. the the the The The Thomas was written, young'"
      ],
      "text/plain": [
       "[1] \"1927 1932, 2011 a a a actress an and and and and and and and Artist as Bejo. Bérénice between black-and-white by by by cinema co-edited comedy-drama directed, Dujardin falls fashion film film. focuses French Hazanavicius, Hollywood, in in is is It Jean Langmann Michel of of of older on out place produced relationship replaced rising romantic silent silent silent star starred story style takes talkies. the the the The The Thomas was written, young\""
      ]
     },
     "metadata": {},
     "output_type": "display_data"
    }
   ],
   "source": [
    "#concatenation using paste\n",
    "\n",
    "paste(sorted_list, collapse = \" \")"
   ]
  },
  {
   "cell_type": "code",
   "execution_count": 19,
   "id": "39b08a76-8927-4f63-b5b4-fe35976e45e2",
   "metadata": {},
   "outputs": [
    {
     "data": {
      "text/html": [
       "' Artist is a 2011 French romantic comedy-drama '"
      ],
      "text/latex": [
       "' Artist is a 2011 French romantic comedy-drama '"
      ],
      "text/markdown": [
       "' Artist is a 2011 French romantic comedy-drama '"
      ],
      "text/plain": [
       "[1] \" Artist is a 2011 French romantic comedy-drama \""
      ]
     },
     "metadata": {},
     "output_type": "display_data"
    }
   ],
   "source": [
    "#get a subsection of the string\n",
    "\n",
    "sub_string <- substr(my_data[1], start = 4, stop = 50)\n",
    "sub_string"
   ]
  },
  {
   "cell_type": "code",
   "execution_count": 21,
   "id": "52a1cb13-35bc-4249-a0da-c3534ab3567c",
   "metadata": {},
   "outputs": [
    {
     "data": {
      "text/html": [
       "'Artist is a 2011 French romantic comedy-drama'"
      ],
      "text/latex": [
       "'Artist is a 2011 French romantic comedy-drama'"
      ],
      "text/markdown": [
       "'Artist is a 2011 French romantic comedy-drama'"
      ],
      "text/plain": [
       "[1] \"Artist is a 2011 French romantic comedy-drama\""
      ]
     },
     "metadata": {},
     "output_type": "display_data"
    }
   ],
   "source": [
    "#trim white spaces at initial and endpoints\n",
    "trimws(sub_string)"
   ]
  },
  {
   "cell_type": "code",
   "execution_count": 22,
   "id": "8a758a73-8309-40ce-9a6e-67ea269a7197",
   "metadata": {},
   "outputs": [
    {
     "data": {
      "text/html": [
       "'talkies.'"
      ],
      "text/latex": [
       "'talkies.'"
      ],
      "text/markdown": [
       "'talkies.'"
      ],
      "text/plain": [
       "[1] \"talkies.\""
      ]
     },
     "metadata": {},
     "output_type": "display_data"
    }
   ],
   "source": [
    "#read string from last\n",
    "library(stringr)\n",
    "str_sub(my_data[1], -8, -1)"
   ]
  },
  {
   "cell_type": "code",
   "execution_count": 23,
   "id": "aabf3353-2bc4-42f9-9d1a-470ceb4759a5",
   "metadata": {},
   "outputs": [
    {
     "data": {
      "text/html": [
       "<table>\n",
       "<caption>A matrix: 2 × 3 of type dbl</caption>\n",
       "<tbody>\n",
       "\t<tr><td>1</td><td>3</td><td>5</td></tr>\n",
       "\t<tr><td>2</td><td>4</td><td>6</td></tr>\n",
       "</tbody>\n",
       "</table>\n"
      ],
      "text/latex": [
       "A matrix: 2 × 3 of type dbl\n",
       "\\begin{tabular}{lll}\n",
       "\t 1 & 3 & 5\\\\\n",
       "\t 2 & 4 & 6\\\\\n",
       "\\end{tabular}\n"
      ],
      "text/markdown": [
       "\n",
       "A matrix: 2 × 3 of type dbl\n",
       "\n",
       "| 1 | 3 | 5 |\n",
       "| 2 | 4 | 6 |\n",
       "\n"
      ],
      "text/plain": [
       "     [,1] [,2] [,3]\n",
       "[1,] 1    3    5   \n",
       "[2,] 2    4    6   "
      ]
     },
     "metadata": {},
     "output_type": "display_data"
    }
   ],
   "source": [
    "#writing and saving to files\n",
    "#create a matrix and save it to a file\n",
    "m <- matrix(c(1, 2, 3, 4, 5, 6), nrow = 2, ncol = 3)\n",
    "m"
   ]
  },
  {
   "cell_type": "code",
   "execution_count": 24,
   "id": "cbae8416-a149-47a4-b5c7-09d03977f672",
   "metadata": {},
   "outputs": [],
   "source": [
    "write(m, file = \"my_text_file.txt\", ncolumns = 3, sep = \" \")"
   ]
  },
  {
   "cell_type": "code",
   "execution_count": 25,
   "id": "6434412f-b912-47c3-aeb8-b4b35aa52e4d",
   "metadata": {},
   "outputs": [],
   "source": [
    "#write a string from our my_data variable into file named as my_text_file2.txt\n",
    "write(my_data[1], file = \"my_text_file2.txt\", ncolumns = 1, sep = \" \")"
   ]
  },
  {
   "cell_type": "code",
   "execution_count": 27,
   "id": "30a8c982-6a28-44a3-96a0-171c0f25f1c0",
   "metadata": {},
   "outputs": [
    {
     "data": {
      "text/html": [
       "<h3>Data sets</h3>\n",
       "<table>\n",
       "<caption>A data.frame: 107 × 3</caption>\n",
       "<thead>\n",
       "\t<tr><th scope=col>Package</th><th scope=col>Item</th><th scope=col>Title</th></tr>\n",
       "\t<tr><th scope=col>&lt;chr&gt;</th><th scope=col>&lt;chr&gt;</th><th scope=col>&lt;chr&gt;</th></tr>\n",
       "</thead>\n",
       "<tbody>\n",
       "\t<tr><td>stringr </td><td>fruit                 </td><td>Sample character vectors for practicing string manipulations.  </td></tr>\n",
       "\t<tr><td>stringr </td><td>sentences             </td><td>Sample character vectors for practicing string manipulations.  </td></tr>\n",
       "\t<tr><td>stringr </td><td>words                 </td><td>Sample character vectors for practicing string manipulations.  </td></tr>\n",
       "\t<tr><td>datasets</td><td>AirPassengers         </td><td>Monthly Airline Passenger Numbers 1949-1960                    </td></tr>\n",
       "\t<tr><td>datasets</td><td>BJsales               </td><td>Sales Data with Leading Indicator                              </td></tr>\n",
       "\t<tr><td>datasets</td><td>BJsales.lead (BJsales)</td><td>Sales Data with Leading Indicator                              </td></tr>\n",
       "\t<tr><td>datasets</td><td>BOD                   </td><td>Biochemical Oxygen Demand                                      </td></tr>\n",
       "\t<tr><td>datasets</td><td>CO2                   </td><td>Carbon Dioxide Uptake in Grass Plants                          </td></tr>\n",
       "\t<tr><td>datasets</td><td>ChickWeight           </td><td>Weight versus age of chicks on different diets                 </td></tr>\n",
       "\t<tr><td>datasets</td><td>DNase                 </td><td>Elisa assay of DNase                                           </td></tr>\n",
       "\t<tr><td>datasets</td><td>EuStockMarkets        </td><td>Daily Closing Prices of Major European Stock Indices, 1991-1998</td></tr>\n",
       "\t<tr><td>datasets</td><td>Formaldehyde          </td><td>Determination of Formaldehyde                                  </td></tr>\n",
       "\t<tr><td>datasets</td><td>HairEyeColor          </td><td>Hair and Eye Color of Statistics Students                      </td></tr>\n",
       "\t<tr><td>datasets</td><td>Harman23.cor          </td><td>Harman Example 2.3                                             </td></tr>\n",
       "\t<tr><td>datasets</td><td>Harman74.cor          </td><td>Harman Example 7.4                                             </td></tr>\n",
       "\t<tr><td>datasets</td><td>Indometh              </td><td>Pharmacokinetics of Indomethacin                               </td></tr>\n",
       "\t<tr><td>datasets</td><td>InsectSprays          </td><td>Effectiveness of Insect Sprays                                 </td></tr>\n",
       "\t<tr><td>datasets</td><td><span style=white-space:pre-wrap>JohnsonJohnson        </span></td><td><span style=white-space:pre-wrap>Quarterly Earnings per Johnson &amp; Johnson Share                 </span></td></tr>\n",
       "\t<tr><td>datasets</td><td>LakeHuron             </td><td>Level of Lake Huron 1875-1972                                  </td></tr>\n",
       "\t<tr><td>datasets</td><td>LifeCycleSavings      </td><td>Intercountry Life-Cycle Savings Data                           </td></tr>\n",
       "\t<tr><td>datasets</td><td>Loblolly              </td><td>Growth of Loblolly pine trees                                  </td></tr>\n",
       "\t<tr><td>datasets</td><td>Nile                  </td><td>Flow of the River Nile                                         </td></tr>\n",
       "\t<tr><td>datasets</td><td>Orange                </td><td>Growth of Orange Trees                                         </td></tr>\n",
       "\t<tr><td>datasets</td><td>OrchardSprays         </td><td>Potency of Orchard Sprays                                      </td></tr>\n",
       "\t<tr><td>datasets</td><td>PlantGrowth           </td><td>Results from an Experiment on Plant Growth                     </td></tr>\n",
       "\t<tr><td>datasets</td><td>Puromycin             </td><td>Reaction Velocity of an Enzymatic Reaction                     </td></tr>\n",
       "\t<tr><td>datasets</td><td>Seatbelts             </td><td>Road Casualties in Great Britain 1969-84                       </td></tr>\n",
       "\t<tr><td>datasets</td><td>Theoph                </td><td>Pharmacokinetics of Theophylline                               </td></tr>\n",
       "\t<tr><td>datasets</td><td>Titanic               </td><td>Survival of passengers on the Titanic                          </td></tr>\n",
       "\t<tr><td>datasets</td><td>ToothGrowth           </td><td>The Effect of Vitamin C on Tooth Growth in Guinea Pigs         </td></tr>\n",
       "\t<tr><td>datasets</td><td>UCBAdmissions         </td><td>Student Admissions at UC Berkeley                              </td></tr>\n",
       "\t<tr><td>datasets</td><td>UKDriverDeaths        </td><td>Road Casualties in Great Britain 1969-84                       </td></tr>\n",
       "\t<tr><td>datasets</td><td>UKgas                 </td><td>UK Quarterly Gas Consumption                                   </td></tr>\n",
       "\t<tr><td>datasets</td><td>USAccDeaths           </td><td>Accidental Deaths in the US 1973-1978                          </td></tr>\n",
       "\t<tr><td>datasets</td><td>USArrests             </td><td>Violent Crime Rates by US State                                </td></tr>\n",
       "\t<tr><td>datasets</td><td>USJudgeRatings        </td><td>Lawyers' Ratings of State Judges in the US Superior Court      </td></tr>\n",
       "\t<tr><td>datasets</td><td>USPersonalExpenditure </td><td>Personal Expenditure Data                                      </td></tr>\n",
       "\t<tr><td>datasets</td><td>UScitiesD             </td><td>Distances Between European Cities and Between US Cities        </td></tr>\n",
       "\t<tr><td>datasets</td><td>VADeaths              </td><td>Death Rates in Virginia (1940)                                 </td></tr>\n",
       "\t<tr><td>datasets</td><td>WWWusage              </td><td>Internet Usage per Minute                                      </td></tr>\n",
       "\t<tr><td>datasets</td><td>WorldPhones           </td><td>The World's Telephones                                         </td></tr>\n",
       "\t<tr><td>datasets</td><td>ability.cov           </td><td>Ability and Intelligence Tests                                 </td></tr>\n",
       "\t<tr><td>datasets</td><td>airmiles              </td><td>Passenger Miles on Commercial US Airlines, 1937-1960           </td></tr>\n",
       "\t<tr><td>datasets</td><td>airquality            </td><td>New York Air Quality Measurements                              </td></tr>\n",
       "\t<tr><td>datasets</td><td>anscombe              </td><td>Anscombe's Quartet of 'Identical' Simple Linear Regressions    </td></tr>\n",
       "\t<tr><td>datasets</td><td>attenu                </td><td>The Joyner-Boore Attenuation Data                              </td></tr>\n",
       "\t<tr><td>datasets</td><td>attitude              </td><td>The Chatterjee-Price Attitude Data                             </td></tr>\n",
       "\t<tr><td>datasets</td><td>austres               </td><td>Quarterly Time Series of the Number of Australian Residents    </td></tr>\n",
       "\t<tr><td>datasets</td><td>beaver1 (beavers)     </td><td>Body Temperature Series of Two Beavers                         </td></tr>\n",
       "\t<tr><td>datasets</td><td>beaver2 (beavers)     </td><td>Body Temperature Series of Two Beavers                         </td></tr>\n",
       "\t<tr><td>datasets</td><td>cars                  </td><td>Speed and Stopping Distances of Cars                           </td></tr>\n",
       "\t<tr><td>datasets</td><td>chickwts              </td><td>Chicken Weights by Feed Type                                   </td></tr>\n",
       "\t<tr><td>datasets</td><td>co2                   </td><td>Mauna Loa Atmospheric CO2 Concentration                        </td></tr>\n",
       "\t<tr><td>datasets</td><td>crimtab               </td><td>Student's 3000 Criminals Data                                  </td></tr>\n",
       "\t<tr><td>datasets</td><td>discoveries           </td><td>Yearly Numbers of Important Discoveries                        </td></tr>\n",
       "\t<tr><td>datasets</td><td>esoph                 </td><td>Smoking, Alcohol and (O)esophageal Cancer                      </td></tr>\n",
       "\t<tr><td>datasets</td><td>euro                  </td><td>Conversion Rates of Euro Currencies                            </td></tr>\n",
       "\t<tr><td>datasets</td><td>euro.cross (euro)     </td><td>Conversion Rates of Euro Currencies                            </td></tr>\n",
       "\t<tr><td>datasets</td><td>eurodist              </td><td>Distances Between European Cities and Between US Cities        </td></tr>\n",
       "\t<tr><td>datasets</td><td>faithful              </td><td>Old Faithful Geyser Data                                       </td></tr>\n",
       "\t<tr><td>datasets</td><td>fdeaths (UKLungDeaths)</td><td>Monthly Deaths from Lung Diseases in the UK                    </td></tr>\n",
       "\t<tr><td>datasets</td><td>freeny                </td><td>Freeny's Revenue Data                                          </td></tr>\n",
       "\t<tr><td>datasets</td><td>freeny.x (freeny)     </td><td>Freeny's Revenue Data                                          </td></tr>\n",
       "\t<tr><td>datasets</td><td>freeny.y (freeny)     </td><td>Freeny's Revenue Data                                          </td></tr>\n",
       "\t<tr><td>datasets</td><td>infert                </td><td>Infertility after Spontaneous and Induced Abortion             </td></tr>\n",
       "\t<tr><td>datasets</td><td>iris                  </td><td>Edgar Anderson's Iris Data                                     </td></tr>\n",
       "\t<tr><td>datasets</td><td>iris3                 </td><td>Edgar Anderson's Iris Data                                     </td></tr>\n",
       "\t<tr><td>datasets</td><td>islands               </td><td>Areas of the World's Major Landmasses                          </td></tr>\n",
       "\t<tr><td>datasets</td><td>ldeaths (UKLungDeaths)</td><td>Monthly Deaths from Lung Diseases in the UK                    </td></tr>\n",
       "\t<tr><td>datasets</td><td>lh                    </td><td>Luteinizing Hormone in Blood Samples                           </td></tr>\n",
       "\t<tr><td>datasets</td><td>longley               </td><td>Longley's Economic Regression Data                             </td></tr>\n",
       "\t<tr><td>datasets</td><td>lynx                  </td><td>Annual Canadian Lynx trappings 1821-1934                       </td></tr>\n",
       "\t<tr><td>datasets</td><td>mdeaths (UKLungDeaths)</td><td>Monthly Deaths from Lung Diseases in the UK                    </td></tr>\n",
       "\t<tr><td>datasets</td><td>morley                </td><td>Michelson Speed of Light Data                                  </td></tr>\n",
       "\t<tr><td>datasets</td><td>mtcars                </td><td>Motor Trend Car Road Tests                                     </td></tr>\n",
       "\t<tr><td>datasets</td><td>nhtemp                </td><td>Average Yearly Temperatures in New Haven                       </td></tr>\n",
       "\t<tr><td>datasets</td><td>nottem                </td><td>Average Monthly Temperatures at Nottingham, 1920-1939          </td></tr>\n",
       "\t<tr><td>datasets</td><td>npk                   </td><td>Classical N, P, K Factorial Experiment                         </td></tr>\n",
       "\t<tr><td>datasets</td><td>occupationalStatus    </td><td>Occupational Status of Fathers and their Sons                  </td></tr>\n",
       "\t<tr><td>datasets</td><td>precip                </td><td>Annual Precipitation in US Cities                              </td></tr>\n",
       "\t<tr><td>datasets</td><td>presidents            </td><td>Quarterly Approval Ratings of US Presidents                    </td></tr>\n",
       "\t<tr><td>datasets</td><td>pressure              </td><td>Vapor Pressure of Mercury as a Function of Temperature         </td></tr>\n",
       "\t<tr><td>datasets</td><td>quakes                </td><td>Locations of Earthquakes off Fiji                              </td></tr>\n",
       "\t<tr><td>datasets</td><td>randu                 </td><td>Random Numbers from Congruential Generator RANDU               </td></tr>\n",
       "\t<tr><td>datasets</td><td>rivers                </td><td>Lengths of Major North American Rivers                         </td></tr>\n",
       "\t<tr><td>datasets</td><td>rock                  </td><td>Measurements on Petroleum Rock Samples                         </td></tr>\n",
       "\t<tr><td>datasets</td><td>sleep                 </td><td>Student's Sleep Data                                           </td></tr>\n",
       "\t<tr><td>datasets</td><td>stack.loss (stackloss)</td><td>Brownlee's Stack Loss Plant Data                               </td></tr>\n",
       "\t<tr><td>datasets</td><td>stack.x (stackloss)   </td><td>Brownlee's Stack Loss Plant Data                               </td></tr>\n",
       "\t<tr><td>datasets</td><td>stackloss             </td><td>Brownlee's Stack Loss Plant Data                               </td></tr>\n",
       "\t<tr><td>datasets</td><td>state.abb (state)     </td><td>US State Facts and Figures                                     </td></tr>\n",
       "\t<tr><td>datasets</td><td>state.area (state)    </td><td>US State Facts and Figures                                     </td></tr>\n",
       "\t<tr><td>datasets</td><td>state.center (state)  </td><td>US State Facts and Figures                                     </td></tr>\n",
       "\t<tr><td>datasets</td><td>state.division (state)</td><td>US State Facts and Figures                                     </td></tr>\n",
       "\t<tr><td>datasets</td><td>state.name (state)    </td><td>US State Facts and Figures                                     </td></tr>\n",
       "\t<tr><td>datasets</td><td>state.region (state)  </td><td>US State Facts and Figures                                     </td></tr>\n",
       "\t<tr><td>datasets</td><td>state.x77 (state)     </td><td>US State Facts and Figures                                     </td></tr>\n",
       "\t<tr><td>datasets</td><td>sunspot.month         </td><td>Monthly Sunspot Data, from 1749 to \"Present\"                   </td></tr>\n",
       "\t<tr><td>datasets</td><td>sunspot.year          </td><td>Yearly Sunspot Data, 1700-1988                                 </td></tr>\n",
       "\t<tr><td>datasets</td><td>sunspots              </td><td>Monthly Sunspot Numbers, 1749-1983                             </td></tr>\n",
       "\t<tr><td>datasets</td><td>swiss                 </td><td>Swiss Fertility and Socioeconomic Indicators (1888) Data       </td></tr>\n",
       "\t<tr><td>datasets</td><td>treering              </td><td>Yearly Treering Data, -6000-1979                               </td></tr>\n",
       "\t<tr><td>datasets</td><td>trees                 </td><td>Girth, Height and Volume for Black Cherry Trees                </td></tr>\n",
       "\t<tr><td>datasets</td><td>uspop                 </td><td>Populations Recorded by the US Census                          </td></tr>\n",
       "\t<tr><td>datasets</td><td>volcano               </td><td>Topographic Information on Auckland's Maunga Whau Volcano      </td></tr>\n",
       "\t<tr><td>datasets</td><td>warpbreaks            </td><td>The Number of Breaks in Yarn during Weaving                    </td></tr>\n",
       "\t<tr><td>datasets</td><td>women                 </td><td>Average Heights and Weights for American Women                 </td></tr>\n",
       "</tbody>\n",
       "</table>\n",
       "\n",
       "<p>Use ‘data(package = .packages(all.available = TRUE))’\n",
       "to list the data sets in all *available* packages.</p>"
      ],
      "text/plain": [
       "Data sets in package ‘datasets’:\n",
       "\n",
       "AirPassengers           Monthly Airline Passenger Numbers 1949-1960\n",
       "BJsales                 Sales Data with Leading Indicator\n",
       "BJsales.lead (BJsales)\n",
       "                        Sales Data with Leading Indicator\n",
       "BOD                     Biochemical Oxygen Demand\n",
       "CO2                     Carbon Dioxide Uptake in Grass Plants\n",
       "ChickWeight             Weight versus age of chicks on different diets\n",
       "DNase                   Elisa assay of DNase\n",
       "EuStockMarkets          Daily Closing Prices of Major European Stock\n",
       "                        Indices, 1991-1998\n",
       "Formaldehyde            Determination of Formaldehyde\n",
       "HairEyeColor            Hair and Eye Color of Statistics Students\n",
       "Harman23.cor            Harman Example 2.3\n",
       "Harman74.cor            Harman Example 7.4\n",
       "Indometh                Pharmacokinetics of Indomethacin\n",
       "InsectSprays            Effectiveness of Insect Sprays\n",
       "JohnsonJohnson          Quarterly Earnings per Johnson & Johnson Share\n",
       "LakeHuron               Level of Lake Huron 1875-1972\n",
       "LifeCycleSavings        Intercountry Life-Cycle Savings Data\n",
       "Loblolly                Growth of Loblolly pine trees\n",
       "Nile                    Flow of the River Nile\n",
       "Orange                  Growth of Orange Trees\n",
       "OrchardSprays           Potency of Orchard Sprays\n",
       "PlantGrowth             Results from an Experiment on Plant Growth\n",
       "Puromycin               Reaction Velocity of an Enzymatic Reaction\n",
       "Seatbelts               Road Casualties in Great Britain 1969-84\n",
       "Theoph                  Pharmacokinetics of Theophylline\n",
       "Titanic                 Survival of passengers on the Titanic\n",
       "ToothGrowth             The Effect of Vitamin C on Tooth Growth in\n",
       "                        Guinea Pigs\n",
       "UCBAdmissions           Student Admissions at UC Berkeley\n",
       "UKDriverDeaths          Road Casualties in Great Britain 1969-84\n",
       "UKgas                   UK Quarterly Gas Consumption\n",
       "USAccDeaths             Accidental Deaths in the US 1973-1978\n",
       "USArrests               Violent Crime Rates by US State\n",
       "USJudgeRatings          Lawyers' Ratings of State Judges in the US\n",
       "                        Superior Court\n",
       "USPersonalExpenditure   Personal Expenditure Data\n",
       "UScitiesD               Distances Between European Cities and Between\n",
       "                        US Cities\n",
       "VADeaths                Death Rates in Virginia (1940)\n",
       "WWWusage                Internet Usage per Minute\n",
       "WorldPhones             The World's Telephones\n",
       "ability.cov             Ability and Intelligence Tests\n",
       "airmiles                Passenger Miles on Commercial US Airlines,\n",
       "                        1937-1960\n",
       "airquality              New York Air Quality Measurements\n",
       "anscombe                Anscombe's Quartet of 'Identical' Simple Linear\n",
       "                        Regressions\n",
       "attenu                  The Joyner-Boore Attenuation Data\n",
       "attitude                The Chatterjee-Price Attitude Data\n",
       "austres                 Quarterly Time Series of the Number of\n",
       "                        Australian Residents\n",
       "beaver1 (beavers)       Body Temperature Series of Two Beavers\n",
       "beaver2 (beavers)       Body Temperature Series of Two Beavers\n",
       "cars                    Speed and Stopping Distances of Cars\n",
       "chickwts                Chicken Weights by Feed Type\n",
       "co2                     Mauna Loa Atmospheric CO2 Concentration\n",
       "crimtab                 Student's 3000 Criminals Data\n",
       "discoveries             Yearly Numbers of Important Discoveries\n",
       "esoph                   Smoking, Alcohol and (O)esophageal Cancer\n",
       "euro                    Conversion Rates of Euro Currencies\n",
       "euro.cross (euro)       Conversion Rates of Euro Currencies\n",
       "eurodist                Distances Between European Cities and Between\n",
       "                        US Cities\n",
       "faithful                Old Faithful Geyser Data\n",
       "fdeaths (UKLungDeaths)\n",
       "                        Monthly Deaths from Lung Diseases in the UK\n",
       "freeny                  Freeny's Revenue Data\n",
       "freeny.x (freeny)       Freeny's Revenue Data\n",
       "freeny.y (freeny)       Freeny's Revenue Data\n",
       "infert                  Infertility after Spontaneous and Induced\n",
       "                        Abortion\n",
       "iris                    Edgar Anderson's Iris Data\n",
       "iris3                   Edgar Anderson's Iris Data\n",
       "islands                 Areas of the World's Major Landmasses\n",
       "ldeaths (UKLungDeaths)\n",
       "                        Monthly Deaths from Lung Diseases in the UK\n",
       "lh                      Luteinizing Hormone in Blood Samples\n",
       "longley                 Longley's Economic Regression Data\n",
       "lynx                    Annual Canadian Lynx trappings 1821-1934\n",
       "mdeaths (UKLungDeaths)\n",
       "                        Monthly Deaths from Lung Diseases in the UK\n",
       "morley                  Michelson Speed of Light Data\n",
       "mtcars                  Motor Trend Car Road Tests\n",
       "nhtemp                  Average Yearly Temperatures in New Haven\n",
       "nottem                  Average Monthly Temperatures at Nottingham,\n",
       "                        1920-1939\n",
       "npk                     Classical N, P, K Factorial Experiment\n",
       "occupationalStatus      Occupational Status of Fathers and their Sons\n",
       "precip                  Annual Precipitation in US Cities\n",
       "presidents              Quarterly Approval Ratings of US Presidents\n",
       "pressure                Vapor Pressure of Mercury as a Function of\n",
       "                        Temperature\n",
       "quakes                  Locations of Earthquakes off Fiji\n",
       "randu                   Random Numbers from Congruential Generator\n",
       "                        RANDU\n",
       "rivers                  Lengths of Major North American Rivers\n",
       "rock                    Measurements on Petroleum Rock Samples\n",
       "sleep                   Student's Sleep Data\n",
       "stack.loss (stackloss)\n",
       "                        Brownlee's Stack Loss Plant Data\n",
       "stack.x (stackloss)     Brownlee's Stack Loss Plant Data\n",
       "stackloss               Brownlee's Stack Loss Plant Data\n",
       "state.abb (state)       US State Facts and Figures\n",
       "state.area (state)      US State Facts and Figures\n",
       "state.center (state)    US State Facts and Figures\n",
       "state.division (state)\n",
       "                        US State Facts and Figures\n",
       "state.name (state)      US State Facts and Figures\n",
       "state.region (state)    US State Facts and Figures\n",
       "state.x77 (state)       US State Facts and Figures\n",
       "sunspot.month           Monthly Sunspot Data, from 1749 to \"Present\"\n",
       "sunspot.year            Yearly Sunspot Data, 1700-1988\n",
       "sunspots                Monthly Sunspot Numbers, 1749-1983\n",
       "swiss                   Swiss Fertility and Socioeconomic Indicators\n",
       "                        (1888) Data\n",
       "treering                Yearly Treering Data, -6000-1979\n",
       "trees                   Girth, Height and Volume for Black Cherry Trees\n",
       "uspop                   Populations Recorded by the US Census\n",
       "volcano                 Topographic Information on Auckland's Maunga\n",
       "                        Whau Volcano\n",
       "warpbreaks              The Number of Breaks in Yarn during Weaving\n",
       "women                   Average Heights and Weights for American Women\n",
       "Data sets in package ‘stringr’:\n",
       "\n",
       "fruit                   Sample character vectors for practicing string\n",
       "                        manipulations.\n",
       "sentences               Sample character vectors for practicing string\n",
       "                        manipulations.\n",
       "words                   Sample character vectors for practicing string\n",
       "                        manipulations.\n",
       "\n",
       "Use ‘data(package = .packages(all.available = TRUE))’\n",
       "to list the data sets in all *available* packages."
      ]
     },
     "metadata": {},
     "output_type": "display_data"
    }
   ],
   "source": [
    "#exporting a csv file\n",
    "data()"
   ]
  },
  {
   "cell_type": "code",
   "execution_count": 30,
   "id": "202e6997-8a4b-473f-aa11-1d3c50fd7f84",
   "metadata": {},
   "outputs": [
    {
     "data": {
      "text/html": [
       "<table>\n",
       "<caption>A nfnGroupedData: 6 × 5</caption>\n",
       "<thead>\n",
       "\t<tr><th></th><th scope=col>Plant</th><th scope=col>Type</th><th scope=col>Treatment</th><th scope=col>conc</th><th scope=col>uptake</th></tr>\n",
       "\t<tr><th></th><th scope=col>&lt;ord&gt;</th><th scope=col>&lt;fct&gt;</th><th scope=col>&lt;fct&gt;</th><th scope=col>&lt;dbl&gt;</th><th scope=col>&lt;dbl&gt;</th></tr>\n",
       "</thead>\n",
       "<tbody>\n",
       "\t<tr><th scope=row>1</th><td>Qn1</td><td>Quebec</td><td>nonchilled</td><td> 95</td><td>16.0</td></tr>\n",
       "\t<tr><th scope=row>2</th><td>Qn1</td><td>Quebec</td><td>nonchilled</td><td>175</td><td>30.4</td></tr>\n",
       "\t<tr><th scope=row>3</th><td>Qn1</td><td>Quebec</td><td>nonchilled</td><td>250</td><td>34.8</td></tr>\n",
       "\t<tr><th scope=row>4</th><td>Qn1</td><td>Quebec</td><td>nonchilled</td><td>350</td><td>37.2</td></tr>\n",
       "\t<tr><th scope=row>5</th><td>Qn1</td><td>Quebec</td><td>nonchilled</td><td>500</td><td>35.3</td></tr>\n",
       "\t<tr><th scope=row>6</th><td>Qn1</td><td>Quebec</td><td>nonchilled</td><td>675</td><td>39.2</td></tr>\n",
       "</tbody>\n",
       "</table>\n"
      ],
      "text/latex": [
       "A nfnGroupedData: 6 × 5\n",
       "\\begin{tabular}{r|lllll}\n",
       "  & Plant & Type & Treatment & conc & uptake\\\\\n",
       "  & <ord> & <fct> & <fct> & <dbl> & <dbl>\\\\\n",
       "\\hline\n",
       "\t1 & Qn1 & Quebec & nonchilled &  95 & 16.0\\\\\n",
       "\t2 & Qn1 & Quebec & nonchilled & 175 & 30.4\\\\\n",
       "\t3 & Qn1 & Quebec & nonchilled & 250 & 34.8\\\\\n",
       "\t4 & Qn1 & Quebec & nonchilled & 350 & 37.2\\\\\n",
       "\t5 & Qn1 & Quebec & nonchilled & 500 & 35.3\\\\\n",
       "\t6 & Qn1 & Quebec & nonchilled & 675 & 39.2\\\\\n",
       "\\end{tabular}\n"
      ],
      "text/markdown": [
       "\n",
       "A nfnGroupedData: 6 × 5\n",
       "\n",
       "| <!--/--> | Plant &lt;ord&gt; | Type &lt;fct&gt; | Treatment &lt;fct&gt; | conc &lt;dbl&gt; | uptake &lt;dbl&gt; |\n",
       "|---|---|---|---|---|---|\n",
       "| 1 | Qn1 | Quebec | nonchilled |  95 | 16.0 |\n",
       "| 2 | Qn1 | Quebec | nonchilled | 175 | 30.4 |\n",
       "| 3 | Qn1 | Quebec | nonchilled | 250 | 34.8 |\n",
       "| 4 | Qn1 | Quebec | nonchilled | 350 | 37.2 |\n",
       "| 5 | Qn1 | Quebec | nonchilled | 500 | 35.3 |\n",
       "| 6 | Qn1 | Quebec | nonchilled | 675 | 39.2 |\n",
       "\n"
      ],
      "text/plain": [
       "  Plant Type   Treatment  conc uptake\n",
       "1 Qn1   Quebec nonchilled  95  16.0  \n",
       "2 Qn1   Quebec nonchilled 175  30.4  \n",
       "3 Qn1   Quebec nonchilled 250  34.8  \n",
       "4 Qn1   Quebec nonchilled 350  37.2  \n",
       "5 Qn1   Quebec nonchilled 500  35.3  \n",
       "6 Qn1   Quebec nonchilled 675  39.2  "
      ]
     },
     "metadata": {},
     "output_type": "display_data"
    }
   ],
   "source": [
    "#use co2 inbuilt dataset\n",
    "head(CO2)"
   ]
  },
  {
   "cell_type": "code",
   "execution_count": 31,
   "id": "0c35051e-24a4-4b4e-8db0-cb1ae492ee17",
   "metadata": {},
   "outputs": [],
   "source": [
    "#export to csv\n",
    "write.csv(CO2, file = \"my_csv.csv\")"
   ]
  },
  {
   "cell_type": "code",
   "execution_count": 32,
   "id": "9e7468d3-5fc5-4d83-9d99-5c203df05596",
   "metadata": {},
   "outputs": [],
   "source": [
    "#remove row names\n",
    "write.csv(CO2, file = \"my_csv.csv\", row.names = FALSE)\n"
   ]
  },
  {
   "cell_type": "code",
   "execution_count": 33,
   "id": "49817c74-3638-45bf-a4bb-98304e77e43c",
   "metadata": {},
   "outputs": [],
   "source": [
    "#exporting as excel file"
   ]
  },
  {
   "cell_type": "code",
   "execution_count": 34,
   "id": "83044600-2c82-4e93-a75a-0dc363fcedf4",
   "metadata": {},
   "outputs": [
    {
     "name": "stderr",
     "output_type": "stream",
     "text": [
      "also installing the dependency ‘xlsxjars’\n",
      "\n",
      "Updating HTML index of packages in '.Library'\n",
      "Making 'packages.html' ... done\n"
     ]
    }
   ],
   "source": [
    "#we have to install an external library called xlsx,\n",
    "# which will provide us easy methods to export data into .xlsx files.\n",
    "install.packages(\"xlsx\")"
   ]
  },
  {
   "cell_type": "code",
   "execution_count": 35,
   "id": "51df6958-23b5-4014-9b36-f4a275ace81c",
   "metadata": {},
   "outputs": [],
   "source": [
    "library(xlsx)\n",
    "write.xlsx(CO2, file = \"my_excel.xlsx\", row.names = FALSE)"
   ]
  },
  {
   "cell_type": "code",
   "execution_count": 36,
   "id": "1b70a9c6-b6b7-4504-b451-4fead94a17bb",
   "metadata": {},
   "outputs": [],
   "source": [
    "# In R, we can also save files in .RData format. .RData format provides a way to save and load our R objects.\n",
    "# Let's create simple variable objects and save that into file with extension**.RData**.\n",
    "\n",
    "var1 <- \"var1\"\n",
    "var2 <- \"var2\"\n",
    "var3 <- \"var3\""
   ]
  },
  {
   "cell_type": "code",
   "execution_count": 37,
   "id": "93325755-23bd-40be-9ec1-66b8f4d5ad44",
   "metadata": {},
   "outputs": [],
   "source": [
    "save(list = c(\"var1\", \"var2\", \"var3\"), file = \"variables.RData\", safe = T)"
   ]
  },
  {
   "cell_type": "code",
   "execution_count": null,
   "id": "a4421aa7-6b2c-4def-881f-2aa18da0f671",
   "metadata": {},
   "outputs": [],
   "source": []
  }
 ],
 "metadata": {
  "kernelspec": {
   "display_name": "R",
   "language": "R",
   "name": "conda-env-r-r"
  },
  "language_info": {
   "codemirror_mode": "r",
   "file_extension": ".r",
   "mimetype": "text/x-r-source",
   "name": "R",
   "pygments_lexer": "r",
   "version": "3.5.1"
  }
 },
 "nbformat": 4,
 "nbformat_minor": 5
}
