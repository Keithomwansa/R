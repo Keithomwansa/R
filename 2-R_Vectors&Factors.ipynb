{
 "cells": [
  {
   "cell_type": "code",
   "execution_count": 1,
   "id": "48c2ef1d-bf40-4361-9c6e-d4e9222a91ed",
   "metadata": {},
   "outputs": [],
   "source": [
    "# Vectors are strings of numbers, characters or logical data (one-dimension array).\n",
    "# In other words, a vector is a simple tool to store your grouped data.\n",
    "# In R, you create a vector with the combine function c().\n",
    "# You place the vector elements separated by a comma between the brackets.\n",
    "# Vectors will be very useful in the future as they allow you to apply operations on a series of data easily.\n",
    "# Note that the items in a vector must be of the same class, for example all should be either number, character, or logical."
   ]
  },
  {
   "cell_type": "code",
   "execution_count": 2,
   "id": "2ac73537-baa9-45b2-95c1-1ad9cff54910",
   "metadata": {},
   "outputs": [
    {
     "data": {
      "text/html": [
       "<style>\n",
       ".list-inline {list-style: none; margin:0; padding: 0}\n",
       ".list-inline>li {display: inline-block}\n",
       ".list-inline>li:not(:last-child)::after {content: \"\\00b7\"; padding: 0 .5ex}\n",
       "</style>\n",
       "<ol class=list-inline><li>1985</li><li>1999</li><li>2015</li><li>1964</li></ol>\n"
      ],
      "text/latex": [
       "\\begin{enumerate*}\n",
       "\\item 1985\n",
       "\\item 1999\n",
       "\\item 2015\n",
       "\\item 1964\n",
       "\\end{enumerate*}\n"
      ],
      "text/markdown": [
       "1. 1985\n",
       "2. 1999\n",
       "3. 2015\n",
       "4. 1964\n",
       "\n",
       "\n"
      ],
      "text/plain": [
       "[1] 1985 1999 2015 1964"
      ]
     },
     "metadata": {},
     "output_type": "display_data"
    }
   ],
   "source": [
    "#numeric vectors\n",
    "release_year <- c(1985, 1999, 2015, 1964)\n",
    "release_year"
   ]
  },
  {
   "cell_type": "code",
   "execution_count": 3,
   "id": "b5222e0a-94a4-4500-a9ba-ca1e13e5cf7c",
   "metadata": {},
   "outputs": [
    {
     "data": {
      "text/html": [
       "<style>\n",
       ".list-inline {list-style: none; margin:0; padding: 0}\n",
       ".list-inline>li {display: inline-block}\n",
       ".list-inline>li:not(:last-child)::after {content: \"\\00b7\"; padding: 0 .5ex}\n",
       "</style>\n",
       "<ol class=list-inline><li>'Toy Story'</li><li>'Akira'</li><li>'The Breakfast Club'</li></ol>\n"
      ],
      "text/latex": [
       "\\begin{enumerate*}\n",
       "\\item 'Toy Story'\n",
       "\\item 'Akira'\n",
       "\\item 'The Breakfast Club'\n",
       "\\end{enumerate*}\n"
      ],
      "text/markdown": [
       "1. 'Toy Story'\n",
       "2. 'Akira'\n",
       "3. 'The Breakfast Club'\n",
       "\n",
       "\n"
      ],
      "text/plain": [
       "[1] \"Toy Story\"          \"Akira\"              \"The Breakfast Club\""
      ]
     },
     "metadata": {},
     "output_type": "display_data"
    }
   ],
   "source": [
    "#character vector\n",
    "# Create genre vector and assign values to it \n",
    "titles <- c(\"Toy Story\", \"Akira\", \"The Breakfast Club\")\n",
    "titles"
   ]
  },
  {
   "cell_type": "code",
   "execution_count": 4,
   "id": "3c0028ea-445e-4823-ad52-9c05cfbabd7d",
   "metadata": {},
   "outputs": [
    {
     "data": {
      "text/html": [
       "<style>\n",
       ".list-inline {list-style: none; margin:0; padding: 0}\n",
       ".list-inline>li {display: inline-block}\n",
       ".list-inline>li:not(:last-child)::after {content: \"\\00b7\"; padding: 0 .5ex}\n",
       "</style>\n",
       "<ol class=list-inline><li>FALSE</li><li>TRUE</li><li>FALSE</li></ol>\n"
      ],
      "text/latex": [
       "\\begin{enumerate*}\n",
       "\\item FALSE\n",
       "\\item TRUE\n",
       "\\item FALSE\n",
       "\\end{enumerate*}\n"
      ],
      "text/markdown": [
       "1. FALSE\n",
       "2. TRUE\n",
       "3. FALSE\n",
       "\n",
       "\n"
      ],
      "text/plain": [
       "[1] FALSE  TRUE FALSE"
      ]
     },
     "metadata": {},
     "output_type": "display_data"
    }
   ],
   "source": [
    "#logical veectors\n",
    "titles == \"Akira\" # which item in `titles` is equal to \"Akira\"?"
   ]
  },
  {
   "cell_type": "code",
   "execution_count": 5,
   "id": "43ac2c4e-1140-433f-80ce-bfd1b80b1a71",
   "metadata": {},
   "outputs": [
    {
     "data": {
      "text/html": [
       "<style>\n",
       ".list-inline {list-style: none; margin:0; padding: 0}\n",
       ".list-inline>li {display: inline-block}\n",
       ".list-inline>li:not(:last-child)::after {content: \"\\00b7\"; padding: 0 .5ex}\n",
       "</style>\n",
       "<ol class=list-inline><li>1985</li><li>1999</li><li>2015</li><li>1964</li><li>2016</li><li>2017</li><li>2018</li></ol>\n"
      ],
      "text/latex": [
       "\\begin{enumerate*}\n",
       "\\item 1985\n",
       "\\item 1999\n",
       "\\item 2015\n",
       "\\item 1964\n",
       "\\item 2016\n",
       "\\item 2017\n",
       "\\item 2018\n",
       "\\end{enumerate*}\n"
      ],
      "text/markdown": [
       "1. 1985\n",
       "2. 1999\n",
       "3. 2015\n",
       "4. 1964\n",
       "5. 2016\n",
       "6. 2017\n",
       "7. 2018\n",
       "\n",
       "\n"
      ],
      "text/plain": [
       "[1] 1985 1999 2015 1964 2016 2017 2018"
      ]
     },
     "metadata": {},
     "output_type": "display_data"
    }
   ],
   "source": [
    "###vector operations\n",
    "#add to a vector\n",
    "release_year <- c(release_year, 2016:2018)\n",
    "release_year"
   ]
  },
  {
   "cell_type": "code",
   "execution_count": 6,
   "id": "fdef099b-74fc-48a8-a8bf-6f85bf9cc191",
   "metadata": {},
   "outputs": [
    {
     "data": {
      "text/html": [
       "<style>\n",
       ".list-inline {list-style: none; margin:0; padding: 0}\n",
       ".list-inline>li {display: inline-block}\n",
       ".list-inline>li:not(:last-child)::after {content: \"\\00b7\"; padding: 0 .5ex}\n",
       "</style>\n",
       "<ol class=list-inline><li>1985</li><li>1999</li><li>2015</li><li>1964</li><li>2016</li><li>2017</li><li>2018</li></ol>\n"
      ],
      "text/latex": [
       "\\begin{enumerate*}\n",
       "\\item 1985\n",
       "\\item 1999\n",
       "\\item 2015\n",
       "\\item 1964\n",
       "\\item 2016\n",
       "\\item 2017\n",
       "\\item 2018\n",
       "\\end{enumerate*}\n"
      ],
      "text/markdown": [
       "1. 1985\n",
       "2. 1999\n",
       "3. 2015\n",
       "4. 1964\n",
       "5. 2016\n",
       "6. 2017\n",
       "7. 2018\n",
       "\n",
       "\n"
      ],
      "text/plain": [
       "[1] 1985 1999 2015 1964 2016 2017 2018"
      ]
     },
     "metadata": {},
     "output_type": "display_data"
    },
    {
     "data": {
      "text/html": [
       "7"
      ],
      "text/latex": [
       "7"
      ],
      "text/markdown": [
       "7"
      ],
      "text/plain": [
       "[1] 7"
      ]
     },
     "metadata": {},
     "output_type": "display_data"
    }
   ],
   "source": [
    "#find length of a vector\n",
    "release_year\n",
    "length(release_year)"
   ]
  },
  {
   "cell_type": "code",
   "execution_count": 7,
   "id": "74a1ca84-696a-4973-99e4-15e8b8b69b86",
   "metadata": {},
   "outputs": [
    {
     "data": {
      "text/html": [
       "<style>\n",
       ".list-inline {list-style: none; margin:0; padding: 0}\n",
       ".list-inline>li {display: inline-block}\n",
       ".list-inline>li:not(:last-child)::after {content: \"\\00b7\"; padding: 0 .5ex}\n",
       "</style>\n",
       "<ol class=list-inline><li>1985</li><li>1999</li><li>2015</li><li>1964</li><li>2016</li><li>2017</li></ol>\n"
      ],
      "text/latex": [
       "\\begin{enumerate*}\n",
       "\\item 1985\n",
       "\\item 1999\n",
       "\\item 2015\n",
       "\\item 1964\n",
       "\\item 2016\n",
       "\\item 2017\n",
       "\\end{enumerate*}\n"
      ],
      "text/markdown": [
       "1. 1985\n",
       "2. 1999\n",
       "3. 2015\n",
       "4. 1964\n",
       "5. 2016\n",
       "6. 2017\n",
       "\n",
       "\n"
      ],
      "text/plain": [
       "[1] 1985 1999 2015 1964 2016 2017"
      ]
     },
     "metadata": {},
     "output_type": "display_data"
    },
    {
     "data": {
      "text/html": [
       "<style>\n",
       ".list-inline {list-style: none; margin:0; padding: 0}\n",
       ".list-inline>li {display: inline-block}\n",
       ".list-inline>li:not(:last-child)::after {content: \"\\00b7\"; padding: 0 .5ex}\n",
       "</style>\n",
       "<ol class=list-inline><li>1985</li><li>1999</li></ol>\n"
      ],
      "text/latex": [
       "\\begin{enumerate*}\n",
       "\\item 1985\n",
       "\\item 1999\n",
       "\\end{enumerate*}\n"
      ],
      "text/markdown": [
       "1. 1985\n",
       "2. 1999\n",
       "\n",
       "\n"
      ],
      "text/plain": [
       "[1] 1985 1999"
      ]
     },
     "metadata": {},
     "output_type": "display_data"
    },
    {
     "data": {
      "text/html": [
       "<style>\n",
       ".list-inline {list-style: none; margin:0; padding: 0}\n",
       ".list-inline>li {display: inline-block}\n",
       ".list-inline>li:not(:last-child)::after {content: \"\\00b7\"; padding: 0 .5ex}\n",
       "</style>\n",
       "<ol class=list-inline><li>1999</li><li>2015</li><li>1964</li><li>2016</li><li>2017</li><li>2018</li></ol>\n"
      ],
      "text/latex": [
       "\\begin{enumerate*}\n",
       "\\item 1999\n",
       "\\item 2015\n",
       "\\item 1964\n",
       "\\item 2016\n",
       "\\item 2017\n",
       "\\item 2018\n",
       "\\end{enumerate*}\n"
      ],
      "text/markdown": [
       "1. 1999\n",
       "2. 2015\n",
       "3. 1964\n",
       "4. 2016\n",
       "5. 2017\n",
       "6. 2018\n",
       "\n",
       "\n"
      ],
      "text/plain": [
       "[1] 1999 2015 1964 2016 2017 2018"
      ]
     },
     "metadata": {},
     "output_type": "display_data"
    },
    {
     "data": {
      "text/html": [
       "<style>\n",
       ".list-inline {list-style: none; margin:0; padding: 0}\n",
       ".list-inline>li {display: inline-block}\n",
       ".list-inline>li:not(:last-child)::after {content: \"\\00b7\"; padding: 0 .5ex}\n",
       "</style>\n",
       "<ol class=list-inline><li>2017</li><li>2018</li></ol>\n"
      ],
      "text/latex": [
       "\\begin{enumerate*}\n",
       "\\item 2017\n",
       "\\item 2018\n",
       "\\end{enumerate*}\n"
      ],
      "text/markdown": [
       "1. 2017\n",
       "2. 2018\n",
       "\n",
       "\n"
      ],
      "text/plain": [
       "[1] 2017 2018"
      ]
     },
     "metadata": {},
     "output_type": "display_data"
    }
   ],
   "source": [
    "#head and tail of a vector\n",
    "head(release_year) #first six items\n",
    "head(release_year, 2) #first 2\n",
    "tail(release_year) #last six items\n",
    "tail(release_year, 2) #last two items"
   ]
  },
  {
   "cell_type": "code",
   "execution_count": 8,
   "id": "f3b1a272-5b1c-4dad-8800-7d2f3beca4d6",
   "metadata": {},
   "outputs": [
    {
     "data": {
      "text/html": [
       "<style>\n",
       ".list-inline {list-style: none; margin:0; padding: 0}\n",
       ".list-inline>li {display: inline-block}\n",
       ".list-inline>li:not(:last-child)::after {content: \"\\00b7\"; padding: 0 .5ex}\n",
       "</style>\n",
       "<ol class=list-inline><li>1964</li><li>1985</li><li>1999</li><li>2015</li><li>2016</li><li>2017</li><li>2018</li></ol>\n"
      ],
      "text/latex": [
       "\\begin{enumerate*}\n",
       "\\item 1964\n",
       "\\item 1985\n",
       "\\item 1999\n",
       "\\item 2015\n",
       "\\item 2016\n",
       "\\item 2017\n",
       "\\item 2018\n",
       "\\end{enumerate*}\n"
      ],
      "text/markdown": [
       "1. 1964\n",
       "2. 1985\n",
       "3. 1999\n",
       "4. 2015\n",
       "5. 2016\n",
       "6. 2017\n",
       "7. 2018\n",
       "\n",
       "\n"
      ],
      "text/plain": [
       "[1] 1964 1985 1999 2015 2016 2017 2018"
      ]
     },
     "metadata": {},
     "output_type": "display_data"
    }
   ],
   "source": [
    "#sort a vector\n",
    "sort(release_year)"
   ]
  },
  {
   "cell_type": "code",
   "execution_count": 9,
   "id": "5d9c5800-c0ac-4edc-968c-f8f5bf56a546",
   "metadata": {},
   "outputs": [
    {
     "data": {
      "text/html": [
       "<style>\n",
       ".list-inline {list-style: none; margin:0; padding: 0}\n",
       ".list-inline>li {display: inline-block}\n",
       ".list-inline>li:not(:last-child)::after {content: \"\\00b7\"; padding: 0 .5ex}\n",
       "</style>\n",
       "<ol class=list-inline><li>2018</li><li>2017</li><li>2016</li><li>2015</li><li>1999</li><li>1985</li><li>1964</li></ol>\n"
      ],
      "text/latex": [
       "\\begin{enumerate*}\n",
       "\\item 2018\n",
       "\\item 2017\n",
       "\\item 2016\n",
       "\\item 2015\n",
       "\\item 1999\n",
       "\\item 1985\n",
       "\\item 1964\n",
       "\\end{enumerate*}\n"
      ],
      "text/markdown": [
       "1. 2018\n",
       "2. 2017\n",
       "3. 2016\n",
       "4. 2015\n",
       "5. 1999\n",
       "6. 1985\n",
       "7. 1964\n",
       "\n",
       "\n"
      ],
      "text/plain": [
       "[1] 2018 2017 2016 2015 1999 1985 1964"
      ]
     },
     "metadata": {},
     "output_type": "display_data"
    }
   ],
   "source": [
    "#sort in descending order\n",
    "sort(release_year, decreasing = TRUE)"
   ]
  },
  {
   "cell_type": "code",
   "execution_count": 10,
   "id": "5d934ae1-1275-478e-8607-a1034cf95b78",
   "metadata": {},
   "outputs": [
    {
     "data": {
      "text/html": [
       "1964"
      ],
      "text/latex": [
       "1964"
      ],
      "text/markdown": [
       "1964"
      ],
      "text/plain": [
       "[1] 1964"
      ]
     },
     "metadata": {},
     "output_type": "display_data"
    },
    {
     "data": {
      "text/html": [
       "2018"
      ],
      "text/latex": [
       "2018"
      ],
      "text/markdown": [
       "2018"
      ],
      "text/plain": [
       "[1] 2018"
      ]
     },
     "metadata": {},
     "output_type": "display_data"
    }
   ],
   "source": [
    "#min and max values\n",
    "min(release_year)\n",
    "max(release_year)"
   ]
  },
  {
   "cell_type": "code",
   "execution_count": 11,
   "id": "7ad7b265-5209-47da-90c3-ea8890140057",
   "metadata": {},
   "outputs": [
    {
     "data": {
      "text/html": [
       "8.4"
      ],
      "text/latex": [
       "8.4"
      ],
      "text/markdown": [
       "8.4"
      ],
      "text/plain": [
       "[1] 8.4"
      ]
     },
     "metadata": {},
     "output_type": "display_data"
    }
   ],
   "source": [
    "#average\n",
    "cost_2014 <- c(8.6, 8.5, 8.1)\n",
    "\n",
    "# sum results in the sum of all elements in the vector\n",
    "avg_cost_2014 <- sum(cost_2014)/3\n",
    "avg_cost_2014"
   ]
  },
  {
   "cell_type": "code",
   "execution_count": 12,
   "id": "2f0f1998-24b1-4ff9-ae7e-4309c183fcda",
   "metadata": {},
   "outputs": [
    {
     "data": {
      "text/html": [
       "8.4"
      ],
      "text/latex": [
       "8.4"
      ],
      "text/markdown": [
       "8.4"
      ],
      "text/plain": [
       "[1] 8.4"
      ]
     },
     "metadata": {},
     "output_type": "display_data"
    }
   ],
   "source": [
    "#mean function\n",
    "mean_cost_2014 <- mean(cost_2014)\n",
    "mean_cost_2014"
   ]
  },
  {
   "cell_type": "code",
   "execution_count": 13,
   "id": "1f85ec8c-0923-42e2-bb7d-c8a05d4b1bab",
   "metadata": {},
   "outputs": [
    {
     "data": {
      "text/html": [
       "<style>\n",
       ".dl-inline {width: auto; margin:0; padding: 0}\n",
       ".dl-inline>dt, .dl-inline>dd {float: none; width: auto; display: inline-block}\n",
       ".dl-inline>dt::after {content: \":\\0020\"; padding-right: .5ex}\n",
       ".dl-inline>dt:not(:first-of-type) {padding-left: .5ex}\n",
       "</style><dl class=dl-inline><dt>The Breakfast Club</dt><dd>1985</dd><dt>American Beauty</dt><dd>1999</dd><dt>Black Swan</dt><dd>2010</dd><dt>Chicago</dt><dd>2002</dd></dl>\n"
      ],
      "text/latex": [
       "\\begin{description*}\n",
       "\\item[The Breakfast Club] 1985\n",
       "\\item[American Beauty] 1999\n",
       "\\item[Black Swan] 2010\n",
       "\\item[Chicago] 2002\n",
       "\\end{description*}\n"
      ],
      "text/markdown": [
       "The Breakfast Club\n",
       ":   1985American Beauty\n",
       ":   1999Black Swan\n",
       ":   2010Chicago\n",
       ":   2002\n",
       "\n"
      ],
      "text/plain": [
       "The Breakfast Club    American Beauty         Black Swan            Chicago \n",
       "              1985               1999               2010               2002 "
      ]
     },
     "metadata": {},
     "output_type": "display_data"
    }
   ],
   "source": [
    "#give names to values in a vector\n",
    "#Creating a year vector\n",
    "release_year <- c(1985, 1999, 2010, 2002)\n",
    "\n",
    "#Assigning names\n",
    "names(release_year) <- c(\"The Breakfast Club\", \"American Beauty\", \"Black Swan\", \"Chicago\")\n",
    "\n",
    "release_year"
   ]
  },
  {
   "cell_type": "code",
   "execution_count": 14,
   "id": "3f63be82-3b84-480e-a43e-17ca8a657c39",
   "metadata": {},
   "outputs": [
    {
     "data": {
      "text/html": [
       "<style>\n",
       ".dl-inline {width: auto; margin:0; padding: 0}\n",
       ".dl-inline>dt, .dl-inline>dd {float: none; width: auto; display: inline-block}\n",
       ".dl-inline>dt::after {content: \":\\0020\"; padding-right: .5ex}\n",
       ".dl-inline>dt:not(:first-of-type) {padding-left: .5ex}\n",
       "</style><dl class=dl-inline><dt>American Beauty</dt><dd>1999</dd><dt>Chicago</dt><dd>2002</dd></dl>\n"
      ],
      "text/latex": [
       "\\begin{description*}\n",
       "\\item[American Beauty] 1999\n",
       "\\item[Chicago] 2002\n",
       "\\end{description*}\n"
      ],
      "text/markdown": [
       "American Beauty\n",
       ":   1999Chicago\n",
       ":   2002\n",
       "\n"
      ],
      "text/plain": [
       "American Beauty         Chicago \n",
       "           1999            2002 "
      ]
     },
     "metadata": {},
     "output_type": "display_data"
    }
   ],
   "source": [
    "release_year[c(\"American Beauty\", \"Chicago\")]"
   ]
  },
  {
   "cell_type": "code",
   "execution_count": 15,
   "id": "18de0ccd-e7c1-416d-939f-c38e25dbba14",
   "metadata": {},
   "outputs": [
    {
     "data": {
      "text/html": [
       "<strong>The Breakfast Club:</strong> 2085"
      ],
      "text/latex": [
       "\\textbf{The Breakfast Club:} 2085"
      ],
      "text/markdown": [
       "**The Breakfast Club:** 2085"
      ],
      "text/plain": [
       "The Breakfast Club \n",
       "              2085 "
      ]
     },
     "metadata": {},
     "output_type": "display_data"
    }
   ],
   "source": [
    "release_year[1] + 100 #adding 100 to the first item changes the year"
   ]
  },
  {
   "cell_type": "code",
   "execution_count": 17,
   "id": "f9b9d14f-4eed-4925-8005-49d43e59a6d4",
   "metadata": {},
   "outputs": [
    {
     "data": {
      "text/html": [
       "<style>\n",
       ".list-inline {list-style: none; margin:0; padding: 0}\n",
       ".list-inline>li {display: inline-block}\n",
       ".list-inline>li:not(:last-child)::after {content: \"\\00b7\"; padding: 0 .5ex}\n",
       "</style>\n",
       "<ol class=list-inline><li>'The Breakfast Club'</li><li>'American Beauty'</li><li>'Black Swan'</li></ol>\n"
      ],
      "text/latex": [
       "\\begin{enumerate*}\n",
       "\\item 'The Breakfast Club'\n",
       "\\item 'American Beauty'\n",
       "\\item 'Black Swan'\n",
       "\\end{enumerate*}\n"
      ],
      "text/markdown": [
       "1. 'The Breakfast Club'\n",
       "2. 'American Beauty'\n",
       "3. 'Black Swan'\n",
       "\n",
       "\n"
      ],
      "text/plain": [
       "[1] \"The Breakfast Club\" \"American Beauty\"    \"Black Swan\"        "
      ]
     },
     "metadata": {},
     "output_type": "display_data"
    }
   ],
   "source": [
    "#retrive names\n",
    "names(release_year)[1:3]"
   ]
  },
  {
   "cell_type": "code",
   "execution_count": 18,
   "id": "a0a99a3e-6369-42d8-af3d-82d4bb3fd604",
   "metadata": {},
   "outputs": [
    {
     "data": {
      "text/plain": [
       "   Min. 1st Qu.  Median    Mean 3rd Qu.    Max. \n",
       "   8.10    8.30    8.50    8.40    8.55    8.60 "
      ]
     },
     "metadata": {},
     "output_type": "display_data"
    }
   ],
   "source": [
    "#summarize vectors\n",
    "summary(cost_2014)"
   ]
  },
  {
   "cell_type": "code",
   "execution_count": 19,
   "id": "d5ebc2d2-0f48-4f48-905b-bef1589799ee",
   "metadata": {},
   "outputs": [
    {
     "data": {
      "text/html": [
       "<style>\n",
       ".list-inline {list-style: none; margin:0; padding: 0}\n",
       ".list-inline>li {display: inline-block}\n",
       ".list-inline>li:not(:last-child)::after {content: \"\\00b7\"; padding: 0 .5ex}\n",
       "</style>\n",
       "<ol class=list-inline><li>FALSE</li><li>FALSE</li><li>TRUE</li></ol>\n"
      ],
      "text/latex": [
       "\\begin{enumerate*}\n",
       "\\item FALSE\n",
       "\\item FALSE\n",
       "\\item TRUE\n",
       "\\end{enumerate*}\n"
      ],
      "text/markdown": [
       "1. FALSE\n",
       "2. FALSE\n",
       "3. TRUE\n",
       "\n",
       "\n"
      ],
      "text/plain": [
       "[1] FALSE FALSE  TRUE"
      ]
     },
     "metadata": {},
     "output_type": "display_data"
    }
   ],
   "source": [
    "#make logical comparisons across multple vectors\n",
    "movies_years <- c(1998, 2010, 2016)\n",
    "movies_years > 2014"
   ]
  },
  {
   "cell_type": "code",
   "execution_count": 20,
   "id": "30a06ca8-f26b-43f8-9996-372b0a6966f7",
   "metadata": {},
   "outputs": [
    {
     "data": {
      "text/html": [
       "<style>\n",
       ".list-inline {list-style: none; margin:0; padding: 0}\n",
       ".list-inline>li {display: inline-block}\n",
       ".list-inline>li:not(:last-child)::after {content: \"\\00b7\"; padding: 0 .5ex}\n",
       "</style>\n",
       "<ol class=list-inline><li>FALSE</li><li>FALSE</li><li>FALSE</li></ol>\n"
      ],
      "text/latex": [
       "\\begin{enumerate*}\n",
       "\\item FALSE\n",
       "\\item FALSE\n",
       "\\item FALSE\n",
       "\\end{enumerate*}\n"
      ],
      "text/markdown": [
       "1. FALSE\n",
       "2. FALSE\n",
       "3. FALSE\n",
       "\n",
       "\n"
      ],
      "text/plain": [
       "[1] FALSE FALSE FALSE"
      ]
     },
     "metadata": {},
     "output_type": "display_data"
    },
    {
     "data": {
      "text/html": [
       "<style>\n",
       ".list-inline {list-style: none; margin:0; padding: 0}\n",
       ".list-inline>li {display: inline-block}\n",
       ".list-inline>li:not(:last-child)::after {content: \"\\00b7\"; padding: 0 .5ex}\n",
       "</style>\n",
       "<ol class=list-inline><li>TRUE</li><li>TRUE</li><li>TRUE</li></ol>\n"
      ],
      "text/latex": [
       "\\begin{enumerate*}\n",
       "\\item TRUE\n",
       "\\item TRUE\n",
       "\\item TRUE\n",
       "\\end{enumerate*}\n"
      ],
      "text/markdown": [
       "1. TRUE\n",
       "2. TRUE\n",
       "3. TRUE\n",
       "\n",
       "\n"
      ],
      "text/plain": [
       "[1] TRUE TRUE TRUE"
      ]
     },
     "metadata": {},
     "output_type": "display_data"
    }
   ],
   "source": [
    "#equal and not equal to\n",
    "movies_years == 2015 # is equal to 2015?\n",
    "movies_years != 2015"
   ]
  },
  {
   "cell_type": "code",
   "execution_count": 21,
   "id": "059b3a4c-704d-41c4-bb0d-21b84ce3e312",
   "metadata": {},
   "outputs": [
    {
     "data": {
      "text/html": [
       "1999"
      ],
      "text/latex": [
       "1999"
      ],
      "text/markdown": [
       "1999"
      ],
      "text/plain": [
       "[1] 1999"
      ]
     },
     "metadata": {},
     "output_type": "display_data"
    }
   ],
   "source": [
    "#subsetting vectors\n",
    "movie_years <- c(1985, 1999, 2002, 2010, 2012)\n",
    "movie_years[2] #second item"
   ]
  },
  {
   "cell_type": "code",
   "execution_count": 22,
   "id": "02105594-3510-4969-94c1-e4e726d04470",
   "metadata": {},
   "outputs": [
    {
     "data": {
      "text/html": [
       "<style>\n",
       ".list-inline {list-style: none; margin:0; padding: 0}\n",
       ".list-inline>li {display: inline-block}\n",
       ".list-inline>li:not(:last-child)::after {content: \"\\00b7\"; padding: 0 .5ex}\n",
       "</style>\n",
       "<ol class=list-inline><li>1985</li><li>2002</li></ol>\n"
      ],
      "text/latex": [
       "\\begin{enumerate*}\n",
       "\\item 1985\n",
       "\\item 2002\n",
       "\\end{enumerate*}\n"
      ],
      "text/markdown": [
       "1. 1985\n",
       "2. 2002\n",
       "\n",
       "\n"
      ],
      "text/plain": [
       "[1] 1985 2002"
      ]
     },
     "metadata": {},
     "output_type": "display_data"
    }
   ],
   "source": [
    "#retrieve multiple items\n",
    "movie_years[c(1,3)] #first and third items"
   ]
  },
  {
   "cell_type": "code",
   "execution_count": 23,
   "id": "c11bee12-f0fa-4844-9ca8-c5ae92034068",
   "metadata": {},
   "outputs": [
    {
     "data": {
      "text/html": [
       "<style>\n",
       ".list-inline {list-style: none; margin:0; padding: 0}\n",
       ".list-inline>li {display: inline-block}\n",
       ".list-inline>li:not(:last-child)::after {content: \"\\00b7\"; padding: 0 .5ex}\n",
       "</style>\n",
       "<ol class=list-inline><li>'Jumanji'</li><li>'City of God'</li><li>'Toy Story'</li><li>'Casino'</li></ol>\n"
      ],
      "text/latex": [
       "\\begin{enumerate*}\n",
       "\\item 'Jumanji'\n",
       "\\item 'City of God'\n",
       "\\item 'Toy Story'\n",
       "\\item 'Casino'\n",
       "\\end{enumerate*}\n"
      ],
      "text/markdown": [
       "1. 'Jumanji'\n",
       "2. 'City of God'\n",
       "3. 'Toy Story'\n",
       "4. 'Casino'\n",
       "\n",
       "\n"
      ],
      "text/plain": [
       "[1] \"Jumanji\"     \"City of God\" \"Toy Story\"   \"Casino\"     "
      ]
     },
     "metadata": {},
     "output_type": "display_data"
    }
   ],
   "source": [
    "#negative indexing, slice\n",
    "titles <- c(\"Black Swan\", \"Jumanji\", \"City of God\", \"Toy Story\", \"Casino\")\n",
    "titles[-1]"
   ]
  },
  {
   "cell_type": "code",
   "execution_count": 24,
   "id": "43052acd-7aa7-4cb9-b042-fbc4e32c9126",
   "metadata": {},
   "outputs": [
    {
     "data": {
      "text/html": [
       "<style>\n",
       ".list-inline {list-style: none; margin:0; padding: 0}\n",
       ".list-inline>li {display: inline-block}\n",
       ".list-inline>li:not(:last-child)::after {content: \"\\00b7\"; padding: 0 .5ex}\n",
       "</style>\n",
       "<ol class=list-inline><li>14</li><li>12</li><li>10</li><li>&lt;NA&gt;</li><li>18</li><li>&lt;NA&gt;</li></ol>\n"
      ],
      "text/latex": [
       "\\begin{enumerate*}\n",
       "\\item 14\n",
       "\\item 12\n",
       "\\item 10\n",
       "\\item <NA>\n",
       "\\item 18\n",
       "\\item <NA>\n",
       "\\end{enumerate*}\n"
      ],
      "text/markdown": [
       "1. 14\n",
       "2. 12\n",
       "3. 10\n",
       "4. &lt;NA&gt;\n",
       "5. 18\n",
       "6. &lt;NA&gt;\n",
       "\n",
       "\n"
      ],
      "text/plain": [
       "[1] 14 12 10 NA 18 NA"
      ]
     },
     "metadata": {},
     "output_type": "display_data"
    }
   ],
   "source": [
    "#not available\n",
    "age_restric <- c(14, 12, 10, NA, 18, NA)\n",
    "age_restric"
   ]
  },
  {
   "cell_type": "code",
   "execution_count": 25,
   "id": "5f1cd2e8-91fd-4ec5-8f41-3b0d45e23fe6",
   "metadata": {},
   "outputs": [
    {
     "data": {
      "text/html": [
       "<style>\n",
       ".dl-inline {width: auto; margin:0; padding: 0}\n",
       ".dl-inline>dt, .dl-inline>dd {float: none; width: auto; display: inline-block}\n",
       ".dl-inline>dt::after {content: \":\\0020\"; padding-right: .5ex}\n",
       ".dl-inline>dt:not(:first-of-type) {padding-left: .5ex}\n",
       "</style><dl class=dl-inline><dt>Black Swan</dt><dd>2010</dd><dt>Chicago</dt><dd>2002</dd><dt>3</dt><dd>&lt;NA&gt;</dd></dl>\n"
      ],
      "text/latex": [
       "\\begin{description*}\n",
       "\\item[Black Swan] 2010\n",
       "\\item[Chicago] 2002\n",
       "\\item[3] <NA>\n",
       "\\end{description*}\n"
      ],
      "text/markdown": [
       "Black Swan\n",
       ":   2010Chicago\n",
       ":   20023\n",
       ":   &lt;NA&gt;\n",
       "\n"
      ],
      "text/plain": [
       "Black Swan    Chicago       <NA> \n",
       "      2010       2002         NA "
      ]
     },
     "metadata": {},
     "output_type": "display_data"
    }
   ],
   "source": [
    "release_year[movie_years > 2000] #returns a vector for elements that returned TRUE for the condition"
   ]
  },
  {
   "cell_type": "code",
   "execution_count": 26,
   "id": "7e28b95c-fba4-42bd-a68d-5b659f139599",
   "metadata": {},
   "outputs": [
    {
     "data": {
      "text/html": [
       "<style>\n",
       ".dl-inline {width: auto; margin:0; padding: 0}\n",
       ".dl-inline>dt, .dl-inline>dd {float: none; width: auto; display: inline-block}\n",
       ".dl-inline>dt::after {content: \":\\0020\"; padding-right: .5ex}\n",
       ".dl-inline>dt:not(:first-of-type) {padding-left: .5ex}\n",
       "</style><dl class=dl-inline><dt>The Breakfast Club</dt><dd>1985</dd><dt>American Beauty</dt><dd>1999</dd><dt>Black Swan</dt><dd>2010</dd><dt>Chicago</dt><dd>2002</dd></dl>\n"
      ],
      "text/latex": [
       "\\begin{description*}\n",
       "\\item[The Breakfast Club] 1985\n",
       "\\item[American Beauty] 1999\n",
       "\\item[Black Swan] 2010\n",
       "\\item[Chicago] 2002\n",
       "\\end{description*}\n"
      ],
      "text/markdown": [
       "The Breakfast Club\n",
       ":   1985American Beauty\n",
       ":   1999Black Swan\n",
       ":   2010Chicago\n",
       ":   2002\n",
       "\n"
      ],
      "text/plain": [
       "The Breakfast Club    American Beauty         Black Swan            Chicago \n",
       "              1985               1999               2010               2002 "
      ]
     },
     "metadata": {},
     "output_type": "display_data"
    },
    {
     "data": {
      "text/html": [
       "<strong>The Breakfast Club:</strong> 1985"
      ],
      "text/latex": [
       "\\textbf{The Breakfast Club:} 1985"
      ],
      "text/markdown": [
       "**The Breakfast Club:** 1985"
      ],
      "text/plain": [
       "The Breakfast Club \n",
       "              1985 "
      ]
     },
     "metadata": {},
     "output_type": "display_data"
    }
   ],
   "source": [
    "release_year\n",
    "release_year[c(T, F, F, F)] #returns the values that are TRUE"
   ]
  },
  {
   "cell_type": "code",
   "execution_count": 27,
   "id": "ed552001-94d2-48bb-a07a-4aad5271975b",
   "metadata": {},
   "outputs": [],
   "source": [
    "##Factors"
   ]
  },
  {
   "cell_type": "code",
   "execution_count": 28,
   "id": "055fbc2f-cf07-42b5-902c-f26529b6bfb1",
   "metadata": {},
   "outputs": [
    {
     "data": {
      "text/html": [
       "<style>\n",
       ".list-inline {list-style: none; margin:0; padding: 0}\n",
       ".list-inline>li {display: inline-block}\n",
       ".list-inline>li:not(:last-child)::after {content: \"\\00b7\"; padding: 0 .5ex}\n",
       "</style>\n",
       "<ol class=list-inline><li>'Comedy'</li><li>'Animation'</li><li>'Crime'</li><li>'Comedy'</li><li>'Animation'</li></ol>\n"
      ],
      "text/latex": [
       "\\begin{enumerate*}\n",
       "\\item 'Comedy'\n",
       "\\item 'Animation'\n",
       "\\item 'Crime'\n",
       "\\item 'Comedy'\n",
       "\\item 'Animation'\n",
       "\\end{enumerate*}\n"
      ],
      "text/markdown": [
       "1. 'Comedy'\n",
       "2. 'Animation'\n",
       "3. 'Crime'\n",
       "4. 'Comedy'\n",
       "5. 'Animation'\n",
       "\n",
       "\n"
      ],
      "text/plain": [
       "[1] \"Comedy\"    \"Animation\" \"Crime\"     \"Comedy\"    \"Animation\""
      ]
     },
     "metadata": {},
     "output_type": "display_data"
    }
   ],
   "source": [
    "# Factors are variables in R which take on a limited number of different values;\n",
    "# such variables are often refered to as categorical variables. The difference between a categorical\n",
    "# variable and a continuous variable is that a categorical variable can belong to a limited number of categories.\n",
    "genre_vector <- c(\"Comedy\", \"Animation\", \"Crime\", \"Comedy\", \"Animation\")\n",
    "genre_vector"
   ]
  },
  {
   "cell_type": "code",
   "execution_count": 29,
   "id": "159d795a-30cf-4d58-b1a1-409d04a6a50c",
   "metadata": {},
   "outputs": [
    {
     "data": {
      "text/html": [
       "<style>\n",
       ".list-inline {list-style: none; margin:0; padding: 0}\n",
       ".list-inline>li {display: inline-block}\n",
       ".list-inline>li:not(:last-child)::after {content: \"\\00b7\"; padding: 0 .5ex}\n",
       "</style>\n",
       "<ol class=list-inline><li>'Animation'</li><li>'Comedy'</li><li>'Crime'</li></ol>\n"
      ],
      "text/latex": [
       "\\begin{enumerate*}\n",
       "\\item 'Animation'\n",
       "\\item 'Comedy'\n",
       "\\item 'Crime'\n",
       "\\end{enumerate*}\n"
      ],
      "text/markdown": [
       "1. 'Animation'\n",
       "2. 'Comedy'\n",
       "3. 'Crime'\n",
       "\n",
       "\n"
      ],
      "text/plain": [
       "[1] \"Animation\" \"Comedy\"    \"Crime\"    "
      ]
     },
     "metadata": {},
     "output_type": "display_data"
    }
   ],
   "source": [
    "#create factor level\n",
    "genre_factor <- as.factor(genre_vector)\n",
    "levels(genre_factor)"
   ]
  },
  {
   "cell_type": "code",
   "execution_count": 30,
   "id": "3fce37db-4edf-4db2-862e-31526b0b4699",
   "metadata": {},
   "outputs": [
    {
     "data": {
      "text/html": [
       "<style>\n",
       ".dl-inline {width: auto; margin:0; padding: 0}\n",
       ".dl-inline>dt, .dl-inline>dd {float: none; width: auto; display: inline-block}\n",
       ".dl-inline>dt::after {content: \":\\0020\"; padding-right: .5ex}\n",
       ".dl-inline>dt:not(:first-of-type) {padding-left: .5ex}\n",
       "</style><dl class=dl-inline><dt>Animation</dt><dd>2</dd><dt>Comedy</dt><dd>2</dd><dt>Crime</dt><dd>1</dd></dl>\n"
      ],
      "text/latex": [
       "\\begin{description*}\n",
       "\\item[Animation] 2\n",
       "\\item[Comedy] 2\n",
       "\\item[Crime] 1\n",
       "\\end{description*}\n"
      ],
      "text/markdown": [
       "Animation\n",
       ":   2Comedy\n",
       ":   2Crime\n",
       ":   1\n",
       "\n"
      ],
      "text/plain": [
       "Animation    Comedy     Crime \n",
       "        2         2         1 "
      ]
     },
     "metadata": {},
     "output_type": "display_data"
    }
   ],
   "source": [
    "summary(genre_factor) #summarise factors"
   ]
  },
  {
   "cell_type": "code",
   "execution_count": 31,
   "id": "7a8b733f-7b22-46c3-8a4b-333033ea15d9",
   "metadata": {},
   "outputs": [
    {
     "data": {
      "text/html": [
       "<style>\n",
       ".dl-inline {width: auto; margin:0; padding: 0}\n",
       ".dl-inline>dt, .dl-inline>dd {float: none; width: auto; display: inline-block}\n",
       ".dl-inline>dt::after {content: \":\\0020\"; padding-right: .5ex}\n",
       ".dl-inline>dt:not(:first-of-type) {padding-left: .5ex}\n",
       "</style><dl class=dl-inline><dt>Crime</dt><dd>1</dd><dt>Animation</dt><dd>2</dd><dt>Comedy</dt><dd>2</dd></dl>\n"
      ],
      "text/latex": [
       "\\begin{description*}\n",
       "\\item[Crime] 1\n",
       "\\item[Animation] 2\n",
       "\\item[Comedy] 2\n",
       "\\end{description*}\n"
      ],
      "text/markdown": [
       "Crime\n",
       ":   1Animation\n",
       ":   2Comedy\n",
       ":   2\n",
       "\n"
      ],
      "text/plain": [
       "    Crime Animation    Comedy \n",
       "        1         2         2 "
      ]
     },
     "metadata": {},
     "output_type": "display_data"
    }
   ],
   "source": [
    "sort(summary(genre_factor)) #sorts values by ascending order"
   ]
  },
  {
   "cell_type": "code",
   "execution_count": 32,
   "id": "bc7d1d92-8ee6-4555-a7d1-661ea7010690",
   "metadata": {},
   "outputs": [
    {
     "data": {
      "text/html": [
       "<style>\n",
       ".list-inline {list-style: none; margin:0; padding: 0}\n",
       ".list-inline>li {display: inline-block}\n",
       ".list-inline>li:not(:last-child)::after {content: \"\\00b7\"; padding: 0 .5ex}\n",
       "</style>\n",
       "<ol class=list-inline><li>'Very Short'</li><li>'Short'</li><li>'Medium'</li><li>'Short'</li><li>'Long'</li><li>'Very Short'</li><li>'Very Long'</li></ol>\n"
      ],
      "text/latex": [
       "\\begin{enumerate*}\n",
       "\\item 'Very Short'\n",
       "\\item 'Short'\n",
       "\\item 'Medium'\n",
       "\\item 'Short'\n",
       "\\item 'Long'\n",
       "\\item 'Very Short'\n",
       "\\item 'Very Long'\n",
       "\\end{enumerate*}\n"
      ],
      "text/markdown": [
       "1. 'Very Short'\n",
       "2. 'Short'\n",
       "3. 'Medium'\n",
       "4. 'Short'\n",
       "5. 'Long'\n",
       "6. 'Very Short'\n",
       "7. 'Very Long'\n",
       "\n",
       "\n"
      ],
      "text/plain": [
       "[1] \"Very Short\" \"Short\"      \"Medium\"     \"Short\"      \"Long\"      \n",
       "[6] \"Very Short\" \"Very Long\" "
      ]
     },
     "metadata": {},
     "output_type": "display_data"
    }
   ],
   "source": [
    "#ordered factors\n",
    "movie_length <- c(\"Very Short\", \"Short\", \"Medium\",\"Short\", \"Long\",\n",
    "                        \"Very Short\", \"Very Long\")\n",
    "movie_length"
   ]
  },
  {
   "cell_type": "code",
   "execution_count": 33,
   "id": "e4e94176-61db-4ece-a974-c78c2379e9fe",
   "metadata": {},
   "outputs": [
    {
     "data": {
      "text/html": [
       "<style>\n",
       ".list-inline {list-style: none; margin:0; padding: 0}\n",
       ".list-inline>li {display: inline-block}\n",
       ".list-inline>li:not(:last-child)::after {content: \"\\00b7\"; padding: 0 .5ex}\n",
       "</style>\n",
       "<ol class=list-inline><li>Very Short</li><li>Short</li><li>Medium</li><li>Short</li><li>Long</li><li>Very Short</li><li>Very Long</li></ol>\n",
       "\n",
       "<details>\n",
       "\t<summary style=display:list-item;cursor:pointer>\n",
       "\t\t<strong>Levels</strong>:\n",
       "\t</summary>\n",
       "\t<style>\n",
       "\t.list-inline {list-style: none; margin:0; padding: 0}\n",
       "\t.list-inline>li {display: inline-block}\n",
       "\t.list-inline>li:not(:last-child)::after {content: \"\\00b7\"; padding: 0 .5ex}\n",
       "\t</style>\n",
       "\t<ol class=list-inline><li>'Very Short'</li><li>'Short'</li><li>'Medium'</li><li>'Long'</li><li>'Very Long'</li></ol>\n",
       "</details>"
      ],
      "text/latex": [
       "\\begin{enumerate*}\n",
       "\\item Very Short\n",
       "\\item Short\n",
       "\\item Medium\n",
       "\\item Short\n",
       "\\item Long\n",
       "\\item Very Short\n",
       "\\item Very Long\n",
       "\\end{enumerate*}\n",
       "\n",
       "\\emph{Levels}: \\begin{enumerate*}\n",
       "\\item 'Very Short'\n",
       "\\item 'Short'\n",
       "\\item 'Medium'\n",
       "\\item 'Long'\n",
       "\\item 'Very Long'\n",
       "\\end{enumerate*}\n"
      ],
      "text/markdown": [
       "1. Very Short\n",
       "2. Short\n",
       "3. Medium\n",
       "4. Short\n",
       "5. Long\n",
       "6. Very Short\n",
       "7. Very Long\n",
       "\n",
       "\n",
       "\n",
       "**Levels**: 1. 'Very Short'\n",
       "2. 'Short'\n",
       "3. 'Medium'\n",
       "4. 'Long'\n",
       "5. 'Very Long'\n",
       "\n",
       "\n"
      ],
      "text/plain": [
       "[1] Very Short Short      Medium     Short      Long       Very Short Very Long \n",
       "Levels: Very Short < Short < Medium < Long < Very Long"
      ]
     },
     "metadata": {},
     "output_type": "display_data"
    }
   ],
   "source": [
    "movie_length_ordered <- factor(movie_length, ordered = TRUE , \n",
    "                                 levels = c(\"Very Short\" , \"Short\" , \"Medium\", \n",
    "                                            \"Long\",\"Very Long\"))\n",
    "movie_length_ordered"
   ]
  },
  {
   "cell_type": "code",
   "execution_count": 34,
   "id": "443e8f08-c5f7-4969-b4de-e8b427558e1f",
   "metadata": {},
   "outputs": [
    {
     "data": {
      "text/html": [
       "<style>\n",
       ".dl-inline {width: auto; margin:0; padding: 0}\n",
       ".dl-inline>dt, .dl-inline>dd {float: none; width: auto; display: inline-block}\n",
       ".dl-inline>dt::after {content: \":\\0020\"; padding-right: .5ex}\n",
       ".dl-inline>dt:not(:first-of-type) {padding-left: .5ex}\n",
       "</style><dl class=dl-inline><dt>Very Short</dt><dd>2</dd><dt>Short</dt><dd>2</dd><dt>Medium</dt><dd>1</dd><dt>Long</dt><dd>1</dd><dt>Very Long</dt><dd>1</dd></dl>\n"
      ],
      "text/latex": [
       "\\begin{description*}\n",
       "\\item[Very Short] 2\n",
       "\\item[Short] 2\n",
       "\\item[Medium] 1\n",
       "\\item[Long] 1\n",
       "\\item[Very Long] 1\n",
       "\\end{description*}\n"
      ],
      "text/markdown": [
       "Very Short\n",
       ":   2Short\n",
       ":   2Medium\n",
       ":   1Long\n",
       ":   1Very Long\n",
       ":   1\n",
       "\n"
      ],
      "text/plain": [
       "Very Short      Short     Medium       Long  Very Long \n",
       "         2          2          1          1          1 "
      ]
     },
     "metadata": {},
     "output_type": "display_data"
    }
   ],
   "source": [
    "#summary\n",
    "summary(movie_length_ordered)"
   ]
  },
  {
   "cell_type": "code",
   "execution_count": null,
   "id": "37339869-8320-4506-8e50-d378dc2a2a87",
   "metadata": {},
   "outputs": [],
   "source": []
  }
 ],
 "metadata": {
  "kernelspec": {
   "display_name": "R",
   "language": "R",
   "name": "conda-env-r-r"
  },
  "language_info": {
   "codemirror_mode": "r",
   "file_extension": ".r",
   "mimetype": "text/x-r-source",
   "name": "R",
   "pygments_lexer": "r",
   "version": "3.5.1"
  }
 },
 "nbformat": 4,
 "nbformat_minor": 5
}
