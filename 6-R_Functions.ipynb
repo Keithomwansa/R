{
 "cells": [
  {
   "cell_type": "code",
   "execution_count": null,
   "id": "0e503ad6-7047-49b1-9c89-9d7b14be21ca",
   "metadata": {},
   "outputs": [],
   "source": [
    "#download the dataset\n",
    "\n",
    "download.file(\"https://ibm.box.com/shared/static/n5ay5qadfe7e1nnsv5s01oe1x62mq51j.csv\", destfile=\"movies-db.csv\")"
   ]
  },
  {
   "cell_type": "code",
   "execution_count": 1,
   "id": "b98437d5-8b33-423f-87c2-791f72246313",
   "metadata": {},
   "outputs": [
    {
     "data": {
      "text/html": [
       "8.03333333333333"
      ],
      "text/latex": [
       "8.03333333333333"
      ],
      "text/markdown": [
       "8.03333333333333"
      ],
      "text/plain": [
       "[1] 8.033333"
      ]
     },
     "metadata": {},
     "output_type": "display_data"
    }
   ],
   "source": [
    "#predefined functions\n",
    "ratings <- c(8.7, 6.9, 8.5)\n",
    "mean(ratings)"
   ]
  },
  {
   "cell_type": "code",
   "execution_count": 2,
   "id": "fc262c1a-a9f4-4d65-99ce-53093ed0bd9a",
   "metadata": {},
   "outputs": [
    {
     "data": {
      "text/html": [
       "<style>\n",
       ".list-inline {list-style: none; margin:0; padding: 0}\n",
       ".list-inline>li {display: inline-block}\n",
       ".list-inline>li:not(:last-child)::after {content: \"\\00b7\"; padding: 0 .5ex}\n",
       "</style>\n",
       "<ol class=list-inline><li>6.9</li><li>8.5</li><li>8.7</li></ol>\n"
      ],
      "text/latex": [
       "\\begin{enumerate*}\n",
       "\\item 6.9\n",
       "\\item 8.5\n",
       "\\item 8.7\n",
       "\\end{enumerate*}\n"
      ],
      "text/markdown": [
       "1. 6.9\n",
       "2. 8.5\n",
       "3. 8.7\n",
       "\n",
       "\n"
      ],
      "text/plain": [
       "[1] 6.9 8.5 8.7"
      ]
     },
     "metadata": {},
     "output_type": "display_data"
    }
   ],
   "source": [
    "sort(ratings)"
   ]
  },
  {
   "cell_type": "code",
   "execution_count": 3,
   "id": "adb1986c-de85-4f0b-a96e-0f13eb731b0e",
   "metadata": {},
   "outputs": [
    {
     "data": {
      "text/html": [
       "<style>\n",
       ".list-inline {list-style: none; margin:0; padding: 0}\n",
       ".list-inline>li {display: inline-block}\n",
       ".list-inline>li:not(:last-child)::after {content: \"\\00b7\"; padding: 0 .5ex}\n",
       "</style>\n",
       "<ol class=list-inline><li>8.7</li><li>8.5</li><li>6.9</li></ol>\n"
      ],
      "text/latex": [
       "\\begin{enumerate*}\n",
       "\\item 8.7\n",
       "\\item 8.5\n",
       "\\item 6.9\n",
       "\\end{enumerate*}\n"
      ],
      "text/markdown": [
       "1. 8.7\n",
       "2. 8.5\n",
       "3. 6.9\n",
       "\n",
       "\n"
      ],
      "text/plain": [
       "[1] 8.7 8.5 6.9"
      ]
     },
     "metadata": {},
     "output_type": "display_data"
    }
   ],
   "source": [
    "sort(ratings, decreasing = TRUE)"
   ]
  },
  {
   "cell_type": "code",
   "execution_count": 5,
   "id": "9d47a5d9-76f8-4efc-af62-2529ffc6f60f",
   "metadata": {},
   "outputs": [
    {
     "name": "stdout",
     "output_type": "stream",
     "text": [
      "[1] \"Hello World\"\n"
     ]
    }
   ],
   "source": [
    "#user defined functions\n",
    "printHelloWorld <- function(){\n",
    "    print(\"Hello World\")\n",
    "}\n",
    "printHelloWorld()"
   ]
  },
  {
   "cell_type": "code",
   "execution_count": 6,
   "id": "e7511fb6-cd66-4482-a6c4-af0d2157ed14",
   "metadata": {},
   "outputs": [
    {
     "name": "stdout",
     "output_type": "stream",
     "text": [
      "[1] \"Hello World\"\n"
     ]
    }
   ],
   "source": [
    "printHelloWorld()\n"
   ]
  },
  {
   "cell_type": "code",
   "execution_count": 7,
   "id": "40386fbc-33e4-481f-a2a9-e35aa8cf7221",
   "metadata": {},
   "outputs": [
    {
     "name": "stdout",
     "output_type": "stream",
     "text": [
      "[1] \"Hello World\"\n"
     ]
    }
   ],
   "source": [
    "printHelloWorld()"
   ]
  },
  {
   "cell_type": "code",
   "execution_count": 8,
   "id": "5e24b112-f88b-4b8c-abe2-f1b6e493de33",
   "metadata": {},
   "outputs": [
    {
     "data": {
      "text/html": [
       "7"
      ],
      "text/latex": [
       "7"
      ],
      "text/markdown": [
       "7"
      ],
      "text/plain": [
       "[1] 7"
      ]
     },
     "metadata": {},
     "output_type": "display_data"
    }
   ],
   "source": [
    "add <- function(x, y) {\n",
    "    x + y\n",
    "}\n",
    "add(3, 4)"
   ]
  },
  {
   "cell_type": "code",
   "execution_count": 9,
   "id": "d0244153-708e-49a1-b3d7-13f5217604e1",
   "metadata": {},
   "outputs": [
    {
     "data": {
      "text/html": [
       "7"
      ],
      "text/latex": [
       "7"
      ],
      "text/markdown": [
       "7"
      ],
      "text/plain": [
       "[1] 7"
      ]
     },
     "metadata": {},
     "output_type": "display_data"
    }
   ],
   "source": [
    "add <- function(x, y){\n",
    "    return(x + y)\n",
    "}\n",
    "add(3, 4)"
   ]
  },
  {
   "cell_type": "code",
   "execution_count": 10,
   "id": "0380632c-bee6-486b-9074-ded9dc6971d0",
   "metadata": {},
   "outputs": [
    {
     "data": {
      "text/html": [
       "'NO'"
      ],
      "text/latex": [
       "'NO'"
      ],
      "text/markdown": [
       "'NO'"
      ],
      "text/plain": [
       "[1] \"NO\""
      ]
     },
     "metadata": {},
     "output_type": "display_data"
    },
    {
     "data": {
      "text/html": [
       "'YES'"
      ],
      "text/latex": [
       "'YES'"
      ],
      "text/markdown": [
       "'YES'"
      ],
      "text/plain": [
       "[1] \"YES\""
      ]
     },
     "metadata": {},
     "output_type": "display_data"
    }
   ],
   "source": [
    "#return statement \n",
    "isGoodRating <- function(rating){\n",
    "    #This function returns \"NO\" if the input value is less than 7. Otherwise it returns \"YES\".\n",
    "    \n",
    "    if(rating < 7){\n",
    "        return(\"NO\") # return NO if the movie rating is less than 7\n",
    "    \n",
    "    }else{\n",
    "        return(\"YES\") # otherwise return YES\n",
    "    }\n",
    "}\n",
    "\n",
    "isGoodRating(6)\n",
    "isGoodRating(9.5)"
   ]
  },
  {
   "cell_type": "code",
   "execution_count": 11,
   "id": "e5bdeccf-2cf3-4c4b-8127-69fb074076d9",
   "metadata": {},
   "outputs": [
    {
     "data": {
      "text/html": [
       "'NO'"
      ],
      "text/latex": [
       "'NO'"
      ],
      "text/markdown": [
       "'NO'"
      ],
      "text/plain": [
       "[1] \"NO\""
      ]
     },
     "metadata": {},
     "output_type": "display_data"
    },
    {
     "data": {
      "text/html": [
       "'YES'"
      ],
      "text/latex": [
       "'YES'"
      ],
      "text/markdown": [
       "'YES'"
      ],
      "text/plain": [
       "[1] \"YES\""
      ]
     },
     "metadata": {},
     "output_type": "display_data"
    }
   ],
   "source": [
    "#default threshold/ argument values\n",
    "isGoodRating <- function(rating, threshold = 7){\n",
    "    if(rating < threshold){\n",
    "        return(\"NO\") # return NO if the movie rating is less than the threshold\n",
    "    }else{\n",
    "        return(\"YES\") # otherwise return YES\n",
    "    }\n",
    "}\n",
    "\n",
    "isGoodRating(6)\n",
    "isGoodRating(10)"
   ]
  },
  {
   "cell_type": "code",
   "execution_count": 12,
   "id": "5a3c3db1-b667-4e5a-8155-8944c0cd2d0f",
   "metadata": {},
   "outputs": [
    {
     "data": {
      "text/html": [
       "'NO'"
      ],
      "text/latex": [
       "'NO'"
      ],
      "text/markdown": [
       "'NO'"
      ],
      "text/plain": [
       "[1] \"NO\""
      ]
     },
     "metadata": {},
     "output_type": "display_data"
    }
   ],
   "source": [
    "isGoodRating(8, threshold = 8.5)"
   ]
  },
  {
   "cell_type": "code",
   "execution_count": 13,
   "id": "a08d71a5-5f4d-4a57-853d-ef65013100f0",
   "metadata": {},
   "outputs": [
    {
     "data": {
      "text/html": [
       "'NO'"
      ],
      "text/latex": [
       "'NO'"
      ],
      "text/markdown": [
       "'NO'"
      ],
      "text/plain": [
       "[1] \"NO\""
      ]
     },
     "metadata": {},
     "output_type": "display_data"
    }
   ],
   "source": [
    "isGoodRating(8, 8.5) #rating = 8, threshold = 8.5"
   ]
  },
  {
   "cell_type": "code",
   "execution_count": 15,
   "id": "ff66c4c4-b959-487f-9591-eca711e05893",
   "metadata": {},
   "outputs": [
    {
     "data": {
      "text/html": [
       "<table>\n",
       "<caption>A data.frame: 6 × 8</caption>\n",
       "<thead>\n",
       "\t<tr><th></th><th scope=col>name</th><th scope=col>year</th><th scope=col>length_min</th><th scope=col>genre</th><th scope=col>average_rating</th><th scope=col>cost_millions</th><th scope=col>foreign</th><th scope=col>age_restriction</th></tr>\n",
       "\t<tr><th></th><th scope=col>&lt;fct&gt;</th><th scope=col>&lt;int&gt;</th><th scope=col>&lt;int&gt;</th><th scope=col>&lt;fct&gt;</th><th scope=col>&lt;dbl&gt;</th><th scope=col>&lt;dbl&gt;</th><th scope=col>&lt;int&gt;</th><th scope=col>&lt;int&gt;</th></tr>\n",
       "</thead>\n",
       "<tbody>\n",
       "\t<tr><th scope=row>1</th><td>Toy Story         </td><td>1995</td><td> 81</td><td>Animation</td><td>8.3</td><td>30.0</td><td>0</td><td> 0</td></tr>\n",
       "\t<tr><th scope=row>2</th><td>Akira             </td><td>1998</td><td>125</td><td>Animation</td><td>8.1</td><td>10.4</td><td>1</td><td>14</td></tr>\n",
       "\t<tr><th scope=row>3</th><td>The Breakfast Club</td><td>1985</td><td> 97</td><td>Drama    </td><td>7.9</td><td> 1.0</td><td>0</td><td>14</td></tr>\n",
       "\t<tr><th scope=row>4</th><td>The Artist        </td><td>2011</td><td>100</td><td>Romance  </td><td>8.0</td><td>15.0</td><td>1</td><td>12</td></tr>\n",
       "\t<tr><th scope=row>5</th><td>Modern Times      </td><td>1936</td><td> 87</td><td>Comedy   </td><td>8.6</td><td> 1.5</td><td>0</td><td>10</td></tr>\n",
       "\t<tr><th scope=row>6</th><td>Fight Club        </td><td>1999</td><td>139</td><td>Drama    </td><td>8.9</td><td>63.0</td><td>0</td><td>18</td></tr>\n",
       "</tbody>\n",
       "</table>\n"
      ],
      "text/latex": [
       "A data.frame: 6 × 8\n",
       "\\begin{tabular}{r|llllllll}\n",
       "  & name & year & length\\_min & genre & average\\_rating & cost\\_millions & foreign & age\\_restriction\\\\\n",
       "  & <fct> & <int> & <int> & <fct> & <dbl> & <dbl> & <int> & <int>\\\\\n",
       "\\hline\n",
       "\t1 & Toy Story          & 1995 &  81 & Animation & 8.3 & 30.0 & 0 &  0\\\\\n",
       "\t2 & Akira              & 1998 & 125 & Animation & 8.1 & 10.4 & 1 & 14\\\\\n",
       "\t3 & The Breakfast Club & 1985 &  97 & Drama     & 7.9 &  1.0 & 0 & 14\\\\\n",
       "\t4 & The Artist         & 2011 & 100 & Romance   & 8.0 & 15.0 & 1 & 12\\\\\n",
       "\t5 & Modern Times       & 1936 &  87 & Comedy    & 8.6 &  1.5 & 0 & 10\\\\\n",
       "\t6 & Fight Club         & 1999 & 139 & Drama     & 8.9 & 63.0 & 0 & 18\\\\\n",
       "\\end{tabular}\n"
      ],
      "text/markdown": [
       "\n",
       "A data.frame: 6 × 8\n",
       "\n",
       "| <!--/--> | name &lt;fct&gt; | year &lt;int&gt; | length_min &lt;int&gt; | genre &lt;fct&gt; | average_rating &lt;dbl&gt; | cost_millions &lt;dbl&gt; | foreign &lt;int&gt; | age_restriction &lt;int&gt; |\n",
       "|---|---|---|---|---|---|---|---|---|\n",
       "| 1 | Toy Story          | 1995 |  81 | Animation | 8.3 | 30.0 | 0 |  0 |\n",
       "| 2 | Akira              | 1998 | 125 | Animation | 8.1 | 10.4 | 1 | 14 |\n",
       "| 3 | The Breakfast Club | 1985 |  97 | Drama     | 7.9 |  1.0 | 0 | 14 |\n",
       "| 4 | The Artist         | 2011 | 100 | Romance   | 8.0 | 15.0 | 1 | 12 |\n",
       "| 5 | Modern Times       | 1936 |  87 | Comedy    | 8.6 |  1.5 | 0 | 10 |\n",
       "| 6 | Fight Club         | 1999 | 139 | Drama     | 8.9 | 63.0 | 0 | 18 |\n",
       "\n"
      ],
      "text/plain": [
       "  name               year length_min genre     average_rating cost_millions\n",
       "1 Toy Story          1995  81        Animation 8.3            30.0         \n",
       "2 Akira              1998 125        Animation 8.1            10.4         \n",
       "3 The Breakfast Club 1985  97        Drama     7.9             1.0         \n",
       "4 The Artist         2011 100        Romance   8.0            15.0         \n",
       "5 Modern Times       1936  87        Comedy    8.6             1.5         \n",
       "6 Fight Club         1999 139        Drama     8.9            63.0         \n",
       "  foreign age_restriction\n",
       "1 0        0             \n",
       "2 1       14             \n",
       "3 0       14             \n",
       "4 1       12             \n",
       "5 0       10             \n",
       "6 0       18             "
      ]
     },
     "metadata": {},
     "output_type": "display_data"
    }
   ],
   "source": [
    "#functions within functions\n",
    "my_data <- read.csv(\"movies-db.csv\")\n",
    "head(my_data)"
   ]
  },
  {
   "cell_type": "code",
   "execution_count": 16,
   "id": "ed214db3-ab7c-45ab-a44e-c596104efe7a",
   "metadata": {},
   "outputs": [
    {
     "data": {
      "text/html": [
       "8.1"
      ],
      "text/latex": [
       "8.1"
      ],
      "text/markdown": [
       "8.1"
      ],
      "text/plain": [
       "[1] 8.1"
      ]
     },
     "metadata": {},
     "output_type": "display_data"
    },
    {
     "data": {
      "text/html": [
       "'YES'"
      ],
      "text/latex": [
       "'YES'"
      ],
      "text/markdown": [
       "'YES'"
      ],
      "text/plain": [
       "[1] \"YES\""
      ]
     },
     "metadata": {},
     "output_type": "display_data"
    }
   ],
   "source": [
    "# Within myData, the row should be where the first column equals \"Akira\"\n",
    "# AND the column should be \"average_rating\"\n",
    "\n",
    "akira <- my_data[my_data$name == \"Akira\", \"average_rating\"]\n",
    "akira\n",
    "\n",
    "isGoodRating(akira)"
   ]
  },
  {
   "cell_type": "code",
   "execution_count": 17,
   "id": "56f8011e-5953-4805-9eea-20d7ac1960a2",
   "metadata": {},
   "outputs": [
    {
     "data": {
      "text/html": [
       "'YES'"
      ],
      "text/latex": [
       "'YES'"
      ],
      "text/markdown": [
       "'YES'"
      ],
      "text/plain": [
       "[1] \"YES\""
      ]
     },
     "metadata": {},
     "output_type": "display_data"
    }
   ],
   "source": [
    "watchMovie <- function(data, moviename){\n",
    "    rating <- data[data[\"name\"] == moviename,\"average_rating\"]\n",
    "    return(isGoodRating(rating))\n",
    "}\n",
    "\n",
    "watchMovie(my_data, \"Akira\")"
   ]
  },
  {
   "cell_type": "code",
   "execution_count": 18,
   "id": "251d009f-afd6-43ac-8c47-2e1548696d17",
   "metadata": {},
   "outputs": [],
   "source": [
    "watchMovie <- function(data, moviename, my_threshold){\n",
    "    rating <- data[data$name == moviename,\"average_rating\"]\n",
    "    return(isGoodRating(rating, threshold = my_threshold))\n",
    "}"
   ]
  },
  {
   "cell_type": "code",
   "execution_count": 19,
   "id": "bd845e53-6453-4363-8381-1fee58ccec04",
   "metadata": {},
   "outputs": [
    {
     "data": {
      "text/html": [
       "'YES'"
      ],
      "text/latex": [
       "'YES'"
      ],
      "text/markdown": [
       "'YES'"
      ],
      "text/plain": [
       "[1] \"YES\""
      ]
     },
     "metadata": {},
     "output_type": "display_data"
    }
   ],
   "source": [
    "watchMovie(my_data, \"Akira\", 7)"
   ]
  },
  {
   "cell_type": "code",
   "execution_count": 20,
   "id": "e842d5ea-e709-486e-90e8-d3bc554cb7f4",
   "metadata": {},
   "outputs": [
    {
     "data": {
      "text/html": [
       "'YES'"
      ],
      "text/latex": [
       "'YES'"
      ],
      "text/markdown": [
       "'YES'"
      ],
      "text/plain": [
       "[1] \"YES\""
      ]
     },
     "metadata": {},
     "output_type": "display_data"
    }
   ],
   "source": [
    "watchMovie <- function(data, moviename, my_threshold = 7){\n",
    "    rating <- data[data[,1] == moviename,\"average_rating\"]\n",
    "    return(isGoodRating(rating, threshold = my_threshold))\n",
    "}\n",
    "\n",
    "watchMovie(my_data,\"Akira\")"
   ]
  },
  {
   "cell_type": "code",
   "execution_count": 21,
   "id": "bdf6650f-73f3-4006-864f-2ee53a5587e7",
   "metadata": {},
   "outputs": [
    {
     "data": {
      "text/html": [
       "'YES'"
      ],
      "text/latex": [
       "'YES'"
      ],
      "text/markdown": [
       "'YES'"
      ],
      "text/plain": [
       "[1] \"YES\""
      ]
     },
     "metadata": {},
     "output_type": "display_data"
    }
   ],
   "source": [
    "a <- watchMovie(my_data, \"Akira\")\n",
    "a"
   ]
  },
  {
   "cell_type": "code",
   "execution_count": 22,
   "id": "62c02a3d-3236-4c54-ae1f-ba1ea3f0f39f",
   "metadata": {},
   "outputs": [
    {
     "name": "stdout",
     "output_type": "stream",
     "text": [
      "[1] \"The movie rating for Akira is 8.1\"\n"
     ]
    },
    {
     "data": {
      "text/html": [
       "'YES'"
      ],
      "text/latex": [
       "'YES'"
      ],
      "text/markdown": [
       "'YES'"
      ],
      "text/plain": [
       "[1] \"YES\""
      ]
     },
     "metadata": {},
     "output_type": "display_data"
    }
   ],
   "source": [
    "watchMovie <- function(moviename, my_threshold = 7){\n",
    "    rating <- my_data[my_data[,1] == moviename,\"average_rating\"]\n",
    "\n",
    "    memo <- paste(\"The movie rating for\", moviename, \"is\", rating)\n",
    "    print(memo)\n",
    "    \n",
    "    return(isGoodRating(rating, threshold = my_threshold))\n",
    "}\n",
    "\n",
    "watchMovie(\"Akira\")"
   ]
  },
  {
   "cell_type": "code",
   "execution_count": 23,
   "id": "416a5cd1-80a5-4411-b407-ef74101d5f46",
   "metadata": {},
   "outputs": [
    {
     "name": "stdout",
     "output_type": "stream",
     "text": [
      "[1] \"The movie rating for Akira is 8.1\"\n"
     ]
    }
   ],
   "source": [
    "x <- watchMovie(\"Akira\")"
   ]
  },
  {
   "cell_type": "code",
   "execution_count": 24,
   "id": "482273fc-eb93-4f92-93e6-2808568d6aa0",
   "metadata": {},
   "outputs": [
    {
     "name": "stdout",
     "output_type": "stream",
     "text": [
      "[1] \"YES\"\n"
     ]
    }
   ],
   "source": [
    "print(x)"
   ]
  },
  {
   "cell_type": "code",
   "execution_count": 25,
   "id": "0b12b99f-270b-4ad4-b8f0-f30a50f824c5",
   "metadata": {},
   "outputs": [
    {
     "name": "stdout",
     "output_type": "stream",
     "text": [
      "[1] \"The movie rating for Akira is 8.1\"\n"
     ]
    },
    {
     "data": {
      "text/html": [
       "'YES'"
      ],
      "text/latex": [
       "'YES'"
      ],
      "text/markdown": [
       "'YES'"
      ],
      "text/plain": [
       "[1] \"YES\""
      ]
     },
     "metadata": {},
     "output_type": "display_data"
    }
   ],
   "source": [
    "#local variables\n",
    "watchMovie <- function(moviename, my_threshold = 7){\n",
    "    rating <- my_data[my_data[,1] == moviename,\"average_rating\"]\n",
    "    \n",
    "    memo <- paste(\"The movie rating for\", moviename, \"is\", rating)\n",
    "    print(memo)\n",
    "    \n",
    "    isGoodRating(rating, threshold = my_threshold)\n",
    "}\n",
    "\n",
    "watchMovie(\"Akira\")"
   ]
  },
  {
   "cell_type": "code",
   "execution_count": 26,
   "id": "04a1c4ce-8eca-4539-a0c6-4c798782ac1e",
   "metadata": {},
   "outputs": [
    {
     "ename": "ERROR",
     "evalue": "Error in eval(expr, envir, enclos): object 'memo' not found\n",
     "execution_count": 26,
     "output_type": "error",
     "traceback": [
      "Error in eval(expr, envir, enclos): object 'memo' not found\nTraceback:\n"
     ]
    }
   ],
   "source": [
    "memo"
   ]
  },
  {
   "cell_type": "code",
   "execution_count": 27,
   "id": "39b9718d-12cb-4a19-8da0-3d75e59db436",
   "metadata": {},
   "outputs": [
    {
     "data": {
      "text/html": [
       "'Hello World'"
      ],
      "text/latex": [
       "'Hello World'"
      ],
      "text/markdown": [
       "'Hello World'"
      ],
      "text/plain": [
       "[1] \"Hello World\""
      ]
     },
     "metadata": {},
     "output_type": "display_data"
    }
   ],
   "source": [
    "#global variables\n",
    "myFunction <- function(){\n",
    "    y <<- 3.14\n",
    "    return(\"Hello World\")\n",
    "    }\n",
    "myFunction()"
   ]
  },
  {
   "cell_type": "code",
   "execution_count": 28,
   "id": "b81d9f6c-e157-4efb-8cc0-29648491a92a",
   "metadata": {},
   "outputs": [
    {
     "data": {
      "text/html": [
       "3.14"
      ],
      "text/latex": [
       "3.14"
      ],
      "text/markdown": [
       "3.14"
      ],
      "text/plain": [
       "[1] 3.14"
      ]
     },
     "metadata": {},
     "output_type": "display_data"
    }
   ],
   "source": [
    "y #created only in the myFunction function"
   ]
  },
  {
   "cell_type": "code",
   "execution_count": 29,
   "id": "13419476-15ef-4370-a4cc-e413720b4b06",
   "metadata": {},
   "outputs": [],
   "source": [
    "# !!thank you!"
   ]
  },
  {
   "cell_type": "code",
   "execution_count": null,
   "id": "433a06ce-9c5f-4c37-99f5-e6c9773c6a81",
   "metadata": {},
   "outputs": [],
   "source": []
  }
 ],
 "metadata": {
  "kernelspec": {
   "display_name": "R",
   "language": "R",
   "name": "conda-env-r-r"
  },
  "language_info": {
   "codemirror_mode": "r",
   "file_extension": ".r",
   "mimetype": "text/x-r-source",
   "name": "R",
   "pygments_lexer": "r",
   "version": "3.5.1"
  }
 },
 "nbformat": 4,
 "nbformat_minor": 5
}
