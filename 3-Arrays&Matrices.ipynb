{
 "cells": [
  {
   "cell_type": "code",
   "execution_count": 1,
   "id": "609e3838-ceb0-47a4-a632-739df239622c",
   "metadata": {},
   "outputs": [],
   "source": [
    "# An array is a structure that holds values grouped together, \n",
    "# like a 2 x 2 table of 2 rows and 2 columns. Arrays can also be **multidimensional**, such as a 2 x 2 x 2 array.\n",
    "# Vectors are always one dimensional like a single row of data. On the other hand, an array can be multidimensional"
   ]
  },
  {
   "cell_type": "code",
   "execution_count": 2,
   "id": "f62d33bd-a031-4670-ae07-610d32f226ca",
   "metadata": {},
   "outputs": [],
   "source": [
    "#creating an array"
   ]
  },
  {
   "cell_type": "code",
   "execution_count": 3,
   "id": "41e06fc8-3163-4c0a-b4e2-acf9b11d436b",
   "metadata": {},
   "outputs": [
    {
     "data": {
      "text/html": [
       "<style>\n",
       ".list-inline {list-style: none; margin:0; padding: 0}\n",
       ".list-inline>li {display: inline-block}\n",
       ".list-inline>li:not(:last-child)::after {content: \"\\00b7\"; padding: 0 .5ex}\n",
       "</style>\n",
       "<ol class=list-inline><li>'Akira'</li><li>'Toy Story'</li><li>'Room'</li><li>'The Wave'</li><li>'Whiplash'</li><li>'Star Wars'</li><li>'The Ring'</li><li>'The Artist'</li><li>'Jumanji'</li></ol>\n"
      ],
      "text/latex": [
       "\\begin{enumerate*}\n",
       "\\item 'Akira'\n",
       "\\item 'Toy Story'\n",
       "\\item 'Room'\n",
       "\\item 'The Wave'\n",
       "\\item 'Whiplash'\n",
       "\\item 'Star Wars'\n",
       "\\item 'The Ring'\n",
       "\\item 'The Artist'\n",
       "\\item 'Jumanji'\n",
       "\\end{enumerate*}\n"
      ],
      "text/markdown": [
       "1. 'Akira'\n",
       "2. 'Toy Story'\n",
       "3. 'Room'\n",
       "4. 'The Wave'\n",
       "5. 'Whiplash'\n",
       "6. 'Star Wars'\n",
       "7. 'The Ring'\n",
       "8. 'The Artist'\n",
       "9. 'Jumanji'\n",
       "\n",
       "\n"
      ],
      "text/plain": [
       "[1] \"Akira\"      \"Toy Story\"  \"Room\"       \"The Wave\"   \"Whiplash\"  \n",
       "[6] \"Star Wars\"  \"The Ring\"   \"The Artist\" \"Jumanji\"   "
      ]
     },
     "metadata": {},
     "output_type": "display_data"
    }
   ],
   "source": [
    "#lets first create a vector of nine movies\n",
    "movie_vector <- c(\"Akira\", \"Toy Story\", \"Room\", \"The Wave\", \"Whiplash\",\n",
    "                  \"Star Wars\", \"The Ring\", \"The Artist\", \"Jumanji\")\n",
    "movie_vector"
   ]
  },
  {
   "cell_type": "code",
   "execution_count": 4,
   "id": "be9ae7e6-fb8c-41aa-af1a-9be3a3b256e5",
   "metadata": {},
   "outputs": [
    {
     "data": {
      "text/html": [
       "<table>\n",
       "<caption>A matrix: 4 × 3 of type chr</caption>\n",
       "<tbody>\n",
       "\t<tr><td>Akira    </td><td>Whiplash  </td><td>Jumanji  </td></tr>\n",
       "\t<tr><td>Toy Story</td><td>Star Wars </td><td>Akira    </td></tr>\n",
       "\t<tr><td>Room     </td><td>The Ring  </td><td>Toy Story</td></tr>\n",
       "\t<tr><td>The Wave </td><td>The Artist</td><td>Room     </td></tr>\n",
       "</tbody>\n",
       "</table>\n"
      ],
      "text/latex": [
       "A matrix: 4 × 3 of type chr\n",
       "\\begin{tabular}{lll}\n",
       "\t Akira     & Whiplash   & Jumanji  \\\\\n",
       "\t Toy Story & Star Wars  & Akira    \\\\\n",
       "\t Room      & The Ring   & Toy Story\\\\\n",
       "\t The Wave  & The Artist & Room     \\\\\n",
       "\\end{tabular}\n"
      ],
      "text/markdown": [
       "\n",
       "A matrix: 4 × 3 of type chr\n",
       "\n",
       "| Akira     | Whiplash   | Jumanji   |\n",
       "| Toy Story | Star Wars  | Akira     |\n",
       "| Room      | The Ring   | Toy Story |\n",
       "| The Wave  | The Artist | Room      |\n",
       "\n"
      ],
      "text/plain": [
       "     [,1]      [,2]       [,3]     \n",
       "[1,] Akira     Whiplash   Jumanji  \n",
       "[2,] Toy Story Star Wars  Akira    \n",
       "[3,] Room      The Ring   Toy Story\n",
       "[4,] The Wave  The Artist Room     "
      ]
     },
     "metadata": {},
     "output_type": "display_data"
    }
   ],
   "source": [
    "movie_array <- array(movie_vector, dim = c(4,3))\n",
    "movie_array"
   ]
  },
  {
   "cell_type": "code",
   "execution_count": 5,
   "id": "a9cc70dd-875f-4b1e-854c-46f23f1dbd4f",
   "metadata": {},
   "outputs": [],
   "source": [
    "# there were only 9 movie names, but the array was 4 x 3, the original vector doesn't have enough elements to \n",
    "# fill the entire array (that should have 3 x 4 = 12 elements).\n",
    "# So R simply fills rest of the empty values by going back to the beginning of the vector and starting again"
   ]
  },
  {
   "cell_type": "code",
   "execution_count": 6,
   "id": "75bcf411-349f-4818-86df-7551e4863dcb",
   "metadata": {},
   "outputs": [
    {
     "data": {
      "text/html": [
       "'Whiplash'"
      ],
      "text/latex": [
       "'Whiplash'"
      ],
      "text/markdown": [
       "'Whiplash'"
      ],
      "text/plain": [
       "[1] \"Whiplash\""
      ]
     },
     "metadata": {},
     "output_type": "display_data"
    },
    {
     "data": {
      "text/html": [
       "<style>\n",
       ".list-inline {list-style: none; margin:0; padding: 0}\n",
       ".list-inline>li {display: inline-block}\n",
       ".list-inline>li:not(:last-child)::after {content: \"\\00b7\"; padding: 0 .5ex}\n",
       "</style>\n",
       "<ol class=list-inline><li>'Akira'</li><li>'Whiplash'</li><li>'Jumanji'</li></ol>\n"
      ],
      "text/latex": [
       "\\begin{enumerate*}\n",
       "\\item 'Akira'\n",
       "\\item 'Whiplash'\n",
       "\\item 'Jumanji'\n",
       "\\end{enumerate*}\n"
      ],
      "text/markdown": [
       "1. 'Akira'\n",
       "2. 'Whiplash'\n",
       "3. 'Jumanji'\n",
       "\n",
       "\n"
      ],
      "text/plain": [
       "[1] \"Akira\"    \"Whiplash\" \"Jumanji\" "
      ]
     },
     "metadata": {},
     "output_type": "display_data"
    },
    {
     "data": {
      "text/html": [
       "<style>\n",
       ".list-inline {list-style: none; margin:0; padding: 0}\n",
       ".list-inline>li {display: inline-block}\n",
       ".list-inline>li:not(:last-child)::after {content: \"\\00b7\"; padding: 0 .5ex}\n",
       "</style>\n",
       "<ol class=list-inline><li>'Whiplash'</li><li>'Star Wars'</li><li>'The Ring'</li><li>'The Artist'</li></ol>\n"
      ],
      "text/latex": [
       "\\begin{enumerate*}\n",
       "\\item 'Whiplash'\n",
       "\\item 'Star Wars'\n",
       "\\item 'The Ring'\n",
       "\\item 'The Artist'\n",
       "\\end{enumerate*}\n"
      ],
      "text/markdown": [
       "1. 'Whiplash'\n",
       "2. 'Star Wars'\n",
       "3. 'The Ring'\n",
       "4. 'The Artist'\n",
       "\n",
       "\n"
      ],
      "text/plain": [
       "[1] \"Whiplash\"   \"Star Wars\"  \"The Ring\"   \"The Artist\""
      ]
     },
     "metadata": {},
     "output_type": "display_data"
    },
    {
     "data": {
      "text/html": [
       "<style>\n",
       ".list-inline {list-style: none; margin:0; padding: 0}\n",
       ".list-inline>li {display: inline-block}\n",
       ".list-inline>li:not(:last-child)::after {content: \"\\00b7\"; padding: 0 .5ex}\n",
       "</style>\n",
       "<ol class=list-inline><li>4</li><li>3</li></ol>\n"
      ],
      "text/latex": [
       "\\begin{enumerate*}\n",
       "\\item 4\n",
       "\\item 3\n",
       "\\end{enumerate*}\n"
      ],
      "text/markdown": [
       "1. 4\n",
       "2. 3\n",
       "\n",
       "\n"
      ],
      "text/plain": [
       "[1] 4 3"
      ]
     },
     "metadata": {},
     "output_type": "display_data"
    }
   ],
   "source": [
    "#access array elements\n",
    "\n",
    "movie_array[1,2] #[row, column]\n",
    "movie_array[1,]\n",
    "movie_array[,2]\n",
    "\n",
    "#get the dimension\n",
    "dim(movie_array)"
   ]
  },
  {
   "cell_type": "code",
   "execution_count": 7,
   "id": "c537d484-b68d-4b6f-b09f-944c66edf006",
   "metadata": {},
   "outputs": [
    {
     "data": {
      "text/html": [
       "<table>\n",
       "<caption>A matrix: 3 × 3 of type dbl</caption>\n",
       "<tbody>\n",
       "\t<tr><td>125</td><td> 81</td><td> 95</td></tr>\n",
       "\t<tr><td> 81</td><td>106</td><td>100</td></tr>\n",
       "\t<tr><td>118</td><td>121</td><td>104</td></tr>\n",
       "</tbody>\n",
       "</table>\n"
      ],
      "text/latex": [
       "A matrix: 3 × 3 of type dbl\n",
       "\\begin{tabular}{lll}\n",
       "\t 125 &  81 &  95\\\\\n",
       "\t  81 & 106 & 100\\\\\n",
       "\t 118 & 121 & 104\\\\\n",
       "\\end{tabular}\n"
      ],
      "text/markdown": [
       "\n",
       "A matrix: 3 × 3 of type dbl\n",
       "\n",
       "| 125 |  81 |  95 |\n",
       "|  81 | 106 | 100 |\n",
       "| 118 | 121 | 104 |\n",
       "\n"
      ],
      "text/plain": [
       "     [,1] [,2] [,3]\n",
       "[1,] 125   81   95 \n",
       "[2,]  81  106  100 \n",
       "[3,] 118  121  104 "
      ]
     },
     "metadata": {},
     "output_type": "display_data"
    }
   ],
   "source": [
    "#do math on arrays\n",
    "length_vector <- c(125, 81, 118, 81, 106, 121, 95, 100, 104)\n",
    "length_array <- array(length_vector, dim = c(3,3))\n",
    "length_array"
   ]
  },
  {
   "cell_type": "code",
   "execution_count": 8,
   "id": "0c5fbedd-3020-4be3-8c8f-ab3a8dae6a42",
   "metadata": {},
   "outputs": [
    {
     "data": {
      "text/html": [
       "<table>\n",
       "<caption>A matrix: 3 × 3 of type dbl</caption>\n",
       "<tbody>\n",
       "\t<tr><td>130</td><td> 86</td><td>100</td></tr>\n",
       "\t<tr><td> 86</td><td>111</td><td>105</td></tr>\n",
       "\t<tr><td>123</td><td>126</td><td>109</td></tr>\n",
       "</tbody>\n",
       "</table>\n"
      ],
      "text/latex": [
       "A matrix: 3 × 3 of type dbl\n",
       "\\begin{tabular}{lll}\n",
       "\t 130 &  86 & 100\\\\\n",
       "\t  86 & 111 & 105\\\\\n",
       "\t 123 & 126 & 109\\\\\n",
       "\\end{tabular}\n"
      ],
      "text/markdown": [
       "\n",
       "A matrix: 3 × 3 of type dbl\n",
       "\n",
       "| 130 |  86 | 100 |\n",
       "|  86 | 111 | 105 |\n",
       "| 123 | 126 | 109 |\n",
       "\n"
      ],
      "text/plain": [
       "     [,1] [,2] [,3]\n",
       "[1,] 130   86  100 \n",
       "[2,]  86  111  105 \n",
       "[3,] 123  126  109 "
      ]
     },
     "metadata": {},
     "output_type": "display_data"
    }
   ],
   "source": [
    "length_array + 5"
   ]
  },
  {
   "cell_type": "code",
   "execution_count": 10,
   "id": "1170ae82-ba72-499d-9438-e2702ec9da9d",
   "metadata": {},
   "outputs": [
    {
     "data": {
      "text/html": [
       "<table>\n",
       "<caption>A matrix: 3 × 3 of type lgl</caption>\n",
       "<tbody>\n",
       "\t<tr><td> TRUE</td><td>FALSE</td><td>FALSE</td></tr>\n",
       "\t<tr><td>FALSE</td><td>FALSE</td><td>FALSE</td></tr>\n",
       "\t<tr><td>FALSE</td><td> TRUE</td><td>FALSE</td></tr>\n",
       "</tbody>\n",
       "</table>\n"
      ],
      "text/latex": [
       "A matrix: 3 × 3 of type lgl\n",
       "\\begin{tabular}{lll}\n",
       "\t  TRUE & FALSE & FALSE\\\\\n",
       "\t FALSE & FALSE & FALSE\\\\\n",
       "\t FALSE &  TRUE & FALSE\\\\\n",
       "\\end{tabular}\n"
      ],
      "text/markdown": [
       "\n",
       "A matrix: 3 × 3 of type lgl\n",
       "\n",
       "|  TRUE | FALSE | FALSE |\n",
       "| FALSE | FALSE | FALSE |\n",
       "| FALSE |  TRUE | FALSE |\n",
       "\n"
      ],
      "text/plain": [
       "     [,1]  [,2]  [,3] \n",
       "[1,]  TRUE FALSE FALSE\n",
       "[2,] FALSE FALSE FALSE\n",
       "[3,] FALSE  TRUE FALSE"
      ]
     },
     "metadata": {},
     "output_type": "display_data"
    }
   ],
   "source": [
    "#logical conditions to subset arrays\n",
    "\n",
    "mask_array <- length_array > 120\n",
    "mask_array"
   ]
  },
  {
   "cell_type": "code",
   "execution_count": 11,
   "id": "86fa0719-a322-46ef-92d7-0a35a9c78a09",
   "metadata": {},
   "outputs": [
    {
     "data": {
      "text/html": [
       "<style>\n",
       ".list-inline {list-style: none; margin:0; padding: 0}\n",
       ".list-inline>li {display: inline-block}\n",
       ".list-inline>li:not(:last-child)::after {content: \"\\00b7\"; padding: 0 .5ex}\n",
       "</style>\n",
       "<ol class=list-inline><li>'Akira'</li><li>'Star Wars'</li></ol>\n"
      ],
      "text/latex": [
       "\\begin{enumerate*}\n",
       "\\item 'Akira'\n",
       "\\item 'Star Wars'\n",
       "\\end{enumerate*}\n"
      ],
      "text/markdown": [
       "1. 'Akira'\n",
       "2. 'Star Wars'\n",
       "\n",
       "\n"
      ],
      "text/plain": [
       "[1] \"Akira\"     \"Star Wars\""
      ]
     },
     "metadata": {},
     "output_type": "display_data"
    }
   ],
   "source": [
    "x_vector <- c(\"Akira\", \"Toy Story\", \"Room\", \"The Wave\", \"Whiplash\",\n",
    "              \"Star Wars\", \"The Ring\", \"The Artist\", \"Jumanji\")\n",
    "x_array <- array(x_vector, dim = c(3,3))\n",
    "\n",
    "x_array[mask_array]"
   ]
  },
  {
   "cell_type": "code",
   "execution_count": 12,
   "id": "f5a60887-8758-46cf-9ef5-83408fcc38fb",
   "metadata": {},
   "outputs": [],
   "source": [
    "#matrix\n",
    "# Matrices are a subtype of arrays. A matrix must have 2 dimensions,"
   ]
  },
  {
   "cell_type": "code",
   "execution_count": 13,
   "id": "09dc0399-075f-44d5-84e5-41e3e9efb233",
   "metadata": {},
   "outputs": [
    {
     "data": {
      "text/html": [
       "<table>\n",
       "<caption>A matrix: 3 × 3 of type chr</caption>\n",
       "<tbody>\n",
       "\t<tr><td>Akira    </td><td>The Wave </td><td>The Ring  </td></tr>\n",
       "\t<tr><td>Toy Story</td><td>Whiplash </td><td>The Artist</td></tr>\n",
       "\t<tr><td>Room     </td><td>Star Wars</td><td>Jumanji   </td></tr>\n",
       "</tbody>\n",
       "</table>\n"
      ],
      "text/latex": [
       "A matrix: 3 × 3 of type chr\n",
       "\\begin{tabular}{lll}\n",
       "\t Akira     & The Wave  & The Ring  \\\\\n",
       "\t Toy Story & Whiplash  & The Artist\\\\\n",
       "\t Room      & Star Wars & Jumanji   \\\\\n",
       "\\end{tabular}\n"
      ],
      "text/markdown": [
       "\n",
       "A matrix: 3 × 3 of type chr\n",
       "\n",
       "| Akira     | The Wave  | The Ring   |\n",
       "| Toy Story | Whiplash  | The Artist |\n",
       "| Room      | Star Wars | Jumanji    |\n",
       "\n"
      ],
      "text/plain": [
       "     [,1]      [,2]      [,3]      \n",
       "[1,] Akira     The Wave  The Ring  \n",
       "[2,] Toy Story Whiplash  The Artist\n",
       "[3,] Room      Star Wars Jumanji   "
      ]
     },
     "metadata": {},
     "output_type": "display_data"
    }
   ],
   "source": [
    "movie_matrix <- matrix(movie_vector, nrow = 3, ncol = 3)\n",
    "movie_matrix"
   ]
  },
  {
   "cell_type": "code",
   "execution_count": 14,
   "id": "4eccdba9-4a7e-4bf4-a03f-3b466d479320",
   "metadata": {},
   "outputs": [
    {
     "data": {
      "text/html": [
       "'Akira'"
      ],
      "text/latex": [
       "'Akira'"
      ],
      "text/markdown": [
       "'Akira'"
      ],
      "text/plain": [
       "[1] \"Akira\""
      ]
     },
     "metadata": {},
     "output_type": "display_data"
    },
    {
     "data": {
      "text/html": [
       "<table>\n",
       "<caption>A matrix: 2 × 2 of type chr</caption>\n",
       "<tbody>\n",
       "\t<tr><td>Toy Story</td><td>Whiplash </td></tr>\n",
       "\t<tr><td>Room     </td><td>Star Wars</td></tr>\n",
       "</tbody>\n",
       "</table>\n"
      ],
      "text/latex": [
       "A matrix: 2 × 2 of type chr\n",
       "\\begin{tabular}{ll}\n",
       "\t Toy Story & Whiplash \\\\\n",
       "\t Room      & Star Wars\\\\\n",
       "\\end{tabular}\n"
      ],
      "text/markdown": [
       "\n",
       "A matrix: 2 × 2 of type chr\n",
       "\n",
       "| Toy Story | Whiplash  |\n",
       "| Room      | Star Wars |\n",
       "\n"
      ],
      "text/plain": [
       "     [,1]      [,2]     \n",
       "[1,] Toy Story Whiplash \n",
       "[2,] Room      Star Wars"
      ]
     },
     "metadata": {},
     "output_type": "display_data"
    }
   ],
   "source": [
    "#accessing elements of a matrix\n",
    "movie_matrix[1,1]\n",
    "movie_matrix[2:3, 1:2]"
   ]
  },
  {
   "cell_type": "code",
   "execution_count": 16,
   "id": "4726bd88-9b8c-498e-a473-e38ff4c8706a",
   "metadata": {},
   "outputs": [
    {
     "data": {
      "text/html": [
       "<style>\n",
       ".list-inline {list-style: none; margin:0; padding: 0}\n",
       ".list-inline>li {display: inline-block}\n",
       ".list-inline>li:not(:last-child)::after {content: \"\\00b7\"; padding: 0 .5ex}\n",
       "</style>\n",
       "<ol class=list-inline><li>'Fast and Furious 8'</li><li>'xXx: Return of Xander Cage'</li><li>'Suicide Squad'</li></ol>\n"
      ],
      "text/latex": [
       "\\begin{enumerate*}\n",
       "\\item 'Fast and Furious 8'\n",
       "\\item 'xXx: Return of Xander Cage'\n",
       "\\item 'Suicide Squad'\n",
       "\\end{enumerate*}\n"
      ],
      "text/markdown": [
       "1. 'Fast and Furious 8'\n",
       "2. 'xXx: Return of Xander Cage'\n",
       "3. 'Suicide Squad'\n",
       "\n",
       "\n"
      ],
      "text/plain": [
       "[1] \"Fast and Furious 8\"         \"xXx: Return of Xander Cage\"\n",
       "[3] \"Suicide Squad\"             "
      ]
     },
     "metadata": {},
     "output_type": "display_data"
    }
   ],
   "source": [
    "#concatenation\n",
    "upcoming_movie <- c(\"Fast and Furious 8\", \"xXx: Return of Xander Cage\", \"Suicide Squad\")\n",
    "upcoming_movie"
   ]
  },
  {
   "cell_type": "code",
   "execution_count": 17,
   "id": "9125b37b-121f-4c41-8e67-ec1eb7fcbd84",
   "metadata": {},
   "outputs": [],
   "source": [
    "new_vector <- c(movie_vector, upcoming_movie)"
   ]
  },
  {
   "cell_type": "code",
   "execution_count": 18,
   "id": "0c039707-6d10-4f6d-b0fb-7753967a3e60",
   "metadata": {},
   "outputs": [
    {
     "data": {
      "text/html": [
       "<style>\n",
       ".list-inline {list-style: none; margin:0; padding: 0}\n",
       ".list-inline>li {display: inline-block}\n",
       ".list-inline>li:not(:last-child)::after {content: \"\\00b7\"; padding: 0 .5ex}\n",
       "</style>\n",
       "<ol class=list-inline><li>'Akira'</li><li>'Toy Story'</li><li>'Room'</li><li>'The Wave'</li><li>'Whiplash'</li><li>'Star Wars'</li><li>'The Ring'</li><li>'The Artist'</li><li>'Jumanji'</li><li>'Fast and Furious 8'</li><li>'xXx: Return of Xander Cage'</li><li>'Suicide Squad'</li></ol>\n"
      ],
      "text/latex": [
       "\\begin{enumerate*}\n",
       "\\item 'Akira'\n",
       "\\item 'Toy Story'\n",
       "\\item 'Room'\n",
       "\\item 'The Wave'\n",
       "\\item 'Whiplash'\n",
       "\\item 'Star Wars'\n",
       "\\item 'The Ring'\n",
       "\\item 'The Artist'\n",
       "\\item 'Jumanji'\n",
       "\\item 'Fast and Furious 8'\n",
       "\\item 'xXx: Return of Xander Cage'\n",
       "\\item 'Suicide Squad'\n",
       "\\end{enumerate*}\n"
      ],
      "text/markdown": [
       "1. 'Akira'\n",
       "2. 'Toy Story'\n",
       "3. 'Room'\n",
       "4. 'The Wave'\n",
       "5. 'Whiplash'\n",
       "6. 'Star Wars'\n",
       "7. 'The Ring'\n",
       "8. 'The Artist'\n",
       "9. 'Jumanji'\n",
       "10. 'Fast and Furious 8'\n",
       "11. 'xXx: Return of Xander Cage'\n",
       "12. 'Suicide Squad'\n",
       "\n",
       "\n"
      ],
      "text/plain": [
       " [1] \"Akira\"                      \"Toy Story\"                 \n",
       " [3] \"Room\"                       \"The Wave\"                  \n",
       " [5] \"Whiplash\"                   \"Star Wars\"                 \n",
       " [7] \"The Ring\"                   \"The Artist\"                \n",
       " [9] \"Jumanji\"                    \"Fast and Furious 8\"        \n",
       "[11] \"xXx: Return of Xander Cage\" \"Suicide Squad\"             "
      ]
     },
     "metadata": {},
     "output_type": "display_data"
    }
   ],
   "source": [
    "new_vector"
   ]
  },
  {
   "cell_type": "code",
   "execution_count": null,
   "id": "51bc3149-8dc5-4ff3-89be-4e949d533db3",
   "metadata": {},
   "outputs": [],
   "source": []
  }
 ],
 "metadata": {
  "kernelspec": {
   "display_name": "R",
   "language": "R",
   "name": "conda-env-r-r"
  },
  "language_info": {
   "codemirror_mode": "r",
   "file_extension": ".r",
   "mimetype": "text/x-r-source",
   "name": "R",
   "pygments_lexer": "r",
   "version": "3.5.1"
  }
 },
 "nbformat": 4,
 "nbformat_minor": 5
}
