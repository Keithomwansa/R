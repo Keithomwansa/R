{
 "cells": [
  {
   "cell_type": "code",
   "execution_count": 1,
   "id": "93c6180e-7542-4f50-bbc3-def5fb80832b",
   "metadata": {},
   "outputs": [
    {
     "ename": "ERROR",
     "evalue": "Error in \"b\" + 13: non-numeric argument to binary operator\n",
     "execution_count": 1,
     "output_type": "error",
     "traceback": [
      "Error in \"b\" + 13: non-numeric argument to binary operator\nTraceback:\n"
     ]
    }
   ],
   "source": [
    "#code will run with error\n",
    "\n",
    "\"b\" + 13"
   ]
  },
  {
   "cell_type": "code",
   "execution_count": 4,
   "id": "38dbc07b-8a3e-4ead-a316-69f5d0bf0d11",
   "metadata": {},
   "outputs": [
    {
     "ename": "ERROR",
     "evalue": "Error in \"c\" * i: non-numeric argument to binary operator\n",
     "execution_count": 4,
     "output_type": "error",
     "traceback": [
      "Error in \"c\" * i: non-numeric argument to binary operator\nTraceback:\n",
      "1. print(\"c\" * i)"
     ]
    }
   ],
   "source": [
    "#another error, example\n",
    "\n",
    "for (i in 4:16){\n",
    "    #for all numbers from 4 to 15\n",
    "    \n",
    "    print( \"c\" * i)\n",
    "    }"
   ]
  },
  {
   "cell_type": "code",
   "execution_count": 5,
   "id": "1a4ea8f5-58fe-4f02-8a3a-536634e3a3b7",
   "metadata": {},
   "outputs": [
    {
     "data": {
      "text/html": [
       "20"
      ],
      "text/latex": [
       "20"
      ],
      "text/markdown": [
       "20"
      ],
      "text/plain": [
       "[1] 20"
      ]
     },
     "metadata": {},
     "output_type": "display_data"
    },
    {
     "ename": "ERROR",
     "evalue": "Error in \"a\" + 10: non-numeric argument to binary operator\n",
     "execution_count": 5,
     "output_type": "error",
     "traceback": [
      "Error in \"a\" + 10: non-numeric argument to binary operator\nTraceback:\n",
      "1. tryCatch(\"a\" + 10)",
      "2. tryCatchList(expr, classes, parentenv, handlers)"
     ]
    }
   ],
   "source": [
    "#tryCatch\n",
    "tryCatch(10 + 10)\n",
    "tryCatch(\"a\" + 10) #Error"
   ]
  },
  {
   "cell_type": "code",
   "execution_count": 6,
   "id": "4e890e9b-d231-4660-aa0b-e222862c0757",
   "metadata": {},
   "outputs": [
    {
     "name": "stdout",
     "output_type": "stream",
     "text": [
      "[1] \"Oops, something went wrong!\"\n"
     ]
    }
   ],
   "source": [
    "#If tryCatch detects it will cause an error, print a message instead. Overall, no error is generated and the code continued to run successfully.\n",
    "\n",
    "tryCatch(10 + \"a\", \n",
    "         error = function(e) print(\"Oops, something went wrong!\") ) #No error"
   ]
  },
  {
   "cell_type": "code",
   "execution_count": 7,
   "id": "d9fd1569-1cfb-4f56-b839-96bdef1bba9c",
   "metadata": {},
   "outputs": [
    {
     "data": {
      "text/html": [
       "'10a'"
      ],
      "text/latex": [
       "'10a'"
      ],
      "text/markdown": [
       "'10a'"
      ],
      "text/plain": [
       "[1] \"10a\""
      ]
     },
     "metadata": {},
     "output_type": "display_data"
    }
   ],
   "source": [
    "#If error, return \"10a\" without an error\n",
    "\n",
    "x <- tryCatch(10 + \"a\", error = function(e) return(\"10a\") ) #No error\n",
    "x"
   ]
  },
  {
   "cell_type": "code",
   "execution_count": 8,
   "id": "a19a4f2d-b14c-4b79-91ed-86f9e55eb0fd",
   "metadata": {},
   "outputs": [
    {
     "name": "stdout",
     "output_type": "stream",
     "text": [
      "[1] \"Found error.\"\n"
     ]
    }
   ],
   "source": [
    "tryCatch(\n",
    "    for(i in 1:3){\n",
    "        #for every number, i, in the sequence of 1,2,3:\n",
    "        print(i + \"a\")\n",
    "        }\n",
    "    , error = function(e) print(\"Found error.\") )"
   ]
  },
  {
   "cell_type": "code",
   "execution_count": 9,
   "id": "77ee5b20-d34e-4e62-98f9-a4b284c53701",
   "metadata": {},
   "outputs": [
    {
     "name": "stderr",
     "output_type": "stream",
     "text": [
      "Warning message in eval(expr, envir, enclos):\n",
      "“NAs introduced by coercion”"
     ]
    },
    {
     "data": {
      "text/html": [
       "&lt;NA&gt;"
      ],
      "text/latex": [
       "<NA>"
      ],
      "text/markdown": [
       "&lt;NA&gt;"
      ],
      "text/plain": [
       "[1] NA"
      ]
     },
     "metadata": {},
     "output_type": "display_data"
    }
   ],
   "source": [
    "as.integer(\"A\") #Converting \"A\" into an integer warns the user that the value is converted to NA"
   ]
  },
  {
   "cell_type": "code",
   "execution_count": 10,
   "id": "8c5e58f8-8ef9-423b-8184-d64c43327ff6",
   "metadata": {},
   "outputs": [
    {
     "name": "stderr",
     "output_type": "stream",
     "text": [
      "Warning message in eval(expr, envir, enclos):\n",
      "“NAs introduced by coercion”"
     ]
    },
    {
     "data": {
      "text/html": [
       "&lt;NA&gt;"
      ],
      "text/latex": [
       "<NA>"
      ],
      "text/markdown": [
       "&lt;NA&gt;"
      ],
      "text/plain": [
       "[1] NA"
      ]
     },
     "metadata": {},
     "output_type": "display_data"
    }
   ],
   "source": [
    "#warnings\n",
    "as.integer(\"A\") #Converting \"A\" into an integer warns the user that the value is converted to NA"
   ]
  },
  {
   "cell_type": "code",
   "execution_count": null,
   "id": "59a27422-c823-46d2-b5d7-15f7bab68e70",
   "metadata": {},
   "outputs": [],
   "source": []
  }
 ],
 "metadata": {
  "kernelspec": {
   "display_name": "R",
   "language": "R",
   "name": "conda-env-r-r"
  },
  "language_info": {
   "codemirror_mode": "r",
   "file_extension": ".r",
   "mimetype": "text/x-r-source",
   "name": "R",
   "pygments_lexer": "r",
   "version": "3.5.1"
  }
 },
 "nbformat": 4,
 "nbformat_minor": 5
}
